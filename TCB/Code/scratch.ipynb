{
 "cells": [
  {
   "attachments": {},
   "cell_type": "markdown",
   "metadata": {},
   "source": [
    "Features to be added!\n",
    "7/7/23\n",
    "\n",
    "1. Raw drawing import - scaling\n",
    "2. Mask cleanup\n",
    "3. Mask Optimization"
   ]
  },
  {
   "cell_type": "code",
   "execution_count": 1,
   "metadata": {},
   "outputs": [],
   "source": [
    "#%%\n",
    "# Updated 10/12/2023 by Michael Tan\n",
    "# Utilized for importing DXF shapes (curated file), generating a mask, than outputting a dxf\n",
    "# Parsing DXF\n",
    "import ezdxf as ez\n",
    "# Maths\n",
    "import numpy as np\n",
    "import pandas as pd\n",
    "# Shapes\n",
    "import shapely.geometry as spg\n",
    "from shapely.ops import unary_union, polygonize\n",
    "import warnings\n",
    "warnings.simplefilter(action='ignore', category=FutureWarning) # setting ignore as a parameter and further adding category\n",
    "import pandas\n",
    "from descartes import PolygonPatch\n",
    "from shapely import affinity\n",
    "# Plotting\n",
    "import pylab as pl\n",
    "import matplotlib.pyplot as plt\n",
    "\n",
    "# Misc\n",
    "import os\n",
    "import statistics\n",
    "import geopandas as gpd\n",
    "from sklearn.cluster import DBSCAN\n"
   ]
  },
  {
   "cell_type": "code",
   "execution_count": 2,
   "metadata": {},
   "outputs": [],
   "source": [
    "class loaddxf():\n",
    "    # This is a class object for loading a single DXF file\n",
    "    def __init__(self,fn,scaledrawing=1):\n",
    "        # Initialization\n",
    "        self.fn = fn\n",
    "        self.dbf = False #debug flag\n",
    "        self.components = []\n",
    "        self.cnames = []\n",
    "        self.scaler = scaledrawing\n",
    "        \n",
    "    def loaddrawing(self):\n",
    "        # Import DXF as a ezdxf object. \n",
    "        doc = ez.readfile(self.fn)\n",
    "        msp = doc.modelspace()\n",
    "        # Iterate through all items\n",
    "        for e in msp:\n",
    "            if self.dbf == True:\n",
    "                print(e.dxf.layer)\n",
    "                print(e.dxftype())\n",
    "            # If we encounter \"PKG_OUTLINE\" layer, export it to self.pkgout\n",
    "            if e.dxf.layer == 'PKG_OUTLINE':\n",
    "                if e.dxftype() == 'LWPOLYLINE':\n",
    "                    #print(e.vertices(),e.dxftype())\n",
    "                    p = e.get_points()\n",
    "                    # update later to add polygon\n",
    "                    self.pkgout = spg.box(min(p)[0],min(p)[1],max(p)[0],max(p)[1])\n",
    "                    #print(\"Package Outline: \")\n",
    "                    self.pkgout\n",
    "            # If we encounter Soldermask_pads_btm, export SOLID objects to a list of components\n",
    "            elif e.dxf.layer == 'SOLDERMASK_PADS_BTM':\n",
    "                if e.dxftype() == 'SOLID':\n",
    "                    if self.dbf == True:\n",
    "                        print(e.dxf.handle)\n",
    "                        print(e.vertices())\n",
    "                    self.cnames.append(e.dxf.handle)\n",
    "                    self.components.append(e.vertices())\n",
    "        print(str(len(self.components)) + \" objects have been found on BSR layer.\")\n",
    "        \n",
    "    def maptodataframe(self):\n",
    "        # Using the solid objects encountered, parse into a dataframe or 2.\n",
    "        P1X,P1Y = [],[]\n",
    "        P2X,P2Y = [],[]\n",
    "        P3X,P3Y = [],[]\n",
    "        P4X,P4Y = [],[]\n",
    "        CX,CY = [],[]\n",
    "        for comp in self.components:\n",
    "            # Identify point# 1 - bottom left corner\n",
    "            P1X.append(comp[0][0]*self.scaler)\n",
    "            P1Y.append(comp[0][1]*self.scaler)\n",
    "            P3X.append(comp[2][0]*self.scaler)\n",
    "            P3Y.append(comp[2][1]*self.scaler)\n",
    "            P2X.append(comp[1][0]*self.scaler)\n",
    "            P2Y.append(comp[1][1]*self.scaler)\n",
    "            P4X.append(comp[3][0]*self.scaler)\n",
    "            P4Y.append(comp[3][1]*self.scaler)\n",
    "        # Sizes\n",
    "        DX = np.subtract(P3X, P1X)\n",
    "        DY = np.subtract(P3Y, P1Y)\n",
    "        # Centers\n",
    "        CX = np.add(P1X,DX/2)\n",
    "        CY = np.add(P1Y,DY/2)\n",
    "        # One DF with centers and corners\n",
    "        self.df = pd.DataFrame({\"CNAME\":self.cnames,\"X\":CX,\"Y\":CY,\"P1X\":P1X,\"P1Y\":P1Y,\"P3X\":P3X,\"P3Y\":P3Y})\n",
    "        self.df_full = pd.DataFrame({\"CNAME\":self.cnames,\"X\":CX,\"Y\":CY,\"P1X\":P1X,\"P1Y\":P1Y,\n",
    "                                     \"P2X\":P2X,\"P2Y\":P2Y,\n",
    "                                     \"P3X\":P3X,\"P3Y\":P3Y,\n",
    "                                     \"P4X\":P4X,\"P4Y\":P4Y})\n",
    "        df_m1 = pd.melt(self.df_full, id_vars=['CNAME'], value_vars=['P1X', 'P2X', \"P3X\", \"P4X\"], value_name = \"X\")\n",
    "        df_m2 = pd.melt(self.df_full, id_vars=['CNAME'], value_vars=['P1Y', 'P2Y', \"P3Y\", \"P4Y\"], value_name = \"Y\")\n",
    "        self.df_melt = pd.concat([df_m1,df_m2],axis=1)\n",
    "        self.df_points = self.df_melt[['X','Y']].values.tolist()\n",
    "        print(\"Completed mapping to dataframes df (center, size, corner points)\")\n",
    "\n",
    "    def maptolistofpoly(self):\n",
    "        # This is messy for now. We take points than shove it into a box. It would be better to go from dxf vector to polygon.\n",
    "        # Initialize an empty list\n",
    "        self.pg_cmp = []\n",
    "        for index, row in self.df.iterrows():\n",
    "            p1 = (row.P1X,row.P1Y,row.P3X,row.P3Y)\n",
    "            poly1 = spg.box(p1[0],p1[1],p1[2],p1[3])\n",
    "            self.pg_cmp.append(poly1)\n",
    "        print(\"pg_cmp is nominal position of all package components.\")\n",
    "            \n",
    "    def process(self):\n",
    "        # Load data\n",
    "        self.loaddrawing()\n",
    "        print(\"loaded raw drawing\")\n",
    "        # Map to dataframe\n",
    "        self.maptodataframe()\n",
    "        print(\"Mapped to dataframes\")\n",
    "        # Map to list of BOXES - no oversize. \n",
    "        self.maptolistofpoly()\n",
    "        print(\"mapped to polygons\")\n",
    "        print(\"Completed loading all the data\")\n",
    "        \n",
    "class generatemasks():\n",
    "    # Class used to generate a mask\n",
    "    def __init__(self,cmp,exp_cmp=0.65,exp_out=1):\n",
    "        # Initialize some variables\n",
    "        self.dbf = False #debug flag\n",
    "        self.cmp = cmp\n",
    "        # Variable to expand components - polygons are extended with a buffer function - magnitude\n",
    "        self.exp_cmp = exp_cmp\n",
    "        # Variable to expand outline - simple scaler/multiplier\n",
    "        self.exp_out = exp_out\n",
    "    \n",
    "    def process_cmp_outline(self):\n",
    "        # Create 3 masks: \n",
    "            # cmp_mask: component mask\n",
    "            # cmp_out: component outline\n",
    "            # diff_mask: Mask of the difference between outline & mask\n",
    "        # Combine all smaller polygons & expand with exp_cmp\n",
    "        bff_cmp = [x.buffer(self.exp_cmp).envelope.buffer(1).buffer(-1) for x in self.cmp]\n",
    "        self.bff_cmp_mask = unary_union(bff_cmp)\n",
    "        self.raw_cmp_mask = unary_union(self.cmp)\n",
    "        print(\"generated outline\")\n",
    "    \n",
    "    def process_cmp_interior(self):\n",
    "        \n",
    "        cmp_outline_mask = spg.box(self.bff_cmp_mask.bounds[0]-self.exp_out,self.bff_cmp_mask.bounds[1]-self.exp_out,\n",
    "            self.bff_cmp_mask.bounds[2]+self.exp_out,self.bff_cmp_mask.bounds[3]+self.exp_out)#.buffer(1500)\n",
    "        diff_mask = cmp_outline_mask.difference(self.bff_cmp_mask)\n",
    "        \n",
    "        if diff_mask.geom_type == 'MultiPolygon':\n",
    "            self.interior_sup_mask = spg.MultiPolygon([P.buffer(1).buffer(-1).simplify(0.05) for P in diff_mask.geoms if P.area < 50])\n",
    "            print(\"generated interior\")\n",
    "        elif diff_mask.geom_type == 'Polygon':\n",
    "            self.interior_sup_mask = False\n",
    "            print(\"No interior supports with single polygon\")\n",
    "\n",
    "    def process(self):\n",
    "        print(\"Running mask script\")\n",
    "        self.process_cmp_outline()\n",
    "        self.process_cmp_interior()\n",
    "        print(\"created component mask with: Expand = \" + str(self.exp_cmp) + \" and \" + str(self.exp_out) + \"x outline.\")\n",
    "        print(\"cmp_mask is raw mask, cmp_out is outline mask, diff_mask is outline-component\")\n",
    "        print(\"Completed\")\n",
    "     \n",
    "        \n",
    "class plotfun():\n",
    "    \n",
    "    def __init__(self,pkgout,raw_cmp_mask, bff_cmp_mask, interior_sup_mask):\n",
    "        # Initialize some variables\n",
    "        self.dbf = False #debug flag\n",
    "        self.raw_cmp_mask = raw_cmp_mask\n",
    "        self.bff_cmp_mask = bff_cmp_mask\n",
    "        self.interior_sup_mask = interior_sup_mask\n",
    "        self.pkgout = pkgout\n",
    "    \n",
    "    def plotstuff(self):\n",
    "        for geom in self.raw_cmp_mask.geoms:\n",
    "            plt.plot(*geom.exterior.xy, color='gray')\n",
    "        if type(self.raw_cmp_mask) == type(self.bff_cmp_mask):\n",
    "            for geom in self.bff_cmp_mask.geoms:\n",
    "                plt.plot(*geom.exterior.xy)\n",
    "        else:\n",
    "            plt.plot(*self.bff_cmp_mask.exterior.xy)\n",
    "        if self.interior_sup_mask is not False:\n",
    "            for geom in self.interior_sup_mask.geoms:\n",
    "                plt.plot(*geom.exterior.xy)\n",
    "        plt.plot(*self.pkgout.exterior.xy)\n",
    "        # Set (current) axis to be equal before showing plot\n",
    "        plt.gca().axis(\"equal\")\n",
    "        plt.show()\n",
    "    \n",
    "    def process(self):\n",
    "        self.plotstuff()\n"
   ]
  },
  {
   "cell_type": "code",
   "execution_count": 57,
   "metadata": {},
   "outputs": [
    {
     "name": "stdout",
     "output_type": "stream",
     "text": [
      "loading a single file\n",
      "File to process: E:\\Scripting\\MACD\\MACD\\TCB\\Examples\\raw\\M83192-001_BSR_r01 - Design Overlay.dxf\n",
      "976 objects have been found on BSR layer.\n",
      "loaded raw drawing\n",
      "Completed mapping to dataframes df (center, size, corner points)\n",
      "Mapped to dataframes\n",
      "pg_cmp is nominal position of all package components.\n",
      "mapped to polygons\n",
      "Completed loading all the data\n"
     ]
    }
   ],
   "source": [
    "print(\"loading a single file\")\n",
    "root = r\"E:\\Scripting\\MACD\\MACD\\TCB\"\n",
    "# dxf = \"M54481-001_BSR_r01.dxf\"\n",
    "# dxffile = r\"E:\\Scripting\\MACD\\MACD\\TCB\\Examples\\raw\\M59998-001_BSR_r01-Design Overlay.dxf\"\n",
    "# dxffile = r\"E:\\Scripting\\MACD\\MACD\\TCB\\Examples\\raw\\N10298-001_BSR_LLT_r01-Design Overlay.dxf\" # 2 rectangle shape\n",
    "# dxffile=  r\"E:\\Scripting\\MACD\\MACD\\TCB\\Examples\\raw\\N12687-001_BSR_LLT_r01-Design Overlay.dxf\"\n",
    "# dxffile = os.path.join(root,\"Examples\",\"raw\",dxf)\n",
    "dxffile = r\"E:\\Scripting\\MACD\\MACD\\TCB\\Examples\\raw\\M83192-001_BSR_r01 - Design Overlay.dxf\"\n",
    "print(\"File to process: \" + dxffile)\n",
    "rawdxf = loaddxf(dxffile,scaledrawing=0.001)\n",
    "rawdxf.process()\n",
    "# print(\"Generated pg_cmp, df, df_melt, and df_points\")\n",
    "# maskset = generatemasks(rawdxf.pg_cmp, 0.65)\n",
    "# maskset.process()\n",
    "# plotme = plotfun(rawdxf.pkgout,maskset.raw_cmp_mask, maskset.bff_cmp_mask, maskset.interior_sup_mask)\n",
    "# plotme.process()"
   ]
  },
  {
   "cell_type": "code",
   "execution_count": 58,
   "metadata": {},
   "outputs": [
    {
     "name": "stdout",
     "output_type": "stream",
     "text": [
      "Generating clusters in cavityID: 0\n",
      "Generating clusters in cavityID: 1\n",
      "   cavityID  interiorID  Freq\n",
      "0         0           0   248\n",
      "1         0           1   218\n",
      "2         0           2    22\n",
      "3         1           0   248\n",
      "4         1           1   218\n",
      "5         1           2    22\n"
     ]
    }
   ],
   "source": [
    "\n",
    "def cavitygrouping(pgrp):\n",
    "    df = gpd.GeoDataFrame(geometry=pgrp)\n",
    "    # preparation for dbscan\n",
    "    df['x'] = df['geometry'].centroid.x\n",
    "    df['y'] = df['geometry'].centroid.y\n",
    "    coords = df[[\"x\", \"y\"]].to_numpy()\n",
    "\n",
    "    EPS_DISTANCE = 6\n",
    "    dbscan = DBSCAN(eps=EPS_DISTANCE, min_samples=1)\n",
    "    clusters = dbscan.fit(coords)\n",
    "    labels = pd.Series(clusters.labels_).rename('cavityID')\n",
    "    df = pd.concat([df, labels], axis=1)\n",
    "    # print(df)\n",
    "    #list of interior clusters\n",
    "    dflist = []\n",
    "    \n",
    "    for cavityN in df['cavityID'].unique():\n",
    "        print(\"Generating clusters in cavityID: \" + str(cavityN))\n",
    "        dftemp = df.loc[df['cavityID']==cavityN].reset_index(drop=True)\n",
    "        coords = dftemp[[\"x\", \"y\"]].to_numpy()\n",
    "\n",
    "        EPS_DISTANCE = 1\n",
    "        dbscan = DBSCAN(eps=EPS_DISTANCE, min_samples=1)\n",
    "        clusters = dbscan.fit(coords)\n",
    "        labels = pd.Series(clusters.labels_).rename('interiorID')\n",
    "        dftemp = pd.concat([dftemp, labels], axis=1)\n",
    "        dflist.append(dftemp)\n",
    "        # print(dflist)\n",
    "    \n",
    "    if len(dflist) > 1:\n",
    "        dfall = pd.concat(dflist,axis=0).reset_index(drop=True)\n",
    "        df_clusters = dfall.groupby(['cavityID', 'interiorID']).size().reset_index(name='Freq')\n",
    "        print(df_clusters)\n",
    "    else:\n",
    "        dfall = dftemp\n",
    "\n",
    "    return(dfall)\n",
    "\n",
    "pgrp = rawdxf.pg_cmp\n",
    "df = cavitygrouping(pgrp)\n",
    "\n"
   ]
  },
  {
   "cell_type": "code",
   "execution_count": 59,
   "metadata": {},
   "outputs": [
    {
     "name": "stdout",
     "output_type": "stream",
     "text": [
      "Generating clusters in cavityID: 0\n",
      "Generating clusters in cavityID: 1\n",
      "   cavityID  interiorID  Freq\n",
      "0         0           0   248\n",
      "1         0           1   218\n",
      "2         0           2    22\n",
      "3         1           0   248\n",
      "4         1           1   218\n",
      "5         1           2    22\n"
     ]
    }
   ],
   "source": [
    "pgrp = rawdxf.pg_cmp\n",
    "df = cavitygrouping(pgrp)\n"
   ]
  },
  {
   "cell_type": "code",
   "execution_count": 62,
   "metadata": {},
   "outputs": [
    {
     "name": "stdout",
     "output_type": "stream",
     "text": [
      "These are the minimum distances observed from component to cutout exterior for CavityID: 0\n",
      "Left side: 0.4\n",
      "Bottom side: 0.4\n",
      "Right side: 0.4\n",
      "Top side: 0.4\n",
      "These are the minimum distances observed from component to cutout exterior for CavityID: 1\n",
      "Left side: 0.65\n",
      "Bottom side: 0.65\n",
      "Right side: 0.65\n",
      "Top side: 0.65\n"
     ]
    },
    {
     "data": {
      "text/plain": [
       "(-21.3081, 22.1221, -12.596800000000002, 12.346800000000002)"
      ]
     },
     "execution_count": 62,
     "metadata": {},
     "output_type": "execute_result"
    },
    {
     "data": {
      "image/png": "[encoded data removed]",
      "text/plain": [
       "<Figure size 432x288 with 1 Axes>"
      ]
     },
     "metadata": {
      "needs_background": "light"
     },
     "output_type": "display_data"
    }
   ],
   "source": [
    "import matplotlib\n",
    "import matplotlib.cm as cm\n",
    "# cmin = min(clusters.labels_)\n",
    "# cmax = max(clusters.labels_)\n",
    "norm = matplotlib.colors.Normalize(vmin=0, vmax=10, clip=True)\n",
    "mapper = cm.ScalarMappable(norm=norm, cmap=cm.viridis)\n",
    "boxmargin = 0.3\n",
    "\n",
    "cavityboxes = []\n",
    "subgroupboxes = []\n",
    "interiorboxes = []\n",
    "\n",
    "# colors = ['red', 'blue', 'green', 'orange']\n",
    "for cmpgrp in df['cavityID'].unique():\n",
    "    # Routine for Cavity\n",
    "    bboxdf = df['geometry'].loc[df['cavityID']==cmpgrp].bounds\n",
    "    cavitybox = spg.box(bboxdf.min()['minx']-boxmargin,bboxdf.min()['miny']-boxmargin,\n",
    "                    bboxdf.max()['maxx']+boxmargin,bboxdf.max()['maxy']+boxmargin)\n",
    "    cavityboxc = cavitybox.buffer(0.3,64)\n",
    "    print(\"These are the minimum distances observed from component to cutout exterior for CavityID: \" + str(cmpgrp))\n",
    "    print(\"Left side: \" + str(round(min(bboxdf['minx']-cavityboxc.bounds[0]),4)))\n",
    "    print(\"Bottom side: \" + str(round(min(bboxdf['miny']-cavityboxc.bounds[1]),4)))\n",
    "    print(\"Right side: \" + str(round(min(cavityboxc.bounds[2]-bboxdf['maxx']),4)))\n",
    "    print(\"Top side: \" + str(round(min(cavityboxc.bounds[3]-bboxdf['maxy']),4)))\n",
    "    plt.plot(*cavityboxc.exterior.xy)\n",
    "    for geom in df['geometry'].loc[df['cavityID']==cmpgrp]:\n",
    "        plt.plot(*geom.exterior.xy, color = mapper.to_rgba(cmpgrp))\n",
    "    # for geom in df['geometry'].loc[df['IslandID']==0]:\n",
    "    #     plt.plot(*geom.exterior.xy, color = 'red')\n",
    "    cavityboxes.append(cavityboxc)\n",
    "    # Routine for interiors\n",
    "    subgroupboxes = []\n",
    "    for cmpsubgrp in df['interiorID'].loc[df['cavityID']==cmpgrp].unique():\n",
    "        # print(cmpgrp)\n",
    "        # print(cmpsubgrp)\n",
    "        boxmargin = 0.65\n",
    "        subgrppts = df['geometry'].loc[(df['interiorID']==cmpsubgrp) & (df['cavityID']==cmpgrp)].bounds\n",
    "        subgrpbox = spg.box(subgrppts.min()['minx']-boxmargin,subgrppts.min()['miny']-boxmargin,\n",
    "                            subgrppts.max()['maxx']+boxmargin,subgrppts.max()['maxy']+boxmargin)\n",
    "        # print(subgrppts)\n",
    "        plt.plot(*subgrpbox.exterior.xy)\n",
    "        subgroupboxes.append(subgrpbox)\n",
    "    # tempbox = unary_union(subgroupboxes)\n",
    "    \n",
    "    \n",
    "    # tempbox = unary_union(pgrpbuff)\n",
    "    # # print(tempbox)\n",
    "    # # for temp in tempbox:\n",
    "    # #     plt.plot(*temp.exterior.xy)\n",
    "    # # plt.plot(*tempbox.exterior.xy)\n",
    "    # interiors = cavitybox.buffer(-.2).difference(tempbox)\n",
    "    # # plt.plot(*interiors.exterior.xy)\n",
    "    # intsupport = interiors.buffer(-.6).buffer(.3,64)\n",
    "    # # plt.plot(*intsupport.exterior.xy)\n",
    "\n",
    "    # interiorboxes.append(interiors)\n",
    "plt.gca().axis(\"equal\")\n",
    "# interiorboxes[0]"
   ]
  },
  {
   "cell_type": "code",
   "execution_count": 678,
   "metadata": {},
   "outputs": [],
   "source": [
    "tf = [x.area > 2 for x in pgrpbuff]"
   ]
  },
  {
   "cell_type": "code",
   "execution_count": 11,
   "metadata": {},
   "outputs": [
    {
     "ename": "NameError",
     "evalue": "name 'pgrpbuff' is not defined",
     "output_type": "error",
     "traceback": [
      "\u001b[1;31m---------------------------------------------------------------------------\u001b[0m",
      "\u001b[1;31mNameError\u001b[0m                                 Traceback (most recent call last)",
      "\u001b[1;32m<ipython-input-11-7f79deb9e0c7>\u001b[0m in \u001b[0;36m<module>\u001b[1;34m\u001b[0m\n\u001b[0;32m      1\u001b[0m \u001b[1;32mfrom\u001b[0m \u001b[0mitertools\u001b[0m \u001b[1;32mimport\u001b[0m \u001b[0mcompress\u001b[0m\u001b[1;33m\u001b[0m\u001b[1;33m\u001b[0m\u001b[0m\n\u001b[1;32m----> 2\u001b[1;33m \u001b[0mpgrpsmall\u001b[0m \u001b[1;33m=\u001b[0m \u001b[0mlist\u001b[0m\u001b[1;33m(\u001b[0m\u001b[0mcompress\u001b[0m\u001b[1;33m(\u001b[0m\u001b[0mpgrpbuff\u001b[0m\u001b[1;33m,\u001b[0m \u001b[0mtf\u001b[0m\u001b[1;33m)\u001b[0m\u001b[1;33m)\u001b[0m\u001b[1;33m\u001b[0m\u001b[1;33m\u001b[0m\u001b[0m\n\u001b[0m",
      "\u001b[1;31mNameError\u001b[0m: name 'pgrpbuff' is not defined"
     ]
    }
   ],
   "source": [
    "from itertools import compress\n",
    "pgrpsmall = list(compress(pgrpbuff, tf))"
   ]
  },
  {
   "cell_type": "code",
   "execution_count": 50,
   "metadata": {},
   "outputs": [],
   "source": [
    "from itertools import compress\n",
    "\n",
    "pgrpbuff = [x.buffer(.7).envelope for x in pgrp]\n",
    "tempmask = cavitybox.buffer(-.2).difference(unary_union(pgrpbuff))\n",
    "temp = list(compress(tempmask, [x.area > 0.5 for x in tempmask])) "
   ]
  },
  {
   "cell_type": "code",
   "execution_count": 51,
   "metadata": {},
   "outputs": [
    {
     "data": {
      "text/plain": [
       "(-12.7895752, 11.515479200000001, -4.8626255, 6.642395499999998)"
      ]
     },
     "execution_count": 51,
     "metadata": {},
     "output_type": "execute_result"
    },
    {
     "data": {
      "image/png": "[encoded data removed]",
      "text/plain": [
       "<Figure size 432x288 with 1 Axes>"
      ]
     },
     "metadata": {
      "needs_background": "light"
     },
     "output_type": "display_data"
    }
   ],
   "source": [
    "for geom in df['geometry'].loc[df['cavityID']==0]:\n",
    "    plt.plot(*geom.exterior.xy, color = mapper.to_rgba(0))\n",
    "for poly in temp:\n",
    "    plt.plot(*poly.exterior.xy)\n",
    "plt.gca().axis(\"equal\")"
   ]
  },
  {
   "cell_type": "code",
   "execution_count": 269,
   "metadata": {},
   "outputs": [],
   "source": [
    "df = gpd.GeoDataFrame(geometry=rawdxf.pg_cmp)\n",
    "\n",
    "# preparation for dbscan\n",
    "df['x'] = df['geometry'].centroid.x\n",
    "df['y'] = df['geometry'].centroid.y\n",
    "coords = df[[\"x\", \"y\"]].to_numpy()\n",
    "\n",
    "EPS_DISTANCE = 6\n",
    "MIN_SAMPLE_POLYGONS = 1\n",
    "dbscan = DBSCAN(eps=EPS_DISTANCE, min_samples=MIN_SAMPLE_POLYGONS)\n",
    "clusters = dbscan.fit(coords)\n",
    "labels = pd.Series(clusters.labels_).rename('IslandID')\n",
    "df = pd.concat([df, labels], axis=1)\n"
   ]
  },
  {
   "cell_type": "code",
   "execution_count": 499,
   "metadata": {},
   "outputs": [
    {
     "ename": "KeyError",
     "evalue": "'IslandID'",
     "output_type": "error",
     "traceback": [
      "\u001b[1;31m---------------------------------------------------------------------------\u001b[0m",
      "\u001b[1;31mKeyError\u001b[0m                                  Traceback (most recent call last)",
      "\u001b[1;32mc:\\Users\\mtan\\AppData\\Local\\Programs\\Python\\Python36\\lib\\site-packages\\pandas\\core\\indexes\\base.py\u001b[0m in \u001b[0;36mget_loc\u001b[1;34m(self, key, method, tolerance)\u001b[0m\n\u001b[0;32m   2897\u001b[0m             \u001b[1;32mtry\u001b[0m\u001b[1;33m:\u001b[0m\u001b[1;33m\u001b[0m\u001b[1;33m\u001b[0m\u001b[0m\n\u001b[1;32m-> 2898\u001b[1;33m                 \u001b[1;32mreturn\u001b[0m \u001b[0mself\u001b[0m\u001b[1;33m.\u001b[0m\u001b[0m_engine\u001b[0m\u001b[1;33m.\u001b[0m\u001b[0mget_loc\u001b[0m\u001b[1;33m(\u001b[0m\u001b[0mcasted_key\u001b[0m\u001b[1;33m)\u001b[0m\u001b[1;33m\u001b[0m\u001b[1;33m\u001b[0m\u001b[0m\n\u001b[0m\u001b[0;32m   2899\u001b[0m             \u001b[1;32mexcept\u001b[0m \u001b[0mKeyError\u001b[0m \u001b[1;32mas\u001b[0m \u001b[0merr\u001b[0m\u001b[1;33m:\u001b[0m\u001b[1;33m\u001b[0m\u001b[1;33m\u001b[0m\u001b[0m\n",
      "\u001b[1;32mpandas\\_libs\\index.pyx\u001b[0m in \u001b[0;36mpandas._libs.index.IndexEngine.get_loc\u001b[1;34m()\u001b[0m\n",
      "\u001b[1;32mpandas\\_libs\\index.pyx\u001b[0m in \u001b[0;36mpandas._libs.index.IndexEngine.get_loc\u001b[1;34m()\u001b[0m\n",
      "\u001b[1;32mpandas\\_libs\\hashtable_class_helper.pxi\u001b[0m in \u001b[0;36mpandas._libs.hashtable.PyObjectHashTable.get_item\u001b[1;34m()\u001b[0m\n",
      "\u001b[1;32mpandas\\_libs\\hashtable_class_helper.pxi\u001b[0m in \u001b[0;36mpandas._libs.hashtable.PyObjectHashTable.get_item\u001b[1;34m()\u001b[0m\n",
      "\u001b[1;31mKeyError\u001b[0m: 'IslandID'",
      "\nThe above exception was the direct cause of the following exception:\n",
      "\u001b[1;31mKeyError\u001b[0m                                  Traceback (most recent call last)",
      "\u001b[1;32m<ipython-input-499-c3e231a7c52b>\u001b[0m in \u001b[0;36m<module>\u001b[1;34m\u001b[0m\n\u001b[0;32m     10\u001b[0m \u001b[1;33m\u001b[0m\u001b[0m\n\u001b[0;32m     11\u001b[0m \u001b[1;31m# colors = ['red', 'blue', 'green', 'orange']\u001b[0m\u001b[1;33m\u001b[0m\u001b[1;33m\u001b[0m\u001b[1;33m\u001b[0m\u001b[0m\n\u001b[1;32m---> 12\u001b[1;33m \u001b[1;32mfor\u001b[0m \u001b[0mcmpgrp\u001b[0m \u001b[1;32min\u001b[0m \u001b[0mdf\u001b[0m\u001b[1;33m[\u001b[0m\u001b[1;34m'IslandID'\u001b[0m\u001b[1;33m]\u001b[0m\u001b[1;33m.\u001b[0m\u001b[0munique\u001b[0m\u001b[1;33m(\u001b[0m\u001b[1;33m)\u001b[0m\u001b[1;33m:\u001b[0m\u001b[1;33m\u001b[0m\u001b[1;33m\u001b[0m\u001b[0m\n\u001b[0m\u001b[0;32m     13\u001b[0m     \u001b[0mbboxdf\u001b[0m \u001b[1;33m=\u001b[0m \u001b[0mdf\u001b[0m\u001b[1;33m[\u001b[0m\u001b[1;34m'geometry'\u001b[0m\u001b[1;33m]\u001b[0m\u001b[1;33m.\u001b[0m\u001b[0mloc\u001b[0m\u001b[1;33m[\u001b[0m\u001b[0mdf\u001b[0m\u001b[1;33m[\u001b[0m\u001b[1;34m'IslandID'\u001b[0m\u001b[1;33m]\u001b[0m\u001b[1;33m==\u001b[0m\u001b[0mcmpgrp\u001b[0m\u001b[1;33m]\u001b[0m\u001b[1;33m.\u001b[0m\u001b[0mbounds\u001b[0m\u001b[1;33m\u001b[0m\u001b[1;33m\u001b[0m\u001b[0m\n\u001b[0;32m     14\u001b[0m     bboxl = spg.box(bboxdf.min()['minx']-boxmargin,bboxdf.min()['miny']-boxmargin,\n",
      "\u001b[1;32mc:\\Users\\mtan\\AppData\\Local\\Programs\\Python\\Python36\\lib\\site-packages\\geopandas\\geodataframe.py\u001b[0m in \u001b[0;36m__getitem__\u001b[1;34m(self, key)\u001b[0m\n\u001b[0;32m   1297\u001b[0m         \u001b[0mGeoDataFrame\u001b[0m\u001b[1;33m.\u001b[0m\u001b[1;33m\u001b[0m\u001b[1;33m\u001b[0m\u001b[0m\n\u001b[0;32m   1298\u001b[0m         \"\"\"\n\u001b[1;32m-> 1299\u001b[1;33m         \u001b[0mresult\u001b[0m \u001b[1;33m=\u001b[0m \u001b[0msuper\u001b[0m\u001b[1;33m(\u001b[0m\u001b[0mGeoDataFrame\u001b[0m\u001b[1;33m,\u001b[0m \u001b[0mself\u001b[0m\u001b[1;33m)\u001b[0m\u001b[1;33m.\u001b[0m\u001b[0m__getitem__\u001b[0m\u001b[1;33m(\u001b[0m\u001b[0mkey\u001b[0m\u001b[1;33m)\u001b[0m\u001b[1;33m\u001b[0m\u001b[1;33m\u001b[0m\u001b[0m\n\u001b[0m\u001b[0;32m   1300\u001b[0m         \u001b[0mgeo_col\u001b[0m \u001b[1;33m=\u001b[0m \u001b[0mself\u001b[0m\u001b[1;33m.\u001b[0m\u001b[0m_geometry_column_name\u001b[0m\u001b[1;33m\u001b[0m\u001b[1;33m\u001b[0m\u001b[0m\n\u001b[0;32m   1301\u001b[0m         \u001b[1;32mif\u001b[0m \u001b[0misinstance\u001b[0m\u001b[1;33m(\u001b[0m\u001b[0mresult\u001b[0m\u001b[1;33m,\u001b[0m \u001b[0mSeries\u001b[0m\u001b[1;33m)\u001b[0m \u001b[1;32mand\u001b[0m \u001b[0misinstance\u001b[0m\u001b[1;33m(\u001b[0m\u001b[0mresult\u001b[0m\u001b[1;33m.\u001b[0m\u001b[0mdtype\u001b[0m\u001b[1;33m,\u001b[0m \u001b[0mGeometryDtype\u001b[0m\u001b[1;33m)\u001b[0m\u001b[1;33m:\u001b[0m\u001b[1;33m\u001b[0m\u001b[1;33m\u001b[0m\u001b[0m\n",
      "\u001b[1;32mc:\\Users\\mtan\\AppData\\Local\\Programs\\Python\\Python36\\lib\\site-packages\\pandas\\core\\frame.py\u001b[0m in \u001b[0;36m__getitem__\u001b[1;34m(self, key)\u001b[0m\n\u001b[0;32m   2904\u001b[0m             \u001b[1;32mif\u001b[0m \u001b[0mself\u001b[0m\u001b[1;33m.\u001b[0m\u001b[0mcolumns\u001b[0m\u001b[1;33m.\u001b[0m\u001b[0mnlevels\u001b[0m \u001b[1;33m>\u001b[0m \u001b[1;36m1\u001b[0m\u001b[1;33m:\u001b[0m\u001b[1;33m\u001b[0m\u001b[1;33m\u001b[0m\u001b[0m\n\u001b[0;32m   2905\u001b[0m                 \u001b[1;32mreturn\u001b[0m \u001b[0mself\u001b[0m\u001b[1;33m.\u001b[0m\u001b[0m_getitem_multilevel\u001b[0m\u001b[1;33m(\u001b[0m\u001b[0mkey\u001b[0m\u001b[1;33m)\u001b[0m\u001b[1;33m\u001b[0m\u001b[1;33m\u001b[0m\u001b[0m\n\u001b[1;32m-> 2906\u001b[1;33m             \u001b[0mindexer\u001b[0m \u001b[1;33m=\u001b[0m \u001b[0mself\u001b[0m\u001b[1;33m.\u001b[0m\u001b[0mcolumns\u001b[0m\u001b[1;33m.\u001b[0m\u001b[0mget_loc\u001b[0m\u001b[1;33m(\u001b[0m\u001b[0mkey\u001b[0m\u001b[1;33m)\u001b[0m\u001b[1;33m\u001b[0m\u001b[1;33m\u001b[0m\u001b[0m\n\u001b[0m\u001b[0;32m   2907\u001b[0m             \u001b[1;32mif\u001b[0m \u001b[0mis_integer\u001b[0m\u001b[1;33m(\u001b[0m\u001b[0mindexer\u001b[0m\u001b[1;33m)\u001b[0m\u001b[1;33m:\u001b[0m\u001b[1;33m\u001b[0m\u001b[1;33m\u001b[0m\u001b[0m\n\u001b[0;32m   2908\u001b[0m                 \u001b[0mindexer\u001b[0m \u001b[1;33m=\u001b[0m \u001b[1;33m[\u001b[0m\u001b[0mindexer\u001b[0m\u001b[1;33m]\u001b[0m\u001b[1;33m\u001b[0m\u001b[1;33m\u001b[0m\u001b[0m\n",
      "\u001b[1;32mc:\\Users\\mtan\\AppData\\Local\\Programs\\Python\\Python36\\lib\\site-packages\\pandas\\core\\indexes\\base.py\u001b[0m in \u001b[0;36mget_loc\u001b[1;34m(self, key, method, tolerance)\u001b[0m\n\u001b[0;32m   2898\u001b[0m                 \u001b[1;32mreturn\u001b[0m \u001b[0mself\u001b[0m\u001b[1;33m.\u001b[0m\u001b[0m_engine\u001b[0m\u001b[1;33m.\u001b[0m\u001b[0mget_loc\u001b[0m\u001b[1;33m(\u001b[0m\u001b[0mcasted_key\u001b[0m\u001b[1;33m)\u001b[0m\u001b[1;33m\u001b[0m\u001b[1;33m\u001b[0m\u001b[0m\n\u001b[0;32m   2899\u001b[0m             \u001b[1;32mexcept\u001b[0m \u001b[0mKeyError\u001b[0m \u001b[1;32mas\u001b[0m \u001b[0merr\u001b[0m\u001b[1;33m:\u001b[0m\u001b[1;33m\u001b[0m\u001b[1;33m\u001b[0m\u001b[0m\n\u001b[1;32m-> 2900\u001b[1;33m                 \u001b[1;32mraise\u001b[0m \u001b[0mKeyError\u001b[0m\u001b[1;33m(\u001b[0m\u001b[0mkey\u001b[0m\u001b[1;33m)\u001b[0m \u001b[1;32mfrom\u001b[0m \u001b[0merr\u001b[0m\u001b[1;33m\u001b[0m\u001b[1;33m\u001b[0m\u001b[0m\n\u001b[0m\u001b[0;32m   2901\u001b[0m \u001b[1;33m\u001b[0m\u001b[0m\n\u001b[0;32m   2902\u001b[0m         \u001b[1;32mif\u001b[0m \u001b[0mtolerance\u001b[0m \u001b[1;32mis\u001b[0m \u001b[1;32mnot\u001b[0m \u001b[1;32mNone\u001b[0m\u001b[1;33m:\u001b[0m\u001b[1;33m\u001b[0m\u001b[1;33m\u001b[0m\u001b[0m\n",
      "\u001b[1;31mKeyError\u001b[0m: 'IslandID'"
     ]
    }
   ],
   "source": [
    "import matplotlib\n",
    "import matplotlib.cm as cm\n",
    "cmin = min(clusters.labels_)\n",
    "cmax = max(clusters.labels_)\n",
    "norm = matplotlib.colors.Normalize(vmin=cmin, vmax=cmax, clip=True)\n",
    "mapper = cm.ScalarMappable(norm=norm, cmap=cm.viridis)\n",
    "boxmargin = 0.3\n",
    "\n",
    "allboxes = []\n",
    "\n",
    "# colors = ['red', 'blue', 'green', 'orange']\n",
    "for cmpgrp in df['IslandID'].unique():\n",
    "    bboxdf = df['geometry'].loc[df['IslandID']==cmpgrp].bounds\n",
    "    bboxl = spg.box(bboxdf.min()['minx']-boxmargin,bboxdf.min()['miny']-boxmargin,\n",
    "                    bboxdf.max()['maxx']+boxmargin,bboxdf.max()['maxy']+boxmargin).buffer(0.3,64)\n",
    "    print(\"These are the minimum distances observed from component to cutout exterior:\")\n",
    "    print(\"Left side: \" + str(min(bboxdf['minx']-bboxl.bounds[0])))\n",
    "    print(\"Bottom side: \" + str(min(bboxdf['miny']-bboxl.bounds[1])))\n",
    "    print(\"Right side: \" + str(min(bboxl.bounds[2]-bboxdf['maxx'])))\n",
    "    print(\"Top side: \" + str(min(bboxl.bounds[3]-bboxdf['maxy'])))\n",
    "    plt.plot(*bboxl.exterior.xy)\n",
    "    for geom in df['geometry'].loc[df['IslandID']==cmpgrp]:\n",
    "        plt.plot(*geom.exterior.xy, color = mapper.to_rgba(cmpgrp))\n",
    "    # for geom in df['geometry'].loc[df['IslandID']==0]:\n",
    "    #     plt.plot(*geom.exterior.xy, color = 'red')\n",
    "    allboxes.append(bboxl)\n",
    "plt.gca().axis(\"equal\")"
   ]
  },
  {
   "cell_type": "code",
   "execution_count": 304,
   "metadata": {},
   "outputs": [],
   "source": [
    "dlist = []"
   ]
  },
  {
   "cell_type": "code",
   "execution_count": 306,
   "metadata": {},
   "outputs": [
    {
     "name": "stdout",
     "output_type": "stream",
     "text": [
      "                                              geometry          x         y  \\\n",
      "0    POLYGON ((9.31642 -7.92001, 9.31642 -7.62001, ...   9.156424 -7.770008   \n",
      "1    POLYGON ((9.31642 -7.42001, 9.31642 -7.12001, ...   9.156424 -7.270008   \n",
      "2    POLYGON ((3.56642 -7.92001, 3.56642 -7.62001, ...   3.406424 -7.770008   \n",
      "3    POLYGON ((3.56642 -7.42001, 3.56642 -7.12001, ...   3.406424 -7.270008   \n",
      "4    POLYGON ((10.45642 -7.92001, 10.45642 -7.62001...  10.296424 -7.770008   \n",
      "..                                                 ...        ...       ...   \n",
      "253  POLYGON ((13.30642 -5.09800, 13.30642 -4.79800...  13.146424 -4.947996   \n",
      "254  POLYGON ((-2.35354 -4.59800, -2.35354 -4.29800...  -2.513542 -4.447996   \n",
      "255  POLYGON ((-2.35354 -5.09800, -2.35354 -4.79800...  -2.513542 -4.947996   \n",
      "256  POLYGON ((-8.05354 -4.59800, -8.05354 -4.29800...  -8.213542 -4.447996   \n",
      "257  POLYGON ((-8.05354 -5.09800, -8.05354 -4.79800...  -8.213542 -4.947996   \n",
      "\n",
      "     IslandID  Interior_IslandID  \n",
      "0           1                  0  \n",
      "1           1                  0  \n",
      "2           1                  0  \n",
      "3           1                  0  \n",
      "4           1                  0  \n",
      "..        ...                ...  \n",
      "253         1                  0  \n",
      "254         1                  1  \n",
      "255         1                  1  \n",
      "256         1                  1  \n",
      "257         1                  1  \n",
      "\n",
      "[258 rows x 5 columns]\n"
     ]
    }
   ],
   "source": [
    "# Interiors:\n",
    "# preparation for dbscan\n",
    "# df['x'] = df['geometry'].centroid.x\n",
    "# df['y'] = df['geometry'].centroid.y\n",
    "dfint = df.loc[df['IslandID']==1].reset_index(drop=True)\n",
    "coords = dfint[[\"x\", \"y\"]].to_numpy()\n",
    "\n",
    "EPS_DISTANCE = 3\n",
    "MIN_SAMPLE_POLYGONS = 1\n",
    "dbscan = DBSCAN(eps=EPS_DISTANCE, min_samples=MIN_SAMPLE_POLYGONS)\n",
    "clusters = dbscan.fit(coords)\n",
    "labels = pd.Series(clusters.labels_).rename('Interior_IslandID')\n",
    "dfint = pd.concat([dfint, labels], axis=1)\n",
    "dlist.append(dfint)\n",
    "print(dfint)"
   ]
  },
  {
   "cell_type": "code",
   "execution_count": 307,
   "metadata": {},
   "outputs": [
    {
     "data": {
      "text/html": [
       "<div>\n",
       "<style scoped>\n",
       "    .dataframe tbody tr th:only-of-type {\n",
       "        vertical-align: middle;\n",
       "    }\n",
       "\n",
       "    .dataframe tbody tr th {\n",
       "        vertical-align: top;\n",
       "    }\n",
       "\n",
       "    .dataframe thead th {\n",
       "        text-align: right;\n",
       "    }\n",
       "</style>\n",
       "<table border=\"1\" class=\"dataframe\">\n",
       "  <thead>\n",
       "    <tr style=\"text-align: right;\">\n",
       "      <th></th>\n",
       "      <th>geometry</th>\n",
       "      <th>x</th>\n",
       "      <th>y</th>\n",
       "      <th>IslandID</th>\n",
       "      <th>Interior_IslandID</th>\n",
       "    </tr>\n",
       "  </thead>\n",
       "  <tbody>\n",
       "    <tr>\n",
       "      <th>0</th>\n",
       "      <td>POLYGON ((-2.76354 5.35940, -2.76354 5.67940, ...</td>\n",
       "      <td>-2.913542</td>\n",
       "      <td>5.519404</td>\n",
       "      <td>0</td>\n",
       "      <td>0</td>\n",
       "    </tr>\n",
       "    <tr>\n",
       "      <th>1</th>\n",
       "      <td>POLYGON ((-3.26354 5.35940, -3.26354 5.67940, ...</td>\n",
       "      <td>-3.413542</td>\n",
       "      <td>5.519404</td>\n",
       "      <td>0</td>\n",
       "      <td>0</td>\n",
       "    </tr>\n",
       "    <tr>\n",
       "      <th>2</th>\n",
       "      <td>POLYGON ((11.09642 5.92940, 11.09642 6.24940, ...</td>\n",
       "      <td>10.946424</td>\n",
       "      <td>6.089404</td>\n",
       "      <td>0</td>\n",
       "      <td>1</td>\n",
       "    </tr>\n",
       "    <tr>\n",
       "      <th>3</th>\n",
       "      <td>POLYGON ((11.59642 5.92940, 11.59642 6.24940, ...</td>\n",
       "      <td>11.446424</td>\n",
       "      <td>6.089404</td>\n",
       "      <td>0</td>\n",
       "      <td>1</td>\n",
       "    </tr>\n",
       "    <tr>\n",
       "      <th>4</th>\n",
       "      <td>POLYGON ((12.64642 6.49940, 12.64642 6.81940, ...</td>\n",
       "      <td>12.496424</td>\n",
       "      <td>6.659404</td>\n",
       "      <td>0</td>\n",
       "      <td>1</td>\n",
       "    </tr>\n",
       "    <tr>\n",
       "      <th>...</th>\n",
       "      <td>...</td>\n",
       "      <td>...</td>\n",
       "      <td>...</td>\n",
       "      <td>...</td>\n",
       "      <td>...</td>\n",
       "    </tr>\n",
       "    <tr>\n",
       "      <th>511</th>\n",
       "      <td>POLYGON ((13.30642 -5.09800, 13.30642 -4.79800...</td>\n",
       "      <td>13.146424</td>\n",
       "      <td>-4.947996</td>\n",
       "      <td>1</td>\n",
       "      <td>0</td>\n",
       "    </tr>\n",
       "    <tr>\n",
       "      <th>512</th>\n",
       "      <td>POLYGON ((-2.35354 -4.59800, -2.35354 -4.29800...</td>\n",
       "      <td>-2.513542</td>\n",
       "      <td>-4.447996</td>\n",
       "      <td>1</td>\n",
       "      <td>1</td>\n",
       "    </tr>\n",
       "    <tr>\n",
       "      <th>513</th>\n",
       "      <td>POLYGON ((-2.35354 -5.09800, -2.35354 -4.79800...</td>\n",
       "      <td>-2.513542</td>\n",
       "      <td>-4.947996</td>\n",
       "      <td>1</td>\n",
       "      <td>1</td>\n",
       "    </tr>\n",
       "    <tr>\n",
       "      <th>514</th>\n",
       "      <td>POLYGON ((-8.05354 -4.59800, -8.05354 -4.29800...</td>\n",
       "      <td>-8.213542</td>\n",
       "      <td>-4.447996</td>\n",
       "      <td>1</td>\n",
       "      <td>1</td>\n",
       "    </tr>\n",
       "    <tr>\n",
       "      <th>515</th>\n",
       "      <td>POLYGON ((-8.05354 -5.09800, -8.05354 -4.79800...</td>\n",
       "      <td>-8.213542</td>\n",
       "      <td>-4.947996</td>\n",
       "      <td>1</td>\n",
       "      <td>1</td>\n",
       "    </tr>\n",
       "  </tbody>\n",
       "</table>\n",
       "<p>516 rows × 5 columns</p>\n",
       "</div>"
      ],
      "text/plain": [
       "                                              geometry          x         y  \\\n",
       "0    POLYGON ((-2.76354 5.35940, -2.76354 5.67940, ...  -2.913542  5.519404   \n",
       "1    POLYGON ((-3.26354 5.35940, -3.26354 5.67940, ...  -3.413542  5.519404   \n",
       "2    POLYGON ((11.09642 5.92940, 11.09642 6.24940, ...  10.946424  6.089404   \n",
       "3    POLYGON ((11.59642 5.92940, 11.59642 6.24940, ...  11.446424  6.089404   \n",
       "4    POLYGON ((12.64642 6.49940, 12.64642 6.81940, ...  12.496424  6.659404   \n",
       "..                                                 ...        ...       ...   \n",
       "511  POLYGON ((13.30642 -5.09800, 13.30642 -4.79800...  13.146424 -4.947996   \n",
       "512  POLYGON ((-2.35354 -4.59800, -2.35354 -4.29800...  -2.513542 -4.447996   \n",
       "513  POLYGON ((-2.35354 -5.09800, -2.35354 -4.79800...  -2.513542 -4.947996   \n",
       "514  POLYGON ((-8.05354 -4.59800, -8.05354 -4.29800...  -8.213542 -4.447996   \n",
       "515  POLYGON ((-8.05354 -5.09800, -8.05354 -4.79800...  -8.213542 -4.947996   \n",
       "\n",
       "     IslandID  Interior_IslandID  \n",
       "0           0                  0  \n",
       "1           0                  0  \n",
       "2           0                  1  \n",
       "3           0                  1  \n",
       "4           0                  1  \n",
       "..        ...                ...  \n",
       "511         1                  0  \n",
       "512         1                  1  \n",
       "513         1                  1  \n",
       "514         1                  1  \n",
       "515         1                  1  \n",
       "\n",
       "[516 rows x 5 columns]"
      ]
     },
     "execution_count": 307,
     "metadata": {},
     "output_type": "execute_result"
    }
   ],
   "source": [
    "dfall = pd.concat(dlist,axis=0).reset_index(drop=True)\n",
    "dfall"
   ]
  },
  {
   "cell_type": "code",
   "execution_count": 448,
   "metadata": {},
   "outputs": [
    {
     "data": {
      "text/plain": [
       "[<matplotlib.lines.Line2D at 0x1a755d36dd8>]"
      ]
     },
     "execution_count": 448,
     "metadata": {},
     "output_type": "execute_result"
    },
    {
     "data": {
      "image/png": "[encoded data removed]",
      "text/plain": [
       "<Figure size 432x288 with 1 Axes>"
      ]
     },
     "metadata": {
      "needs_background": "light"
     },
     "output_type": "display_data"
    }
   ],
   "source": [
    "boxmargin = 0.6\n",
    "holeboxpts = dfall['geometry'].loc[dfall['IslandID']==0].bounds\n",
    "holebox = spg.box(holeboxpts.min()['minx']-boxmargin,holeboxpts.min()['miny']-boxmargin,\n",
    "                    holeboxpts.max()['maxx']+boxmargin,holeboxpts.max()['maxy']+boxmargin)\n",
    "groupbox1pts = dfall['geometry'].loc[(dfall['Interior_IslandID']==0) & (dfall['IslandID']==0)].bounds\n",
    "grpbox1 = spg.box(groupbox1pts.min()['minx']-boxmargin,groupbox1pts.min()['miny']-boxmargin,\n",
    "                    groupbox1pts.max()['maxx']+boxmargin,groupbox1pts.max()['maxy']+boxmargin)\n",
    "groupbox2pts = dfall['geometry'].loc[(dfall['Interior_IslandID']==1) & (dfall['IslandID']==0)].bounds\n",
    "grpbox2 = spg.box(groupbox2pts.min()['minx']-boxmargin,groupbox2pts.min()['miny']-boxmargin,\n",
    "                    groupbox2pts.max()['maxx']+boxmargin,groupbox2pts.max()['maxy']+boxmargin)\n",
    "plt.plot(*holebox.exterior.xy)\n",
    "# plt.plot(*grpbox1.exterior.xy)\n",
    "# plt.plot(*grpbox2.exterior.xy)\n",
    "for geom in dfall['geometry'].loc[dfall['IslandID']==0]:\n",
    "    plt.plot(*geom.exterior.xy, color = mapper.to_rgba(0))\n",
    "plt.gca().axis(\"equal\")\n",
    "tempbox = unary_union([grpbox1,grpbox2])\n",
    "gaps = holebox.difference(tempbox)\n",
    "intsupport = gaps.buffer(-.9).buffer(.3,64)\n",
    "plt.plot(*intsupport.exterior.xy)\n"
   ]
  },
  {
   "cell_type": "code",
   "execution_count": 368,
   "metadata": {},
   "outputs": [
    {
     "name": "stdout",
     "output_type": "stream",
     "text": [
      "2.819966\n",
      "4.822012000000001\n"
     ]
    }
   ],
   "source": [
    "gaph = gaps.bounds[2]-gaps.bounds[0]\n",
    "gapw = gaps.bounds[3]-gaps.bounds[1]\n",
    "print(gaph)\n",
    "print(gapw)"
   ]
  },
  {
   "cell_type": "code",
   "execution_count": null,
   "metadata": {},
   "outputs": [],
   "source": [
    "cavityar = holebox.bounds[2]-holebox.bounds[0] / holebox.bounds[3]-holebox.bounds[1]\n",
    "print(cavityar)\n",
    "gaph = gaps.bounds[2]-gaps.bounds[0]\n",
    "gapw = gaps.bounds[3]-gaps.bounds[1]\n",
    "gapar = gaph / gapw\n",
    "gapa = gaph * gapw"
   ]
  },
  {
   "cell_type": "code",
   "execution_count": 431,
   "metadata": {},
   "outputs": [
    {
     "name": "stdout",
     "output_type": "stream",
     "text": [
      "12.87723317463616\n",
      "Wide cavity\n",
      "Gap area of [13.597909891592002] below 50mm^2 limit, no interior features\n",
      "width or length are < 6mm, no splitting necessary\n",
      "generating single support structure with 0.6 buffer\n",
      "Gap area is: 13.597909891592002\n",
      "Gap width is: 4.822012000000001\n",
      "Gap height is: 2.819966\n",
      "Gap AR is: 0.5848110705655646\n"
     ]
    },
    {
     "data": {
      "image/png": "[encoded data removed]",
      "text/plain": [
       "<Figure size 432x288 with 1 Axes>"
      ]
     },
     "metadata": {
      "needs_background": "light"
     },
     "output_type": "display_data"
    }
   ],
   "source": [
    "\n",
    "\n",
    "if cavityar > 1:\n",
    "    print(\"Wide cavity\")\n",
    "    if gapa > 50:\n",
    "        print(\"Gap area of [\"+str(gapa)+\"] exceeds 50mm^2 limit, generating supports\")\n",
    "    else:\n",
    "        print(\"Gap area of [\"+str(gapa)+\"] below 50mm^2 limit, no interior features\")\n",
    "    if (gapw > 6) | (gaph > 6):\n",
    "        print(\"Gap dimensions exceed maximum single support length or width with L: [\"+str(gaph)+\"] , W: [\"+str(gapw)+\"].\")\n",
    "        print(\"Splitting support\")\n",
    "        if cavityar > 1:\n",
    "            print(\"Splitting into horizontal supports to align with cavity\")\n",
    "            \n",
    "\n",
    "else:\n",
    "    print(\"tall box\")\n",
    "islandgap = 1\n",
    "\n",
    "\n",
    "\n",
    "if (gapw < 6) | (gaph < 6):\n",
    "    print(\"width or length are < 6mm, no splitting necessary\")\n",
    "    print(\"generating single support structure with 0.6 buffer\")\n",
    "    intsupport = gaps.buffer(-.9).buffer(.3,64)\n",
    "    \n",
    "print(\"Gap area is: \" + str(gaps.area))\n",
    "print(\"Gap width is: \" + str(gapw))\n",
    "print(\"Gap height is: \" + str(gaph))\n",
    "print(\"Gap AR is: \" + str(gapar))\n",
    "\n",
    "plt.plot(*holebox.exterior.xy)\n",
    "# plt.plot(*grpbox1.exterior.xy)\n",
    "# plt.plot(*grpbox2.exterior.xy)\n",
    "plt.plot(*intsupport.exterior.xy)\n",
    "for geom in dfall['geometry'].loc[dfall['IslandID']==0]:\n",
    "    plt.plot(*geom.exterior.xy, color = mapper.to_rgba(0))\n",
    "plt.gca().axis(\"equal\")\n",
    "tempbox = unary_union([grpbox1,grpbox2])\n",
    "gaps = holebox.difference(tempbox)\n",
    "# plt.plot(*gaps.exterior.xy)"
   ]
  },
  {
   "cell_type": "code",
   "execution_count": 404,
   "metadata": {},
   "outputs": [
    {
     "data": {
      "text/plain": [
       "15"
      ]
     },
     "execution_count": 404,
     "metadata": {},
     "output_type": "execute_result"
    }
   ],
   "source": [
    "int(gapl)"
   ]
  },
  {
   "cell_type": "code",
   "execution_count": 430,
   "metadata": {},
   "outputs": [
    {
     "name": "stdout",
     "output_type": "stream",
     "text": [
      "3\n",
      "1\n",
      "0.9399886666666667\n",
      "[[(0, 0), (0, 1), (4, 1), (4, 0)], [(0, 1), (0, 2), (4, 2), (4, 1)], [(0, 2), (0, 3), (4, 3), (4, 2)]]\n",
      "[<shapely.geometry.polygon.Polygon object at 0x000001A7588654E0>, <shapely.geometry.polygon.Polygon object at 0x000001A7588656D8>, <shapely.geometry.polygon.Polygon object at 0x000001A758865710>]\n"
     ]
    }
   ],
   "source": [
    "import numpy as np\n",
    "import math\n",
    "\n",
    "supportwidth = 0.75\n",
    "\n",
    "h = gaph\n",
    "n_rows = int(gaph // supportwidth)\n",
    "print(n_rows)\n",
    "\n",
    "w = math.floor(gapw)\n",
    "n_cols = 1\n",
    "print(n_cols)\n",
    "\n",
    "offset_x = w / n_cols\n",
    "offset_y = h / n_rows\n",
    "\n",
    "print(offset_y)\n",
    "rectangles = []\n",
    "intsups = []\n",
    "for x in np.linspace(0, w, n_cols+1).tolist()[:-1]:\n",
    "    for y in np.linspace(0, h, n_rows+1).tolist()[:-1]:\n",
    "        x1 = int(round(x))\n",
    "        x2 = int(round(x + offset_x))\n",
    "        y1 = int(round(y))\n",
    "        y2 = int(round(y + offset_y))\n",
    "        supbox = spg.box(x1,y1,x2,y2)\n",
    "        rectangles.append([(x1, y1), (x1, y2), (x2, y2), (x2, y1)])\n",
    "        intsups.append(supbox)\n",
    "\n",
    "print(rectangles)\n",
    "print(intsups)"
   ]
  },
  {
   "cell_type": "code",
   "execution_count": 429,
   "metadata": {},
   "outputs": [
    {
     "data": {
      "image/png": "[encoded data removed]",
      "text/plain": [
       "<Figure size 432x288 with 1 Axes>"
      ]
     },
     "metadata": {
      "needs_background": "light"
     },
     "output_type": "display_data"
    }
   ],
   "source": [
    "for sup in intsups:\n",
    "    plt.plot(*sup.exterior.xy)\n"
   ]
  },
  {
   "cell_type": "code",
   "execution_count": 436,
   "metadata": {},
   "outputs": [],
   "source": [
    "import shapely.wkt, shapely.geometry\n",
    "import geopandas as gpd\n",
    "import numpy as np\n",
    "import pandas as pd\n",
    "\n",
    "def rect(polygon, n=None, size=None, tol=0, clip=True, include_poly=False):\n",
    "    assert (n is None and size is not None) or (n is not None and size is None)\n",
    "\n",
    "    a, b, c, d = gpd.GeoSeries(polygon).total_bounds\n",
    "    if not n is None:\n",
    "        xa = np.linspace(a, c, n + 1)\n",
    "        ya = np.linspace(b, d, n + 1)\n",
    "    else:\n",
    "        xa = np.arange(a, c + 1, size[0])\n",
    "        ya = np.arange(b, d + 1, size[1])\n",
    "\n",
    "    # offsets for tolerance\n",
    "    if tol != 0:\n",
    "        tol_xa = np.arange(0, tol * len(xa), tol)\n",
    "        tol_ya = np.arange(0, tol * len(ya), tol)\n",
    "\n",
    "    else:\n",
    "        tol_xa = np.zeros(len(xa))\n",
    "        tol_ya = np.zeros(len(ya))\n",
    "\n",
    "    # combine placements of x&y with tolerance\n",
    "    xat = np.repeat(xa, 2)[1:] + np.repeat(tol_xa, 2)[:-1]\n",
    "    yat = np.repeat(ya, 2)[1:] + np.repeat(tol_ya, 2)[:-1]\n",
    "\n",
    "    # create a grid\n",
    "    grid = gpd.GeoSeries(\n",
    "        [\n",
    "            shapely.geometry.box(minx, miny, maxx, maxy)\n",
    "            for minx, maxx in xat[:-1].reshape(len(xa) - 1, 2)\n",
    "            for miny, maxy in yat[:-1].reshape(len(ya) - 1, 2)\n",
    "        ]\n",
    "    )\n",
    "\n",
    "    # make sure all returned polygons are within boundary\n",
    "    if clip:\n",
    "        # grid = grid.loc[grid.within(gpd.GeoSeries(np.repeat([polygon], len(grid))))]\n",
    "        grid = gpd.sjoin(\n",
    "            gpd.GeoDataFrame(geometry=grid),\n",
    "            gpd.GeoDataFrame(geometry=[polygon]),\n",
    "            how=\"inner\"\n",
    "            # predicate=\"within\"\n",
    "        )[\"geometry\"]\n",
    "    # useful for visualisation\n",
    "    if include_poly:\n",
    "        grid = pd.concat(\n",
    "            [\n",
    "                grid,\n",
    "                gpd.GeoSeries(\n",
    "                    polygon.geoms\n",
    "                    if isinstance(polygon, shapely.geometry.MultiPolygon)\n",
    "                    else polygon\n",
    "                ),\n",
    "            ]\n",
    "        )\n",
    "    return grid"
   ]
  },
  {
   "cell_type": "code",
   "execution_count": 440,
   "metadata": {},
   "outputs": [
    {
     "data": {
      "image/png": "[encoded data removed]",
      "text/plain": [
       "<Figure size 432x288 with 1 Axes>"
      ]
     },
     "metadata": {
      "needs_background": "light"
     },
     "output_type": "display_data"
    }
   ],
   "source": []
  },
  {
   "cell_type": "code",
   "execution_count": 447,
   "metadata": {},
   "outputs": [
    {
     "data": {
      "text/plain": [
       "(-1.7845402999999997, 2.4174223, 3.4062914, 9.810504600000002)"
      ]
     },
     "execution_count": 447,
     "metadata": {},
     "output_type": "execute_result"
    },
    {
     "data": {
      "image/png": "[encoded data removed]",
      "text/plain": [
       "<Figure size 432x288 with 1 Axes>"
      ]
     },
     "metadata": {
      "needs_background": "light"
     },
     "output_type": "display_data"
    }
   ],
   "source": [
    "islands = rect(gaps, n=2, tol=1, clip=True, include_poly=True)\n",
    "# plt.plot(*gaps.exterior.xy)\n",
    "for sup in islands:\n",
    "    plt.plot(*sup.exterior.xy)\n",
    "plt.gca().axis(\"equal\")"
   ]
  },
  {
   "cell_type": "code",
   "execution_count": 444,
   "metadata": {},
   "outputs": [
    {
     "data": {
      "image/svg+xml": [
       "<svg xmlns=\"http://www.w3.org/2000/svg\" xmlns:xlink=\"http://www.w3.org/1999/xlink\" width=\"100.0\" height=\"100.0\" viewBox=\"-1.78642248 3.5045115200000003 3.2057269600000002 5.207772960000001\" preserveAspectRatio=\"xMinYMin meet\"><g transform=\"matrix(1,0,0,-1,0,12.216796000000002)\"><path fill-rule=\"evenodd\" fill=\"#66cc99\" stroke=\"#555555\" stroke-width=\"0.10415545920000001\" opacity=\"0.6\" d=\"M 1.2264240000000002,8.519404000000002 L 1.2264240000000002,3.6973920000000002 L -1.5935419999999998,3.6973920000000002 L -1.5935419999999998,8.519404000000002 L 1.2264240000000002,8.519404000000002 z\" /></g></svg>"
      ],
      "text/plain": [
       "<shapely.geometry.polygon.Polygon at 0x1a75888ca58>"
      ]
     },
     "execution_count": 444,
     "metadata": {},
     "output_type": "execute_result"
    }
   ],
   "source": [
    "gaps"
   ]
  },
  {
   "cell_type": "code",
   "execution_count": 290,
   "metadata": {},
   "outputs": [
    {
     "data": {
      "image/png": "[encoded data removed]",
      "text/plain": [
       "<Figure size 432x288 with 1 Axes>"
      ]
     },
     "metadata": {
      "needs_background": "light"
     },
     "output_type": "display_data"
    }
   ],
   "source": [
    "import matplotlib\n",
    "import matplotlib.cm as cm\n",
    "cmin = min(clusters.labels_)\n",
    "cmax = max(clusters.labels_)\n",
    "norm = matplotlib.colors.Normalize(vmin=cmin, vmax=cmax, clip=True)\n",
    "mapper = cm.ScalarMappable(norm=norm, cmap=cm.viridis)\n",
    "boxmargin = 0.3\n",
    "\n",
    "for cmpgrp in dfint['Interior_IslandID'].unique():\n",
    "    bboxdf = dfint['geometry'].loc[dfint['Interior_IslandID']==cmpgrp].bounds\n",
    "    bboxl = spg.box(bboxdf.min()['minx']-boxmargin,bboxdf.min()['miny']-boxmargin,\n",
    "                    bboxdf.max()['maxx']+boxmargin,bboxdf.max()['maxy']+boxmargin).buffer(0.3,64)\n",
    "    # print(\"These are the minimum distances observed from component to cutout exterior:\")\n",
    "    # print(\"Left side: \" + str(min(bboxdf['minx']-bboxl.bounds[0])))\n",
    "    # print(\"Bottom side: \" + str(min(bboxdf['miny']-bboxl.bounds[1])))\n",
    "    # print(\"Right side: \" + str(min(bboxl.bounds[2]-bboxdf['maxx'])))\n",
    "    # print(\"Top side: \" + str(min(bboxl.bounds[3]-bboxdf['maxy'])))\n",
    "    plt.plot(*bboxl.exterior.xy)\n",
    "    for geom in dfint['geometry'].loc[dfint['Interior_IslandID']==cmpgrp]:\n",
    "        plt.plot(*geom.exterior.xy, color = mapper.to_rgba(cmpgrp))\n",
    "    # for geom in df['geometry'].loc[df['IslandID']==0]:\n",
    "    #     plt.plot(*geom.exterior.xy, color = 'red')\n",
    "    plt.gca().axis(\"equal\")"
   ]
  },
  {
   "cell_type": "code",
   "execution_count": 66,
   "metadata": {},
   "outputs": [],
   "source": [
    "class generatedxf():\n",
    "    def __init__(self,fn,raw_cmp_mask,bff_cmp_mask,interior_sup_mask):\n",
    "        self.fn = fn\n",
    "        self.outfile = os.path.splitext(self.fn)[0]+\"_jigstreet.dxf\"\n",
    "        self.raw_cmp_mask = raw_cmp_mask\n",
    "        self.bff_cmp_mask = bff_cmp_mask\n",
    "        self.interior_sup_mask = interior_sup_mask\n",
    "    \n",
    "    def addtodxf(self, pgroup):\n",
    "        if pgroup.geom_type == 'Polygon':\n",
    "            print(\"found polygon to add\")\n",
    "            dt = pd.DataFrame({\"X\":pgroup.exterior.coords.xy[0], \"Y\":pgroup.exterior.coords.xy[1]})\n",
    "            dt['xy'] = dt.apply(lambda x: (x['X'], x['Y']), axis=1)\n",
    "            self.msp.add_lwpolyline(dt['xy'].tolist())\n",
    "        elif pgroup.geom_type == 'MultiPolygon':\n",
    "            print(\"found multi-polygon to add\")\n",
    "            for thispoly in pgroup:\n",
    "                dt = pd.DataFrame({\"X\":thispoly.exterior.coords.xy[0], \"Y\":thispoly.exterior.coords.xy[1]})\n",
    "                dt['xy'] = dt.apply(lambda x: (x['X'], x['Y']), axis=1)\n",
    "                self.msp.add_lwpolyline(dt['xy'].tolist())\n",
    "        else:\n",
    "            print(\"Neither polygon nor multi-polygon. Cannot create jig file\")\n",
    "\n",
    "    def process(self):\n",
    "        self.doc = ez.readfile(self.fn)\n",
    "        self.msp = self.doc.modelspace()\n",
    "        self.doc.layers.new(\"JIG_STREET\")\n",
    "        # self.addtodxf(self.raw_cmp_mask)\n",
    "        self.addtodxf(self.bff_cmp_mask)\n",
    "        self.addtodxf(self.interior_sup_mask)\n",
    "        self.doc.saveas(self.outfile)\n",
    "        print(\"Saved \"+ str(self.outfile))   "
   ]
  },
  {
   "cell_type": "code",
   "execution_count": 67,
   "metadata": {},
   "outputs": [
    {
     "name": "stdout",
     "output_type": "stream",
     "text": [
      "found polygon to add\n",
      "found multi-polygon to add\n",
      "Saved E:\\Scripting\\MACD\\MACD\\TCB\\Examples\\M25268-001_BSR_LLT_r02-Scaled_jigstreet.dxf\n"
     ]
    }
   ],
   "source": [
    "outdxf = generatedxf(dxffile,maskset.raw_cmp_mask, maskset.bff_cmp_mask, maskset.interior_sup_mask)\n",
    "outdxf.process()"
   ]
  },
  {
   "cell_type": "code",
   "execution_count": 42,
   "metadata": {},
   "outputs": [],
   "source": [
    "def addtodxf(msp,pgroup):\n",
    "    if pgroup.geom_type == 'Polygon':\n",
    "        print(\"found polygon to add\")\n",
    "        dt = pd.DataFrame({\"X\":pgroup.exterior.coords.xy[0], \"Y\":pgroup.exterior.coords.xy[1]})\n",
    "        dt['xy'] = dt.apply(lambda x: (x['X'], x['Y']), axis=1)\n",
    "        msp.add_lwpolyline(dt['xy'].tolist())\n",
    "    elif pgroup.geom_type == 'MultiPolygon':\n",
    "        print(\"found multi-polygon to add\")\n",
    "        for thispoly in pgroup:\n",
    "            dt = pd.DataFrame({\"X\":thispoly.exterior.coords.xy[0], \"Y\":thispoly.exterior.coords.xy[1]})\n",
    "            dt['xy'] = dt.apply(lambda x: (x['X'], x['Y']), axis=1)\n",
    "            msp.add_lwpolyline(dt['xy'].tolist())\n",
    "    else:\n",
    "        print(\"Neither polygon nor multi-polygon. Cannot create jig file\")\n"
   ]
  },
  {
   "cell_type": "code",
   "execution_count": 43,
   "metadata": {},
   "outputs": [
    {
     "data": {
      "text/plain": [
       "<class 'ezdxf.entities.layer.Layer'> LAYER(#37CE)"
      ]
     },
     "execution_count": 43,
     "metadata": {},
     "output_type": "execute_result"
    }
   ],
   "source": [
    "root = r\"E:\\Scripting\\MACD\\MACD\\TCB\"\n",
    "dxf = r\"M25268-001_BSR_LLT_r02-Scaled.dxf\"\n",
    "dxffile = os.path.join(root,\"Examples\",dxf)\n",
    "doc = ez.readfile(dxffile)\n",
    "msp = doc.modelspace()\n",
    "doc.layers.new(\"JIG_STREET\")"
   ]
  },
  {
   "cell_type": "code",
   "execution_count": 44,
   "metadata": {},
   "outputs": [
    {
     "name": "stdout",
     "output_type": "stream",
     "text": [
      "found multi-polygon to add\n",
      "found polygon to add\n",
      "found multi-polygon to add\n"
     ]
    }
   ],
   "source": [
    "addtodxf(msp,maskset.raw_cmp_mask)\n",
    "addtodxf(msp,maskset.bff_cmp_mask)\n",
    "addtodxf(msp,maskset.interior_sup_mask)"
   ]
  },
  {
   "cell_type": "code",
   "execution_count": 45,
   "metadata": {},
   "outputs": [
    {
     "name": "stdout",
     "output_type": "stream",
     "text": [
      "M25268-001_BSR_LLT_r02-Scaled_jigstreet.dxf\n"
     ]
    }
   ],
   "source": [
    "outfile = os.path.splitext(dxf)[0]+\"_jigstreet.dxf\"\n",
    "print(outfile)\n",
    "doc.saveas(outfile)"
   ]
  },
  {
   "cell_type": "code",
   "execution_count": null,
   "metadata": {},
   "outputs": [],
   "source": []
  },
  {
   "cell_type": "code",
   "execution_count": 255,
   "metadata": {},
   "outputs": [
    {
     "ename": "TypeError",
     "evalue": "'<' not supported between instances of 'list' and 'int'",
     "output_type": "error",
     "traceback": [
      "\u001b[1;31m---------------------------------------------------------------------------\u001b[0m",
      "\u001b[1;31mTypeError\u001b[0m                                 Traceback (most recent call last)",
      "\u001b[1;32m<ipython-input-255-3e0a3f8fe1ae>\u001b[0m in \u001b[0;36m<module>\u001b[1;34m\u001b[0m\n\u001b[1;32m----> 1\u001b[1;33m \u001b[0mshapefilter\u001b[0m \u001b[1;33m<\u001b[0m \u001b[1;36m100\u001b[0m\u001b[1;33m\u001b[0m\u001b[1;33m\u001b[0m\u001b[0m\n\u001b[0m",
      "\u001b[1;31mTypeError\u001b[0m: '<' not supported between instances of 'list' and 'int'"
     ]
    }
   ],
   "source": [
    "d = 0.00001 # distance\n",
    "cf = 1.3  # cofactor\n",
    "p = poly.buffer(-d).buffer(d*cf).intersection(poly).simplify(d)"
   ]
  },
  {
   "cell_type": "code",
   "execution_count": 219,
   "metadata": {},
   "outputs": [
    {
     "data": {
      "image/png": "[encoded data removed]",
      "text/plain": [
       "<Figure size 432x288 with 1 Axes>"
      ]
     },
     "metadata": {
      "needs_background": "light"
     },
     "output_type": "display_data"
    }
   ],
   "source": [
    "# Plot each polygon shape directly\n",
    "# for geom in cmp_raw.geoms:\n",
    "#     plt.plot(*geom.exterior.xy)\n",
    "if type(cmp_raw) == type(diff_mask):\n",
    "    for geom in diff_mask.geoms:\n",
    "        plt.plot(*geom.exterior.xy)\n",
    "else:\n",
    "    plt.plot(*diff_mask.exterior.xy)\n",
    "# Set (current) axis to be equal before showing plot\n",
    "plt.gca().axis(\"equal\")\n",
    "plt.show()"
   ]
  },
  {
   "cell_type": "code",
   "execution_count": 30,
   "metadata": {},
   "outputs": [],
   "source": [
    "class plotfun():\n",
    "    # Function to make plotting just a little easier as I am lazy\n",
    "    def __init__(self,pg_cmp,diff_poly,fs=(20,10)):\n",
    "        self.dbf = False #debug flag\n",
    "        self.fs = fs\n",
    "        self.pg_cmp = pg_cmp\n",
    "        self.diff_poly = diff_poly\n",
    "        \n",
    "    def plot_polygon(self,data):\n",
    "        # Simple Function to plot polygons\n",
    "        fig = pl.figure(figsize=self.fs)\n",
    "        ax = fig.add_subplot(111)\n",
    "        margin = 1\n",
    "        x_min, y_min, x_max, y_max = data.bounds\n",
    "        ax.set_xlim([x_min-margin, x_max+margin])\n",
    "        ax.set_ylim([y_min-margin, y_max+margin])\n",
    "        patch = PolygonPatch(data, fc='#999999', ec='#000000', fill=True, zorder=-1)\n",
    "        ax.add_patch(patch)\n",
    "        # fig = pl.plot(self.x,self.y,'o', color='#f16824')\n",
    "        return fig\n",
    "    \n",
    "    # def plot_points(self):\n",
    "    #     # Simple function to plot points ()\n",
    "    #     fig = pl.figure(figsize=self.fs)\n",
    "    #     fig = pl.plot(self.x,self.y,'o', color='#f16824')\n",
    "    #     return fig\n",
    "    \n",
    "    def plot_results(self):\n",
    "        # Simple function to plot everything together - components & difference mask\n",
    "        fig = pl.figure(figsize=self.fs)\n",
    "        ax = fig.add_subplot(111)\n",
    "        margin = 1\n",
    "        x_min, y_min, x_max, y_max = self.diff_poly.bounds\n",
    "        ax.set_xlim([x_min-margin, x_max+margin])\n",
    "        ax.set_ylim([y_min-margin, y_max+margin])\n",
    "        patch1 = PolygonPatch(self.diff_poly, fc='green', ec='#000000', fill=True, zorder=-1)\n",
    "        patch2 = PolygonPatch(unary_union(self.pg_cmp), fc='red', ec='#000000', fill=True, zorder=-1)\n",
    "        ax.add_patch(patch1)\n",
    "        ax.add_patch(patch2)\n",
    "        ax.set_title('Masky mask doing mask things')\n",
    "        # return fig"
   ]
  },
  {
   "cell_type": "code",
   "execution_count": 31,
   "metadata": {},
   "outputs": [
    {
     "data": {
      "image/png": "[encoded data removed]",
      "text/plain": [
       "<Figure size 1440x720 with 1 Axes>"
      ]
     },
     "execution_count": 31,
     "metadata": {},
     "output_type": "execute_result"
    },
    {
     "data": {
      "image/png": "[encoded data removed]",
      "text/plain": [
       "<Figure size 1440x720 with 1 Axes>"
      ]
     },
     "metadata": {
      "needs_background": "light"
     },
     "output_type": "display_data"
    }
   ],
   "source": [
    "plotresults = plotfun(rawdxf.pg_cmp,maskset.diff_mask)\n",
    "#plotresults.plot_results()\n",
    "plotresults.plot_polygon(maskset.diff_mask)"
   ]
  },
  {
   "cell_type": "code",
   "execution_count": 23,
   "metadata": {},
   "outputs": [],
   "source": [
    "# Load a file\n",
    "root = r\"E:\\Scripting\\MACD\\MACD\\TCB\"\n",
    "dxf = \"M55024-001_BSR_r01-Scaled.dxf\"\n",
    "fn = os.path.join(root,\"Examples\",dxf)\n",
    "rawdxf = loaddxf(os.path.join(root,\"Examples\",dxf),scaledrawing=0.01)\n",
    "\n"
   ]
  },
  {
   "cell_type": "code",
   "execution_count": 38,
   "metadata": {},
   "outputs": [],
   "source": [
    "def processdxf(dxf,cmp_koz=0.5):\n",
    "    dxffile = os.path.join(root,\"Examples\",dxf)\n",
    "    print(\"File to process: \" + dxffile)\n",
    "    rawdxf = loaddxf(dxffile,scaledrawing=1)\n",
    "    rawdxf.process()\n",
    "    # cmp_koz = 0.35 # Scaler (POR is ~350 from speed or ~0.35 for scaled)\n",
    "    group_koz = cmp_koz # OutlineAdder\n",
    "    squarebound = True\n",
    "    masks = generatemasks(rawdxf.pg_cmp,cmp_koz,group_koz)#,squarebound)\n",
    "    masks.process()\n",
    "    plots = plotfun(rawdxf.pg_cmp,masks.diff_mask) \n",
    "    plots.plot_results() # We input raw positions & generated masks into a plot together\n",
    "    return (\"Processed.\")"
   ]
  },
  {
   "cell_type": "code",
   "execution_count": 53,
   "metadata": {},
   "outputs": [
    {
     "name": "stdout",
     "output_type": "stream",
     "text": [
      "File to process: E:\\Scripting\\MACD\\MACD\\TCB\\Examples\\M55024-001_BSR_r01-Scaled.dxf\n",
      "220 objects have been found on BSR layer.\n",
      "Completed mapping to dataframes df (center, size, corner points)\n",
      "pg_cmp is nominal position of all package components.\n",
      "Completed loading all the data\n",
      "Running mask script\n",
      "created component mask with: Expand = 375 and 375x outline.\n",
      "Completed\n"
     ]
    }
   ],
   "source": [
    "dxffile = os.path.join(root,\"Examples\",dxf)\n",
    "print(\"File to process: \" + dxffile)\n",
    "rawdxf = loaddxf(dxffile,scaledrawing=1)\n",
    "rawdxf.process()\n",
    "# cmp_koz = 0.35 # Scaler (POR is ~350 from speed or ~0.35 for scaled)\n",
    "group_koz = cmp_koz # OutlineAdder\n",
    "squarebound = True\n",
    "masks = generatemasks(rawdxf.pg_cmp,cmp_koz,group_koz)#,squarebound)\n",
    "masks.process()"
   ]
  },
  {
   "cell_type": "code",
   "execution_count": 20,
   "metadata": {},
   "outputs": [],
   "source": [
    "#%%\n",
    "# Created 7/5/2023 by Michael Tan & Josh Green\n",
    "# Utilized for importing DXF shapes (curated file), generating a mask, than outputting a dxf\n",
    "# Parsing DXF\n",
    "import ezdxf as ez\n",
    "# Maths\n",
    "import numpy as np\n",
    "import pandas as pd\n",
    "# Shapes\n",
    "import shapely.geometry as spg\n",
    "from shapely.ops import unary_union, polygonize\n",
    "import warnings\n",
    "warnings.simplefilter(action='ignore', category=FutureWarning) # setting ignore as a parameter and further adding category\n",
    "import pandas\n",
    "from descartes import PolygonPatch\n",
    "from shapely import affinity\n",
    "# Plotting\n",
    "import pylab as pl\n",
    "# Misc\n",
    "import os\n",
    "import statistics\n",
    "\n",
    "# %%\n",
    "class loaddxf():\n",
    "    # This is a class object for loading a single DXF file\n",
    "    def __init__(self,fn,scaledrawing=1):\n",
    "        # Initialization\n",
    "        self.fn = fn\n",
    "        self.dbf = False #debug flag\n",
    "        self.components = []\n",
    "        self.cnames = []\n",
    "        self.scaler = scaledrawing\n",
    "        \n",
    "    def loaddrawing(self):\n",
    "        # Import DXF as a ezdxf object. \n",
    "        doc = ez.readfile(self.fn)\n",
    "        msp = doc.modelspace()\n",
    "        # Iterate through all items\n",
    "        for e in msp:\n",
    "            if self.dbf == True:\n",
    "                print(e.dxf.layer)\n",
    "                print(e.dxftype())\n",
    "            # If we encounter \"PKG_OUTLINE\" layer, export it to self.pkgout\n",
    "            if e.dxf.layer == 'PKG_OUTLINE':\n",
    "                if e.dxftype() == 'LWPOLYLINE':\n",
    "                    #print(e.vertices(),e.dxftype())\n",
    "                    p = e.get_points()\n",
    "                    # update later to add polygon\n",
    "                    self.pkgout = spg.box(min(p)[0],min(p)[1],max(p)[0],max(p)[1])\n",
    "                    #print(\"Package Outline: \")\n",
    "                    self.pkgout\n",
    "            # If we encounter Soldermask_pads_btm, export SOLID objects to a list of components\n",
    "            elif e.dxf.layer == 'SOLDERMASK_PADS_BTM':\n",
    "                if e.dxftype() == 'SOLID':\n",
    "                    if self.dbf == True:\n",
    "                        print(e.dxf.handle)\n",
    "                        print(e.vertices())\n",
    "                    self.cnames.append(e.dxf.handle)\n",
    "                    self.components.append(e.vertices())\n",
    "        print(str(len(self.components)) + \" objects have been found on BSR layer.\")\n",
    "        \n",
    "    def maptodataframe(self):\n",
    "        # Using the solid objects encountered, parse into a dataframe or 2.\n",
    "        P1X,P1Y = [],[]\n",
    "        P2X,P2Y = [],[]\n",
    "        P3X,P3Y = [],[]\n",
    "        P4X,P4Y = [],[]\n",
    "        CX,CY = [],[]\n",
    "        for comp in self.components:\n",
    "            # Identify point# 1 - bottom left corner\n",
    "            P1X.append(comp[0][0]*self.scaler)\n",
    "            P1Y.append(comp[0][1]*self.scaler)\n",
    "            P3X.append(comp[2][0]*self.scaler)\n",
    "            P3Y.append(comp[2][1]*self.scaler)\n",
    "            P2X.append(comp[1][0]*self.scaler)\n",
    "            P2Y.append(comp[1][1]*self.scaler)\n",
    "            P4X.append(comp[3][0]*self.scaler)\n",
    "            P4Y.append(comp[3][1]*self.scaler)\n",
    "        # Sizes\n",
    "        DX = np.subtract(P3X, P1X)\n",
    "        DY = np.subtract(P3Y, P1Y)\n",
    "        # Centers\n",
    "        CX = np.add(P1X,DX/2)\n",
    "        CY = np.add(P1Y,DY/2)\n",
    "        # One DF with centers and corners\n",
    "        self.df = pd.DataFrame({\"CNAME\":self.cnames,\"X\":CX,\"Y\":CY,\"P1X\":P1X,\"P1Y\":P1Y,\"P3X\":P3X,\"P3Y\":P3Y})\n",
    "        # self.dfs = pd.concat([pd.DataFrame({\"X\":P1X,\"Y\":P1Y}), pd.DataFrame({\"X\":P2X,\"Y\":P2Y}), pd.DataFrame({\"X\":P3X,\"Y\":P3Y}),\n",
    "        #                         pd.DataFrame({\"X\":P4X,\"Y\":P4Y})]).reset_index(drop=True)\n",
    "        # self.dfs = self.dfs.mul(self.poversize)\n",
    "        print(\"Completed mapping to dataframes df (center, size, corner points)\")\n",
    "\n",
    "    def maptolistofpoly(self):\n",
    "        # This is messy for now. We take points than shove it into a box. It would be better to go from dxf vector to polygon.\n",
    "        # Initialize an empty list\n",
    "        self.pg_cmp = []\n",
    "        for index, row in self.df.iterrows():\n",
    "            p1 = (row.P1X,row.P1Y,row.P3X,row.P3Y)\n",
    "            poly1 = spg.box(p1[0],p1[1],p1[2],p1[3])\n",
    "            self.pg_cmp.append(poly1)\n",
    "        print(\"pg_cmp is nominal position of all package components.\")\n",
    "            \n",
    "    def process(self):\n",
    "        # Load data\n",
    "        self.loaddrawing()\n",
    "        # Map to dataframe\n",
    "        self.maptodataframe()\n",
    "        # Map to list of BOXES - no oversize. \n",
    "        self.maptolistofpoly()\n",
    "        print(\"Completed loading all the data\")\n",
    "        \n",
    "class generatemasks():\n",
    "    # Class used to generate a mask\n",
    "    def __init__(self,cmp,exp_cmp=1,exp_out=1.25,squarebound=True):\n",
    "        # Initialize some variables\n",
    "        self.dbf = False #debug flag\n",
    "        self.cmp = cmp\n",
    "        # Variable to expand components - polygons are extended with a buffer function - magnitude\n",
    "        self.exp_cmp = exp_cmp\n",
    "        # Variable to expand outline - simple scaler/multiplier\n",
    "        self.exp_out = exp_out\n",
    "        self.squarebound = squarebound\n",
    "    \n",
    "    def processcomp(self,expopt=False):\n",
    "        # Create 3 masks: \n",
    "            # cmp_mask: component mask\n",
    "            # cmp_out: component outline\n",
    "            # diff_mask: Mask of the difference between outline & mask\n",
    "        # Combine all smaller polygons & expand with exp_cmp\n",
    "        if expopt == True:\n",
    "            for i in np.arange(0.1, 0.8, 0.1):          \n",
    "                pgroup = [x.buffer(i,8,2).envelope for x in self.cmp]\n",
    "                cmp_mask = unary_union(pgroup)\n",
    "                cmp_outline = spg.box(cmp_mask.bounds[0]-self.exp_out,cmp_mask.bounds[1]-self.exp_out,\n",
    "                    cmp_mask.bounds[2]+self.exp_out,cmp_mask.bounds[3]+self.exp_out)#.buffer(1500)\n",
    "                self.cmp_mask = cmp_mask\n",
    "                self.cmp_out = cmp_outline\n",
    "                # Create a difference mask between outline & smaller polygons\n",
    "                self.diff_mask = cmp_outline.difference(cmp_mask)\n",
    "                parea = [x.area for x in self.diff_mask]\n",
    "                print(\"Loop at \" + str(i))\n",
    "                print(str(statistics.median(parea)))\n",
    "                if statistics.median(parea) >=1:\n",
    "                    print(\"Minimum small features detected. Buffer = \"+str(i))\n",
    "                    print(str(parea))\n",
    "                    self.diff_mask = spg.MultiPolygon(list(filter(lambda x: x.area> 1, self.diff_mask)))\n",
    "                    break\n",
    "\n",
    "                \n",
    "        else:\n",
    "            if (self.squarebound==True):\n",
    "                pgroup = [x.buffer(self.exp_cmp).envelope.simplify(1) for x in self.cmp]\n",
    "            else:\n",
    "                pgroup = [x.buffer(self.exp_cmp).simplify(1) for x in self.cmp]\n",
    "            cmp_mask = unary_union(pgroup)\n",
    "            # Create an outline using the cmp_mask X&Y Min/Max values\n",
    "            cmp_outline = spg.box(cmp_mask.bounds[0]-self.exp_out,cmp_mask.bounds[1]-self.exp_out,\n",
    "                            cmp_mask.bounds[2]+self.exp_out,cmp_mask.bounds[3]+self.exp_out)#.buffer(1500)\n",
    "            self.cmp_mask = cmp_mask\n",
    "            self.cmp_out = cmp_outline\n",
    "            # Create a difference mask between outline & smaller polygons\n",
    "            self.diff_mask = cmp_outline.difference(cmp_mask)\n",
    "            print(\"created component mask with: Expand = \" + str(self.exp_cmp) + \" and \" + str(self.exp_out) + \"x outline.\")\n",
    "\n",
    "        \n",
    "    def process(self):\n",
    "        print(\"Running mask script\")\n",
    "        self.processcomp()\n",
    "        print(\"Completed\")\n",
    "               \n",
    "class plotfun():\n",
    "    # Function to make plotting just a little easier as I am lazy\n",
    "    def __init__(self,pg_cmp,diff_poly,fs=(20,10)):\n",
    "        self.dbf = False #debug flag\n",
    "        #plotscale= ((pkg_x/pkg_y)*20,(pkg_y/pkg_y)*20)\n",
    "        self.fs = fs\n",
    "        self.pg_cmp = pg_cmp\n",
    "        self.diff_poly = diff_poly\n",
    "        \n",
    "    # def plot_polygon(self,data):\n",
    "    #     # Simple Function to plot polygons\n",
    "    #     fig = pl.figure(figsize=self.fs)\n",
    "    #     ax = fig.add_subplot(111)\n",
    "    #     margin = 1\n",
    "    #     x_min, y_min, x_max, y_max = data.bounds\n",
    "    #     ax.set_xlim([x_min-margin, x_max+margin])\n",
    "    #     ax.set_ylim([y_min-margin, y_max+margin])\n",
    "    #     patch = PolygonPatch(data, fc='#999999', ec='#000000', fill=True, zorder=-1)\n",
    "    #     ax.add_patch(patch)\n",
    "    #     fig = pl.plot(self.x,self.y,'o', color='#f16824')\n",
    "    #     return fig\n",
    "    \n",
    "    # def plot_points(self):\n",
    "    #     # Simple function to plot points ()\n",
    "    #     fig = pl.figure(figsize=self.fs)\n",
    "    #     fig = pl.plot(self.x,self.y,'o', color='#f16824')\n",
    "    #     return fig\n",
    "    \n",
    "    def plot_results(self):\n",
    "        # Simple function to plot everything together - components & difference mask\n",
    "        fig = pl.figure(figsize=self.fs)\n",
    "        ax = fig.add_subplot(111)\n",
    "        margin = 1\n",
    "        x_min, y_min, x_max, y_max = self.diff_poly.bounds\n",
    "        ax.set_xlim([x_min-margin, x_max+margin])\n",
    "        ax.set_ylim([y_min-margin, y_max+margin])\n",
    "        patch1 = PolygonPatch(self.diff_poly, fc='green', ec='#000000', fill=True, zorder=-1)\n",
    "        patch2 = PolygonPatch(unary_union(self.pg_cmp), fc='red', ec='#000000', fill=True, zorder=-1)\n",
    "        ax.add_patch(patch1)\n",
    "        ax.add_patch(patch2)\n",
    "        ax.set_title('Masky mask doing mask things')\n",
    "        # return fig\n",
    "    \n",
    "    # Temp\n",
    "    # boundary = gpd.GeoSeries(cmp_mask)\n",
    "    # outline = gpd.GeoSeries(cmp_outline)\n",
    "    # diff = gpd.GeoSeries(diff_poly)\n",
    "    \n",
    "class generatedxf():\n",
    "    def __init__(self,fn,cmp_mask,diff_mask):\n",
    "        self.outfile = os.path.splitext(fn)[0]+\"_jigstreet.dxf\"\n",
    "        self.cmp_mask = cmp_mask\n",
    "        self.diff_mask = diff_mask\n",
    "    \n",
    "    def addoutline(self):\n",
    "        for thispoly in self.cmp_mask:\n",
    "            dt = pd.DataFrame({\"X\":thispoly.exterior.coords.xy[0], \"Y\":thispoly.exterior.coords.xy[1]})\n",
    "            dt['xy'] = dt.apply(lambda x: (x['X'], x['Y']), axis=1)\n",
    "            self.msp.add_lwpolyline(dt['xy'].tolist())\n",
    "    \n",
    "    def addholes(self):\n",
    "        for thispoly in self.diff_mask:\n",
    "            dt = pd.DataFrame({\"X\":thispoly.exterior.coords.xy[0], \"Y\":thispoly.exterior.coords.xy[1]})\n",
    "            dt['xy'] = dt.apply(lambda x: (x['X'], x['Y']), axis=1)\n",
    "            self.msp.add_lwpolyline(dt['xy'].tolist())\n",
    "\n",
    "    def process(self):\n",
    "        self.doc = ez.readfile(fn)\n",
    "        self.msp = self.doc.modelspace()\n",
    "        self.doc.layers.new(\"JIG_STREET\")\n",
    "        self.addoutline()\n",
    "        self.addholes()\n",
    "        self.doc.saveas(self.outfile)\n",
    "        print(\"Saved \"+ str(self.outfile))   \n",
    "#%%\n",
    "# if __name__ == \"__main__\":\n",
    "#     # Main script to run\n",
    "#     fn = r\"E:\\Scripting\\MACD\\MACD\\TCB\\Examples\\M55024-001_BSR_r01.dxf\"\n",
    "#     # fn = r\"E:\\Scripting\\dxf\\M86710-001_BSR_Cleaned Up.dxf\"\n",
    "#     # fn = r\"E:\\Scripting\\dxf\\input_example.dxf\"\n",
    "#     rawdxf = loaddxf(fn)\n",
    "#     rawdxf.process()\n",
    "#     cmp_koz = 0.5 # Scaler\n",
    "#     group_koz = 1 # Adder\n",
    "#     masks = generatemasks(rawdxf.pg_cmp,cmp_koz,group_koz)\n",
    "#     masks.process()\n",
    "#     plots = plotfun(rawdxf.pg_cmp,masks.diff_mask) \n",
    "#     plots.plot_results() # We input raw positions & generated masks into a plot together\n",
    "#     # %%\n",
    "#     woof = generatedxf(fn,masks.cmp_mask,masks.diff_mask)\n",
    "#     woof.process()\n",
    "\n",
    " # %%\n",
    " \n"
   ]
  },
  {
   "cell_type": "code",
   "execution_count": 2,
   "metadata": {},
   "outputs": [],
   "source": [
    "def processdxf(dxf,cmp_koz=0.5):\n",
    "    dxffile = os.path.join(root,\"Examples\",dxf)\n",
    "    print(\"File to process: \" + dxffile)\n",
    "    rawdxf = loaddxf(dxffile,scaledrawing=0.01)\n",
    "    rawdxf.process()\n",
    "    # cmp_koz = 0.35 # Scaler (POR is ~350 from speed or ~0.35 for scaled)\n",
    "    group_koz = cmp_koz # OutlineAdder\n",
    "    squarebound = True\n",
    "    masks = generatemasks(rawdxf.pg_cmp,cmp_koz,group_koz,squarebound)\n",
    "    masks.process()\n",
    "    plots = plotfun(rawdxf.pg_cmp,masks.diff_mask) \n",
    "    plots.plot_results() # We input raw positions & generated masks into a plot together\n",
    "    return (\"Processed.\")"
   ]
  },
  {
   "cell_type": "code",
   "execution_count": 3,
   "metadata": {},
   "outputs": [],
   "source": [
    "    def loaddrawing(self):\n",
    "        # Import DXF as a ezdxf object. \n",
    "        doc = ez.readfile(self.fn)\n",
    "        msp = doc.modelspace()\n",
    "        # Iterate through all items\n",
    "        for e in msp:\n",
    "            if self.dbf == True:\n",
    "                print(e.dxf.layer)\n",
    "                print(e.dxftype())\n",
    "            # If we encounter \"PKG_OUTLINE\" layer, export it to self.pkgout\n",
    "            if e.dxf.layer == 'PKG_OUTLINE':\n",
    "                if e.dxftype() == 'LWPOLYLINE':\n",
    "                    #print(e.vertices(),e.dxftype())\n",
    "                    p = e.get_points()\n",
    "                    # update later to add polygon\n",
    "                    self.pkgout = spg.box(min(p)[0],min(p)[1],max(p)[0],max(p)[1])\n",
    "                    #print(\"Package Outline: \")\n",
    "                    self.pkg_x = max(self.pkgout.boundary.coords.xy[0])-min(self.pkgout.boundary.coords.xy[0])\n",
    "                    self.pkg_y = max(self.pkgout.boundary.coords.xy[1])-min(self.pkgout.boundary.coords.xy[1])\n",
    "            # If we encounter Soldermask_pads_btm, export SOLID objects to a list of components\n",
    "            elif e.dxf.layer == 'SOLDERMASK_PADS_BTM':\n",
    "                if e.dxftype() == 'SOLID':\n",
    "                    if self.dbf == True:\n",
    "                        print(e.dxf.handle)\n",
    "                        print(e.vertices())\n",
    "                    self.cnames.append(e.dxf.handle)\n",
    "                    self.components.append(e.vertices())\n",
    "        print(str(len(self.components)) + \" objects have been found on BSR layer.\")"
   ]
  },
  {
   "cell_type": "code",
   "execution_count": 8,
   "metadata": {},
   "outputs": [],
   "source": [
    "root = r\"E:\\Scripting\\MACD\\MACD\\TCB\"\n",
    "dxf = \"M55024-001_BSR_r01-Scaled.dxf\""
   ]
  },
  {
   "cell_type": "code",
   "execution_count": 9,
   "metadata": {},
   "outputs": [],
   "source": [
    "fn = os.path.join(root,\"Examples\",dxf)\n",
    "doc = ez.readfile(fn)\n",
    "msp = doc.modelspace()"
   ]
  },
  {
   "cell_type": "code",
   "execution_count": 10,
   "metadata": {},
   "outputs": [
    {
     "name": "stdout",
     "output_type": "stream",
     "text": [
      "PKG_OUTLINE\n",
      "LWPOLYLINE\n"
     ]
    }
   ],
   "source": [
    "for e in msp:\n",
    "    if e.dxf.layer == 'PKG_OUTLINE':\n",
    "        print(e.dxf.layer)\n",
    "        print(e.dxftype())\n",
    "        p = e.get_points()\n",
    "        pkgout = spg.box(min(p)[0],min(p)[1],max(p)[0],max(p)[1])"
   ]
  },
  {
   "cell_type": "code",
   "execution_count": 11,
   "metadata": {},
   "outputs": [
    {
     "ename": "NameError",
     "evalue": "name 'self' is not defined",
     "output_type": "error",
     "traceback": [
      "\u001b[1;31m---------------------------------------------------------------------------\u001b[0m",
      "\u001b[1;31mNameError\u001b[0m                                 Traceback (most recent call last)",
      "\u001b[1;32m<ipython-input-11-e67a32c10d12>\u001b[0m in \u001b[0;36m<module>\u001b[1;34m\u001b[0m\n\u001b[0;32m      6\u001b[0m             \u001b[0mp\u001b[0m \u001b[1;33m=\u001b[0m \u001b[0me\u001b[0m\u001b[1;33m.\u001b[0m\u001b[0mget_points\u001b[0m\u001b[1;33m(\u001b[0m\u001b[1;33m)\u001b[0m\u001b[1;33m\u001b[0m\u001b[1;33m\u001b[0m\u001b[0m\n\u001b[0;32m      7\u001b[0m             \u001b[1;31m# update later to add polygon\u001b[0m\u001b[1;33m\u001b[0m\u001b[1;33m\u001b[0m\u001b[1;33m\u001b[0m\u001b[0m\n\u001b[1;32m----> 8\u001b[1;33m             \u001b[0mself\u001b[0m\u001b[1;33m.\u001b[0m\u001b[0mpkgout\u001b[0m \u001b[1;33m=\u001b[0m \u001b[0mspg\u001b[0m\u001b[1;33m.\u001b[0m\u001b[0mbox\u001b[0m\u001b[1;33m(\u001b[0m\u001b[0mmin\u001b[0m\u001b[1;33m(\u001b[0m\u001b[0mp\u001b[0m\u001b[1;33m)\u001b[0m\u001b[1;33m[\u001b[0m\u001b[1;36m0\u001b[0m\u001b[1;33m]\u001b[0m\u001b[1;33m,\u001b[0m\u001b[0mmin\u001b[0m\u001b[1;33m(\u001b[0m\u001b[0mp\u001b[0m\u001b[1;33m)\u001b[0m\u001b[1;33m[\u001b[0m\u001b[1;36m1\u001b[0m\u001b[1;33m]\u001b[0m\u001b[1;33m,\u001b[0m\u001b[0mmax\u001b[0m\u001b[1;33m(\u001b[0m\u001b[0mp\u001b[0m\u001b[1;33m)\u001b[0m\u001b[1;33m[\u001b[0m\u001b[1;36m0\u001b[0m\u001b[1;33m]\u001b[0m\u001b[1;33m,\u001b[0m\u001b[0mmax\u001b[0m\u001b[1;33m(\u001b[0m\u001b[0mp\u001b[0m\u001b[1;33m)\u001b[0m\u001b[1;33m[\u001b[0m\u001b[1;36m1\u001b[0m\u001b[1;33m]\u001b[0m\u001b[1;33m)\u001b[0m\u001b[1;33m\u001b[0m\u001b[1;33m\u001b[0m\u001b[0m\n\u001b[0m\u001b[0;32m      9\u001b[0m             \u001b[1;31m#print(\"Package Outline: \")\u001b[0m\u001b[1;33m\u001b[0m\u001b[1;33m\u001b[0m\u001b[1;33m\u001b[0m\u001b[0m\n\u001b[0;32m     10\u001b[0m             \u001b[0mself\u001b[0m\u001b[1;33m.\u001b[0m\u001b[0mpkg_x\u001b[0m \u001b[1;33m=\u001b[0m \u001b[0mmax\u001b[0m\u001b[1;33m(\u001b[0m\u001b[0mself\u001b[0m\u001b[1;33m.\u001b[0m\u001b[0mpkgout\u001b[0m\u001b[1;33m.\u001b[0m\u001b[0mboundary\u001b[0m\u001b[1;33m.\u001b[0m\u001b[0mcoords\u001b[0m\u001b[1;33m.\u001b[0m\u001b[0mxy\u001b[0m\u001b[1;33m[\u001b[0m\u001b[1;36m0\u001b[0m\u001b[1;33m]\u001b[0m\u001b[1;33m)\u001b[0m\u001b[1;33m-\u001b[0m\u001b[0mmin\u001b[0m\u001b[1;33m(\u001b[0m\u001b[0mself\u001b[0m\u001b[1;33m.\u001b[0m\u001b[0mpkgout\u001b[0m\u001b[1;33m.\u001b[0m\u001b[0mboundary\u001b[0m\u001b[1;33m.\u001b[0m\u001b[0mcoords\u001b[0m\u001b[1;33m.\u001b[0m\u001b[0mxy\u001b[0m\u001b[1;33m[\u001b[0m\u001b[1;36m0\u001b[0m\u001b[1;33m]\u001b[0m\u001b[1;33m)\u001b[0m\u001b[1;33m\u001b[0m\u001b[1;33m\u001b[0m\u001b[0m\n",
      "\u001b[1;31mNameError\u001b[0m: name 'self' is not defined"
     ]
    }
   ],
   "source": [
    "for e in msp:\n",
    "    # If we encounter \"PKG_OUTLINE\" layer, export it to self.pkgout\n",
    "    if e.dxf.layer == 'PKG_OUTLINE':\n",
    "        if e.dxftype() == 'LWPOLYLINE':\n",
    "            #print(e.vertices(),e.dxftype())\n",
    "            p = e.get_points()\n",
    "            # update later to add polygon\n",
    "            self.pkgout = spg.box(min(p)[0],min(p)[1],max(p)[0],max(p)[1])\n",
    "            #print(\"Package Outline: \")\n",
    "            self.pkg_x = max(self.pkgout.boundary.coords.xy[0])-min(self.pkgout.boundary.coords.xy[0])\n",
    "            self.pkg_y = max(self.pkgout.boundary.coords.xy[1])-min(self.pkgout.boundary.coords.xy[1])\n",
    "    # If we encounter Soldermask_pads_btm, export SOLID objects to a list of components\n",
    "    elif e.dxf.layer == 'SOLDERMASK_PADS_BTM':\n",
    "        if e.dxftype() == 'SOLID':\n",
    "            if self.dbf == True:\n",
    "                print(e.dxf.handle)\n",
    "                print(e.vertices())\n",
    "            self.cnames.append(e.dxf.handle)\n",
    "            self.components.append(e.vertices())\n",
    "print(str(len(self.components)) + \" objects have been found on BSR layer.\")"
   ]
  },
  {
   "cell_type": "code",
   "execution_count": 14,
   "metadata": {},
   "outputs": [
    {
     "data": {
      "text/plain": [
       "45.0"
      ]
     },
     "execution_count": 14,
     "metadata": {},
     "output_type": "execute_result"
    }
   ],
   "source": [
    "pkg_x = max(pkgout.boundary.coords.xy[0])-min(pkgout.boundary.coords.xy[0])\n",
    "pkg_y = max(pkgout.boundary.coords.xy[1])-min(pkgout.boundary.coords.xy[1])"
   ]
  },
  {
   "cell_type": "code",
   "execution_count": 15,
   "metadata": {},
   "outputs": [],
   "source": [
    "plotscale = (20,10)"
   ]
  },
  {
   "cell_type": "code",
   "execution_count": 16,
   "metadata": {},
   "outputs": [
    {
     "data": {
      "text/plain": [
       "23.333333333333336"
      ]
     },
     "execution_count": 16,
     "metadata": {},
     "output_type": "execute_result"
    }
   ],
   "source": [
    "(pkg_x/pkg_y)*20"
   ]
  },
  {
   "cell_type": "code",
   "execution_count": 17,
   "metadata": {},
   "outputs": [],
   "source": [
    "plotscale= ((pkg_x/pkg_y)*20,(pkg_y/pkg_y)*20)"
   ]
  },
  {
   "cell_type": "code",
   "execution_count": 18,
   "metadata": {},
   "outputs": [
    {
     "data": {
      "text/plain": [
       "20.0"
      ]
     },
     "execution_count": 18,
     "metadata": {},
     "output_type": "execute_result"
    }
   ],
   "source": [
    "(pkg_y/pkg_y)*20"
   ]
  },
  {
   "cell_type": "code",
   "execution_count": 158,
   "metadata": {},
   "outputs": [
    {
     "data": {
      "text/plain": [
       "-12500.0"
      ]
     },
     "execution_count": 158,
     "metadata": {},
     "output_type": "execute_result"
    }
   ],
   "source": [
    "min(pkgout.boundary.coords.xy[0])"
   ]
  },
  {
   "cell_type": "code",
   "execution_count": null,
   "metadata": {},
   "outputs": [],
   "source": []
  },
  {
   "cell_type": "code",
   "execution_count": 137,
   "metadata": {},
   "outputs": [],
   "source": [
    "rawdxf = loaddxf(os.path.join(root,\"Examples\",dxf),scaledrawing=0.01)\n"
   ]
  },
  {
   "cell_type": "code",
   "execution_count": 177,
   "metadata": {},
   "outputs": [
    {
     "name": "stdout",
     "output_type": "stream",
     "text": [
      "File to process: E:\\Scripting\\MACD\\MACD\\TCB\\Examples\\M25268-001_BSR_LLT_r02.dxf\n",
      "448 objects have been found on BSR layer.\n",
      "Completed mapping to dataframes df (center, size, corner points)\n",
      "pg_cmp is nominal position of all package components.\n",
      "Completed loading all the data\n",
      "Running mask script\n",
      "created component mask with: Expand = 3 and 3x outline.\n",
      "Completed\n",
      "File to process: E:\\Scripting\\MACD\\MACD\\TCB\\Examples\\M37813-001_BSR_r01 ww22.dxf\n",
      "184 objects have been found on BSR layer.\n",
      "Completed mapping to dataframes df (center, size, corner points)\n",
      "pg_cmp is nominal position of all package components.\n",
      "Completed loading all the data\n",
      "Running mask script\n",
      "created component mask with: Expand = 3 and 3x outline.\n",
      "Completed\n",
      "File to process: E:\\Scripting\\MACD\\MACD\\TCB\\Examples\\M54481-001_BSR_r01.dxf\n",
      "92 objects have been found on BSR layer.\n",
      "Completed mapping to dataframes df (center, size, corner points)\n",
      "pg_cmp is nominal position of all package components.\n",
      "Completed loading all the data\n",
      "Running mask script\n",
      "created component mask with: Expand = 3 and 3x outline.\n",
      "Completed\n"
     ]
    },
    {
     "data": {
      "image/png": "[encoded data removed]",
      "text/plain": [
       "<Figure size 720x1440 with 1 Axes>"
      ]
     },
     "metadata": {
      "needs_background": "light"
     },
     "output_type": "display_data"
    },
    {
     "data": {
      "image/png": "[encoded data removed]",
      "text/plain": [
       "<Figure size 720x1440 with 1 Axes>"
      ]
     },
     "metadata": {
      "needs_background": "light"
     },
     "output_type": "display_data"
    },
    {
     "data": {
      "image/png": "[encoded data removed]",
      "text/plain": [
       "<Figure size 720x1440 with 1 Axes>"
      ]
     },
     "metadata": {
      "needs_background": "light"
     },
     "output_type": "display_data"
    }
   ],
   "source": [
    "# Search the folder for \n",
    "root = r\"E:\\Scripting\\MACD\\MACD\\TCB\"\n",
    "dxfs = os.listdir(os.path.join(root,\"Examples\"))\n",
    "for dxf in dxfs[:3]:\n",
    "    processdxf(dxf,3)\n"
   ]
  },
  {
   "attachments": {},
   "cell_type": "markdown",
   "metadata": {},
   "source": []
  },
  {
   "cell_type": "code",
   "execution_count": 19,
   "metadata": {},
   "outputs": [
    {
     "name": "stdout",
     "output_type": "stream",
     "text": [
      "220 objects have been found on BSR layer.\n",
      "Completed mapping to dataframes df (center, size, corner points)\n",
      "pg_cmp is nominal position of all package components.\n",
      "Completed loading all the data\n",
      "Running mask script\n",
      "created component mask with: Expand = 375 and 375x outline.\n",
      "Completed\n"
     ]
    },
    {
     "data": {
      "image/png": "[encoded data removed]",
      "text/plain": [
       "<Figure size 1440x720 with 1 Axes>"
      ]
     },
     "metadata": {
      "needs_background": "light"
     },
     "output_type": "display_data"
    }
   ],
   "source": [
    "# fn = r\"E:\\Scripting\\MACD\\MACD\\TCB\\Examples\\M37813-001_BSR_r01 ww22.dxf\"\n",
    "# fn = r\"E:\\Scripting\\dxf\\M86710-001_BSR_Cleaned Up.dxf\"\n",
    "# fn = r\"E:\\Scripting\\dxf\\input_example.dxf\"\n",
    "rawdxf = loaddxf(fn)\n",
    "rawdxf.process()\n",
    "cmp_koz = 375 # Scaler\n",
    "group_koz = 375 # OutlineAdder\n",
    "squarebound = True\n",
    "masks = generatemasks(rawdxf.pg_cmp,cmp_koz,group_koz,squarebound)\n",
    "masks.process()\n",
    "plots = plotfun(rawdxf.pg_cmp,masks.diff_mask) \n",
    "plots.plot_results() # We input raw positions & generated masks into a plot together"
   ]
  },
  {
   "cell_type": "code",
   "execution_count": 72,
   "metadata": {},
   "outputs": [
    {
     "name": "stdout",
     "output_type": "stream",
     "text": [
      "Package Outline: \n",
      "220 objects have been found on BSR layer.\n",
      "Completed mapping to dataframes df\n",
      "Completed loading all the data\n",
      "Running mask script\n",
      "created component mask with: Expand = 375 and 375x outline.\n",
      "Completed\n"
     ]
    },
    {
     "data": {
      "image/png": "[encoded data removed]",
      "text/plain": [
       "<Figure size 1440x720 with 1 Axes>"
      ]
     },
     "metadata": {
      "needs_background": "light"
     },
     "output_type": "display_data"
    }
   ],
   "source": [
    "fn = r\"E:\\Scripting\\MACD\\MACD\\TCB\\Examples\\M55024-001_BSR_r01.dxf\"\n",
    "# fn = r\"E:\\Scripting\\dxf\\M86710-001_BSR_Cleaned Up.dxf\"\n",
    "# fn = r\"E:\\Scripting\\dxf\\input_example.dxf\"\n",
    "rawdxf = loaddxf(fn)\n",
    "rawdxf.process()\n",
    "cmp_koz = 375 # Scaler\n",
    "group_koz = 375 # OutlineAdder\n",
    "masks = generatemasks(rawdxf.pg_cmp,cmp_koz,group_koz)\n",
    "masks.process()\n",
    "plots = plotfun(rawdxf.pg_cmp,masks.diff_mask) \n",
    "plots.plot_results() # We input raw positions & generated masks into a plot together\n"
   ]
  },
  {
   "cell_type": "code",
   "execution_count": 38,
   "metadata": {},
   "outputs": [
    {
     "name": "stdout",
     "output_type": "stream",
     "text": [
      "Package Outline: \n",
      "220 objects have been found on BSR layer.\n",
      "Completed mapping to dataframes df\n",
      "Completed loading all the data\n"
     ]
    }
   ],
   "source": []
  },
  {
   "cell_type": "code",
   "execution_count": 39,
   "metadata": {},
   "outputs": [
    {
     "name": "stdout",
     "output_type": "stream",
     "text": [
      "Running mask script\n",
      "created component mask with: Expand = 0.5 and 1x outline.\n",
      "Completed\n"
     ]
    }
   ],
   "source": [
    "\n",
    "cmp_koz = 0.5 # Scaler\n",
    "group_koz = 1 # Adder\n",
    "masks = generatemasks(rawdxf.pg_cmp,cmp_koz,group_koz)\n",
    "masks.process()"
   ]
  },
  {
   "cell_type": "code",
   "execution_count": 46,
   "metadata": {},
   "outputs": [
    {
     "name": "stderr",
     "output_type": "stream",
     "text": [
      "c:\\Users\\mtan\\AppData\\Local\\Programs\\Python\\Python36\\lib\\site-packages\\descartes\\patch.py:65: ShapelyDeprecationWarning: The array interface is deprecated and will no longer work in Shapely 2.0. Convert the '.coords' to a numpy array instead.\n",
      "  for t in polygon])\n",
      "c:\\Users\\mtan\\AppData\\Local\\Programs\\Python\\Python36\\lib\\site-packages\\descartes\\patch.py:64: ShapelyDeprecationWarning: The array interface is deprecated and will no longer work in Shapely 2.0. Convert the '.coords' to a numpy array instead.\n",
      "  [asarray(r)[:, :2] for r in t.interiors])\n",
      "c:\\Users\\mtan\\AppData\\Local\\Programs\\Python\\Python36\\lib\\site-packages\\descartes\\patch.py:46: ShapelyDeprecationWarning: Iteration over multi-part geometries is deprecated and will be removed in Shapely 2.0. Use the `geoms` property to access the constituent parts of a multi-part geometry.\n",
      "  polygon = [Polygon(p) for p in polygon]\n"
     ]
    },
    {
     "data": {
      "image/png": "[encoded data removed]",
      "text/plain": [
       "<Figure size 1440x720 with 1 Axes>"
      ]
     },
     "metadata": {
      "needs_background": "light"
     },
     "output_type": "display_data"
    }
   ],
   "source": [
    "plots = plotfun(rawdxf.pg_cmp,masks.diff_mask) \n",
    "plots.plot_results() # We input raw positions & generated masks into a plot together"
   ]
  },
  {
   "cell_type": "code",
   "execution_count": 56,
   "metadata": {},
   "outputs": [
    {
     "data": {
      "image/svg+xml": [
       "<svg xmlns=\"http://www.w3.org/2000/svg\" xmlns:xlink=\"http://www.w3.org/1999/xlink\" width=\"300\" height=\"300\" viewBox=\"-10409.62 -8699.62 20469.24 18769.24\" preserveAspectRatio=\"xMinYMin meet\"><g transform=\"matrix(1,0,0,-1,0,1370.0)\"><path fill-rule=\"evenodd\" fill=\"#66cc99\" stroke=\"#555555\" stroke-width=\"136.4616\" opacity=\"0.6\" d=\"M -9651.5,-7941.5 L -9651.5,9311.5 L 9301.5,9311.5 L 9301.5,-7941.5 L -9651.5,-7941.5 z M -9449.5,-7789.5 L -9650.5,-7789.5 L -9650.5,-7940.5 L -9449.5,-7940.5 L -9449.5,-7789.5 z M -8999.5,-7940.5 L -8999.5,-7789.5 L -9200.5,-7789.5 L -9200.5,-7940.5 L -8999.5,-7940.5 z M -8999.5,-7610.5 L -8999.5,-7459.5 L -9200.5,-7459.5 L -9200.5,-7610.5 L -8999.5,-7610.5 z M -9449.5,-7459.5 L -9650.5,-7459.5 L -9650.5,-7610.5 L -9449.5,-7610.5 L -9449.5,-7459.5 z M -9449.5,-7190.5 L -9449.5,-7039.5 L -9650.5,-7039.5 L -9650.5,-7190.5 L -9449.5,-7190.5 z M -8999.5,-7190.5 L -8999.5,-7039.5 L -9200.5,-7039.5 L -9200.5,-7190.5 L -8999.5,-7190.5 z M -9449.5,-6709.5 L -9650.5,-6709.5 L -9650.5,-6860.5 L -9449.5,-6860.5 L -9449.5,-6709.5 z M -9449.5,-6340.5 L -9449.5,-6189.5 L -9650.5,-6189.5 L -9650.5,-6340.5 L -9449.5,-6340.5 z M -9449.5,-6010.5 L -9449.5,-5859.5 L -9650.5,-5859.5 L -9650.5,-6010.5 L -9449.5,-6010.5 z M -9389.5,-5550.5 L -9389.5,-5349.5 L -9540.5,-5349.5 L -9540.5,-5550.5 L -9389.5,-5550.5 z M -9059.5,-5550.5 L -9059.5,-5349.5 L -9210.5,-5349.5 L -9210.5,-5550.5 L -9059.5,-5550.5 z M -9059.5,-5050.5 L -9059.5,-4849.5 L -9210.5,-4849.5 L -9210.5,-5050.5 L -9059.5,-5050.5 z M -9389.5,-5050.5 L -9389.5,-4849.5 L -9540.5,-4849.5 L -9540.5,-5050.5 L -9389.5,-5050.5 z M -9449.5,-4389.5 L -9650.5,-4389.5 L -9650.5,-4540.5 L -9449.5,-4540.5 L -9449.5,-4389.5 z M -9449.5,-4210.5 L -9449.5,-4059.5 L -9650.5,-4059.5 L -9650.5,-4210.5 L -9449.5,-4210.5 z M -9449.5,-3740.5 L -9449.5,-3589.5 L -9650.5,-3589.5 L -9650.5,-3740.5 L -9449.5,-3740.5 z M -9449.5,-3410.5 L -9449.5,-3259.5 L -9650.5,-3259.5 L -9650.5,-3410.5 L -9449.5,-3410.5 z M -8999.5,-3410.5 L -8999.5,-3259.5 L -9200.5,-3259.5 L -9200.5,-3410.5 L -8999.5,-3410.5 z M -9449.5,-2990.5 L -9449.5,-2839.5 L -9650.5,-2839.5 L -9650.5,-2990.5 L -9449.5,-2990.5 z M -8999.5,-2990.5 L -8999.5,-2839.5 L -9200.5,-2839.5 L -9200.5,-2990.5 L -8999.5,-2990.5 z M -8999.5,-2509.5 L -9200.5,-2509.5 L -9200.5,-2660.5 L -8999.5,-2660.5 L -8999.5,-2509.5 z M -9449.5,-2660.5 L -9449.5,-2509.5 L -9650.5,-2509.5 L -9650.5,-2660.5 L -9449.5,-2660.5 z M -9389.5,-2200.5 L -9389.5,-1999.5 L -9540.5,-1999.5 L -9540.5,-2200.5 L -9389.5,-2200.5 z M -9059.5,-2200.5 L -9059.5,-1999.5 L -9210.5,-1999.5 L -9210.5,-2200.5 L -9059.5,-2200.5 z M -9389.5,-1650.5 L -9389.5,-1449.5 L -9540.5,-1449.5 L -9540.5,-1650.5 L -9389.5,-1650.5 z M -9059.5,-1650.5 L -9059.5,-1449.5 L -9210.5,-1449.5 L -9210.5,-1650.5 L -9059.5,-1650.5 z M -9399.5,-900.5 L -9399.5,100.5 L -9600.5,100.5 L -9600.5,-900.5 L -9399.5,-900.5 z M -9399.5,3350.5 L -9600.5,3350.5 L -9600.5,2349.5 L -9399.5,2349.5 L -9399.5,3350.5 z M -9449.5,3859.5 L -9449.5,4010.5 L -9650.5,4010.5 L -9650.5,3859.5 L -9449.5,3859.5 z M -9449.5,4189.5 L -9449.5,4340.5 L -9650.5,4340.5 L -9650.5,4189.5 L -9449.5,4189.5 z M -9449.5,4559.5 L -9449.5,4710.5 L -9650.5,4710.5 L -9650.5,4559.5 L -9449.5,4559.5 z M -9449.5,4889.5 L -9449.5,5040.5 L -9650.5,5040.5 L -9650.5,4889.5 L -9449.5,4889.5 z M -9449.5,5309.5 L -9449.5,5460.5 L -9650.5,5460.5 L -9650.5,5309.5 L -9449.5,5309.5 z M -9449.5,5639.5 L -9449.5,5790.5 L -9650.5,5790.5 L -9650.5,5639.5 L -9449.5,5639.5 z M -9389.5,6250.5 L -9540.5,6250.5 L -9540.5,6049.5 L -9389.5,6049.5 L -9389.5,6250.5 z M -9059.5,6049.5 L -9059.5,6250.5 L -9210.5,6250.5 L -9210.5,6049.5 L -9059.5,6049.5 z M -9389.5,6549.5 L -9389.5,6750.5 L -9540.5,6750.5 L -9540.5,6549.5 L -9389.5,6549.5 z M -9059.5,6549.5 L -9059.5,6750.5 L -9210.5,6750.5 L -9210.5,6549.5 L -9059.5,6549.5 z M -9449.5,7059.5 L -9449.5,7210.5 L -9650.5,7210.5 L -9650.5,7059.5 L -9449.5,7059.5 z M -9449.5,7389.5 L -9449.5,7540.5 L -9650.5,7540.5 L -9650.5,7389.5 L -9449.5,7389.5 z M -9449.5,7859.5 L -9449.5,8010.5 L -9650.5,8010.5 L -9650.5,7859.5 L -9449.5,7859.5 z M -9449.5,8340.5 L -9650.5,8340.5 L -9650.5,8189.5 L -9449.5,8189.5 L -9449.5,8340.5 z M -9449.5,8709.5 L -9449.5,8860.5 L -9650.5,8860.5 L -9650.5,8709.5 L -9449.5,8709.5 z M -9449.5,9039.5 L -9449.5,9190.5 L -9650.5,9190.5 L -9650.5,9039.5 L -9449.5,9039.5 z M -8999.5,-6860.5 L -8999.5,-6709.5 L -9200.5,-6709.5 L -9200.5,-6860.5 L -8999.5,-6860.5 z M -8999.5,-6340.5 L -8999.5,-6189.5 L -9200.5,-6189.5 L -9200.5,-6340.5 L -8999.5,-6340.5 z M -8999.5,-6010.5 L -8999.5,-5859.5 L -9200.5,-5859.5 L -9200.5,-6010.5 L -8999.5,-6010.5 z M -8999.5,-4540.5 L -8999.5,-4389.5 L -9200.5,-4389.5 L -9200.5,-4540.5 L -8999.5,-4540.5 z M -8999.5,-4059.5 L -9200.5,-4059.5 L -9200.5,-4210.5 L -8999.5,-4210.5 L -8999.5,-4059.5 z M -8999.5,-3740.5 L -8999.5,-3589.5 L -9200.5,-3589.5 L -9200.5,-3740.5 L -8999.5,-3740.5 z M -8999.5,-900.5 L -8999.5,100.5 L -9200.5,100.5 L -9200.5,-900.5 L -8999.5,-900.5 z M -8999.5,2349.5 L -8999.5,3350.5 L -9200.5,3350.5 L -9200.5,2349.5 L -8999.5,2349.5 z M -8999.5,3859.5 L -8999.5,4010.5 L -9200.5,4010.5 L -9200.5,3859.5 L -8999.5,3859.5 z M -8999.5,4189.5 L -8999.5,4340.5 L -9200.5,4340.5 L -9200.5,4189.5 L -8999.5,4189.5 z M -8999.5,4559.5 L -8999.5,4710.5 L -9200.5,4710.5 L -9200.5,4559.5 L -8999.5,4559.5 z M -8999.5,5040.5 L -9200.5,5040.5 L -9200.5,4889.5 L -8999.5,4889.5 L -8999.5,5040.5 z M -8999.5,5309.5 L -8999.5,5460.5 L -9200.5,5460.5 L -9200.5,5309.5 L -8999.5,5309.5 z M -8999.5,5639.5 L -8999.5,5790.5 L -9200.5,5790.5 L -9200.5,5639.5 L -8999.5,5639.5 z M -8999.5,7210.5 L -9200.5,7210.5 L -9200.5,7059.5 L -8999.5,7059.5 L -8999.5,7210.5 z M -8999.5,7389.5 L -8999.5,7540.5 L -9200.5,7540.5 L -9200.5,7389.5 L -8999.5,7389.5 z M -8999.5,7859.5 L -8999.5,8010.5 L -9200.5,8010.5 L -9200.5,7859.5 L -8999.5,7859.5 z M -6199.5,8150.5 L -6400.5,8150.5 L -6400.5,7999.5 L -6199.5,7999.5 L -6199.5,8150.5 z M -6749.5,7999.5 L -6749.5,8150.5 L -6950.5,8150.5 L -6950.5,7999.5 L -6749.5,7999.5 z M -7739.5,7999.5 L -7739.5,8200.5 L -7890.5,8200.5 L -7890.5,7999.5 L -7739.5,7999.5 z M -7409.5,7999.5 L -7409.5,8200.5 L -7560.5,8200.5 L -7560.5,7999.5 L -7409.5,7999.5 z M -5789.5,7999.5 L -5789.5,8200.5 L -5940.5,8200.5 L -5940.5,7999.5 L -5789.5,7999.5 z M -8539.5,7999.5 L -8539.5,8200.5 L -8690.5,8200.5 L -8690.5,7999.5 L -8539.5,7999.5 z M -8209.5,7999.5 L -8209.5,8200.5 L -8360.5,8200.5 L -8360.5,7999.5 L -8209.5,7999.5 z M -8999.5,8340.5 L -9200.5,8340.5 L -9200.5,8189.5 L -8999.5,8189.5 L -8999.5,8340.5 z M -6749.5,8329.5 L -6749.5,8480.5 L -6950.5,8480.5 L -6950.5,8329.5 L -6749.5,8329.5 z M -6199.5,8329.5 L -6199.5,8480.5 L -6400.5,8480.5 L -6400.5,8329.5 L -6199.5,8329.5 z M -7739.5,8499.5 L -7739.5,8700.5 L -7890.5,8700.5 L -7890.5,8499.5 L -7739.5,8499.5 z M -7409.5,8499.5 L -7409.5,8700.5 L -7560.5,8700.5 L -7560.5,8499.5 L -7409.5,8499.5 z M -8539.5,8499.5 L -8539.5,8700.5 L -8690.5,8700.5 L -8690.5,8499.5 L -8539.5,8499.5 z M -5789.5,8499.5 L -5789.5,8700.5 L -5940.5,8700.5 L -5940.5,8499.5 L -5789.5,8499.5 z M -8209.5,8700.5 L -8360.5,8700.5 L -8360.5,8499.5 L -8209.5,8499.5 L -8209.5,8700.5 z M -8999.5,8709.5 L -8999.5,8860.5 L -9200.5,8860.5 L -9200.5,8709.5 L -8999.5,8709.5 z M -6749.5,8709.5 L -6749.5,8860.5 L -6950.5,8860.5 L -6950.5,8709.5 L -6749.5,8709.5 z M -6199.5,8709.5 L -6199.5,8860.5 L -6400.5,8860.5 L -6400.5,8709.5 L -6199.5,8709.5 z M -7739.5,8989.5 L -7739.5,9190.5 L -7890.5,9190.5 L -7890.5,8989.5 L -7739.5,8989.5 z M -8209.5,8989.5 L -8209.5,9190.5 L -8360.5,9190.5 L -8360.5,8989.5 L -8209.5,8989.5 z M -7409.5,8989.5 L -7409.5,9190.5 L -7560.5,9190.5 L -7560.5,8989.5 L -7409.5,8989.5 z M -8539.5,9190.5 L -8690.5,9190.5 L -8690.5,8989.5 L -8539.5,8989.5 L -8539.5,9190.5 z M -5459.5,8989.5 L -5459.5,9190.5 L -5610.5,9190.5 L -5610.5,8989.5 L -5459.5,8989.5 z M -5789.5,8989.5 L -5789.5,9190.5 L -5940.5,9190.5 L -5940.5,8989.5 L -5789.5,8989.5 z M -8999.5,9039.5 L -8999.5,9190.5 L -9200.5,9190.5 L -9200.5,9039.5 L -8999.5,9039.5 z M -6749.5,9039.5 L -6749.5,9190.5 L -6950.5,9190.5 L -6950.5,9039.5 L -6749.5,9039.5 z M -6199.5,9039.5 L -6199.5,9190.5 L -6400.5,9190.5 L -6400.5,9039.5 L -6199.5,9039.5 z M 500.5,7799.5 L 500.5,8000.5 L -500.5,8000.5 L -500.5,7799.5 L 500.5,7799.5 z M -3299.5,8150.5 L -3500.5,8150.5 L -3500.5,7999.5 L -3299.5,7999.5 L -3299.5,8150.5 z M 4000.5,7999.5 L 4000.5,8150.5 L 3799.5,8150.5 L 3799.5,7999.5 L 4000.5,7999.5 z M -3949.5,7999.5 L -3949.5,8150.5 L -4150.5,8150.5 L -4150.5,7999.5 L -3949.5,7999.5 z M 3500.5,7999.5 L 3500.5,8150.5 L 3299.5,8150.5 L 3299.5,7999.5 L 3500.5,7999.5 z M -4609.5,7999.5 L -4609.5,8200.5 L -4760.5,8200.5 L -4760.5,7999.5 L -4609.5,7999.5 z M -5459.5,7999.5 L -5459.5,8200.5 L -5610.5,8200.5 L -5610.5,7999.5 L -5459.5,7999.5 z M -4939.5,7999.5 L -4939.5,8200.5 L -5090.5,8200.5 L -5090.5,7999.5 L -4939.5,7999.5 z M 4790.5,8200.5 L 4639.5,8200.5 L 4639.5,7999.5 L 4790.5,7999.5 L 4790.5,8200.5 z M 4460.5,7999.5 L 4460.5,8200.5 L 4309.5,8200.5 L 4309.5,7999.5 L 4460.5,7999.5 z M 5260.5,7999.5 L 5260.5,8200.5 L 5109.5,8200.5 L 5109.5,7999.5 L 5260.5,7999.5 z M 500.5,8199.5 L 500.5,8400.5 L -500.5,8400.5 L -500.5,8199.5 L 500.5,8199.5 z M -3949.5,8329.5 L -3949.5,8480.5 L -4150.5,8480.5 L -4150.5,8329.5 L -3949.5,8329.5 z M 4000.5,8329.5 L 4000.5,8480.5 L 3799.5,8480.5 L 3799.5,8329.5 L 4000.5,8329.5 z M 3500.5,8329.5 L 3500.5,8480.5 L 3299.5,8480.5 L 3299.5,8329.5 L 3500.5,8329.5 z M -3299.5,8480.5 L -3500.5,8480.5 L -3500.5,8329.5 L -3299.5,8329.5 L -3299.5,8480.5 z M -5459.5,8499.5 L -5459.5,8700.5 L -5610.5,8700.5 L -5610.5,8499.5 L -5459.5,8499.5 z M -4609.5,8499.5 L -4609.5,8700.5 L -4760.5,8700.5 L -4760.5,8499.5 L -4609.5,8499.5 z M -2649.5,8099.5 L -2649.5,9100.5 L -2850.5,9100.5 L -2850.5,8099.5 L -2649.5,8099.5 z M -2249.5,8099.5 L -2249.5,9100.5 L -2450.5,9100.5 L -2450.5,8099.5 L -2249.5,8099.5 z M -1649.5,8099.5 L -1649.5,9100.5 L -1850.5,9100.5 L -1850.5,8099.5 L -1649.5,8099.5 z M -1249.5,8099.5 L -1249.5,9100.5 L -1450.5,9100.5 L -1450.5,8099.5 L -1249.5,8099.5 z M 2850.5,9100.5 L 2649.5,9100.5 L 2649.5,8099.5 L 2850.5,8099.5 L 2850.5,9100.5 z M 1400.5,8099.5 L 1400.5,9100.5 L 1199.5,9100.5 L 1199.5,8099.5 L 1400.5,8099.5 z M 1800.5,8099.5 L 1800.5,9100.5 L 1599.5,9100.5 L 1599.5,8099.5 L 1800.5,8099.5 z M 2450.5,9100.5 L 2249.5,9100.5 L 2249.5,8099.5 L 2450.5,8099.5 L 2450.5,9100.5 z M 4460.5,8499.5 L 4460.5,8700.5 L 4309.5,8700.5 L 4309.5,8499.5 L 4460.5,8499.5 z M 4790.5,8499.5 L 4790.5,8700.5 L 4639.5,8700.5 L 4639.5,8499.5 L 4790.5,8499.5 z M -4939.5,8700.5 L -5090.5,8700.5 L -5090.5,8499.5 L -4939.5,8499.5 L -4939.5,8700.5 z M -3299.5,8709.5 L -3299.5,8860.5 L -3500.5,8860.5 L -3500.5,8709.5 L -3299.5,8709.5 z M 3500.5,8709.5 L 3500.5,8860.5 L 3299.5,8860.5 L 3299.5,8709.5 L 3500.5,8709.5 z M -3949.5,8709.5 L -3949.5,8860.5 L -4150.5,8860.5 L -4150.5,8709.5 L -3949.5,8709.5 z M 4000.5,8709.5 L 4000.5,8860.5 L 3799.5,8860.5 L 3799.5,8709.5 L 4000.5,8709.5 z M 500.5,8709.5 L 500.5,8910.5 L -500.5,8910.5 L -500.5,8709.5 L 500.5,8709.5 z M -4609.5,8989.5 L -4609.5,9190.5 L -4760.5,9190.5 L -4760.5,8989.5 L -4609.5,8989.5 z M 4460.5,9190.5 L 4309.5,9190.5 L 4309.5,8989.5 L 4460.5,8989.5 L 4460.5,9190.5 z M 5260.5,8989.5 L 5260.5,9190.5 L 5109.5,9190.5 L 5109.5,8989.5 L 5260.5,8989.5 z M 4790.5,8989.5 L 4790.5,9190.5 L 4639.5,9190.5 L 4639.5,8989.5 L 4790.5,8989.5 z M -4939.5,8989.5 L -4939.5,9190.5 L -5090.5,9190.5 L -5090.5,8989.5 L -4939.5,8989.5 z M 3500.5,9039.5 L 3500.5,9190.5 L 3299.5,9190.5 L 3299.5,9039.5 L 3500.5,9039.5 z M -3949.5,9039.5 L -3949.5,9190.5 L -4150.5,9190.5 L -4150.5,9039.5 L -3949.5,9039.5 z M -3299.5,9039.5 L -3299.5,9190.5 L -3500.5,9190.5 L -3500.5,9039.5 L -3299.5,9039.5 z M 4000.5,9190.5 L 3799.5,9190.5 L 3799.5,9039.5 L 4000.5,9039.5 L 4000.5,9190.5 z M 500.5,9109.5 L 500.5,9310.5 L -500.5,9310.5 L -500.5,9109.5 L 500.5,9109.5 z M 8900.5,-7940.5 L 8900.5,-7789.5 L 8699.5,-7789.5 L 8699.5,-7940.5 L 8900.5,-7940.5 z M 8900.5,-7610.5 L 8900.5,-7459.5 L 8699.5,-7459.5 L 8699.5,-7610.5 L 8900.5,-7610.5 z M 8900.5,-7190.5 L 8900.5,-7039.5 L 8699.5,-7039.5 L 8699.5,-7190.5 L 8900.5,-7190.5 z M 8900.5,-6860.5 L 8900.5,-6709.5 L 8699.5,-6709.5 L 8699.5,-6860.5 L 8900.5,-6860.5 z M 8900.5,-6340.5 L 8900.5,-6189.5 L 8699.5,-6189.5 L 8699.5,-6340.5 L 8900.5,-6340.5 z M 8900.5,-5859.5 L 8699.5,-5859.5 L 8699.5,-6010.5 L 8900.5,-6010.5 L 8900.5,-5859.5 z M 8900.5,-4540.5 L 8900.5,-4389.5 L 8699.5,-4389.5 L 8699.5,-4540.5 L 8900.5,-4540.5 z M 8900.5,-4210.5 L 8900.5,-4059.5 L 8699.5,-4059.5 L 8699.5,-4210.5 L 8900.5,-4210.5 z M 8900.5,-3740.5 L 8900.5,-3589.5 L 8699.5,-3589.5 L 8699.5,-3740.5 L 8900.5,-3740.5 z M 8900.5,-3410.5 L 8900.5,-3259.5 L 8699.5,-3259.5 L 8699.5,-3410.5 L 8900.5,-3410.5 z M 8900.5,-2990.5 L 8900.5,-2839.5 L 8699.5,-2839.5 L 8699.5,-2990.5 L 8900.5,-2990.5 z M 8900.5,-2660.5 L 8900.5,-2509.5 L 8699.5,-2509.5 L 8699.5,-2660.5 L 8900.5,-2660.5 z M 8900.5,100.5 L 8699.5,100.5 L 8699.5,-900.5 L 8900.5,-900.5 L 8900.5,100.5 z M 8900.5,2349.5 L 8900.5,3350.5 L 8699.5,3350.5 L 8699.5,2349.5 L 8900.5,2349.5 z M 8900.5,3859.5 L 8900.5,4010.5 L 8699.5,4010.5 L 8699.5,3859.5 L 8900.5,3859.5 z M 8900.5,4189.5 L 8900.5,4340.5 L 8699.5,4340.5 L 8699.5,4189.5 L 8900.5,4189.5 z M 8900.5,7859.5 L 8900.5,8010.5 L 8699.5,8010.5 L 8699.5,7859.5 L 8900.5,7859.5 z M 6600.5,7999.5 L 6600.5,8150.5 L 6399.5,8150.5 L 6399.5,7999.5 L 6600.5,7999.5 z M 6150.5,7999.5 L 6150.5,8150.5 L 5949.5,8150.5 L 5949.5,7999.5 L 6150.5,7999.5 z M 5590.5,8200.5 L 5439.5,8200.5 L 5439.5,7999.5 L 5590.5,7999.5 L 5590.5,8200.5 z M 7110.5,7999.5 L 7110.5,8200.5 L 6959.5,8200.5 L 6959.5,7999.5 L 7110.5,7999.5 z M 7960.5,7999.5 L 7960.5,8200.5 L 7809.5,8200.5 L 7809.5,7999.5 L 7960.5,7999.5 z M 7440.5,7999.5 L 7440.5,8200.5 L 7289.5,8200.5 L 7289.5,7999.5 L 7440.5,7999.5 z M 8290.5,7999.5 L 8290.5,8200.5 L 8139.5,8200.5 L 8139.5,7999.5 L 8290.5,7999.5 z M 8900.5,8189.5 L 8900.5,8340.5 L 8699.5,8340.5 L 8699.5,8189.5 L 8900.5,8189.5 z M 6600.5,8329.5 L 6600.5,8480.5 L 6399.5,8480.5 L 6399.5,8329.5 L 6600.5,8329.5 z M 6150.5,8480.5 L 5949.5,8480.5 L 5949.5,8329.5 L 6150.5,8329.5 L 6150.5,8480.5 z M 7960.5,8499.5 L 7960.5,8700.5 L 7809.5,8700.5 L 7809.5,8499.5 L 7960.5,8499.5 z M 8290.5,8499.5 L 8290.5,8700.5 L 8139.5,8700.5 L 8139.5,8499.5 L 8290.5,8499.5 z M 7440.5,8499.5 L 7440.5,8700.5 L 7289.5,8700.5 L 7289.5,8499.5 L 7440.5,8499.5 z M 7110.5,8499.5 L 7110.5,8700.5 L 6959.5,8700.5 L 6959.5,8499.5 L 7110.5,8499.5 z M 5260.5,8499.5 L 5260.5,8700.5 L 5109.5,8700.5 L 5109.5,8499.5 L 5260.5,8499.5 z M 5590.5,8499.5 L 5590.5,8700.5 L 5439.5,8700.5 L 5439.5,8499.5 L 5590.5,8499.5 z M 8900.5,8860.5 L 8699.5,8860.5 L 8699.5,8709.5 L 8900.5,8709.5 L 8900.5,8860.5 z M 6150.5,8709.5 L 6150.5,8860.5 L 5949.5,8860.5 L 5949.5,8709.5 L 6150.5,8709.5 z M 6600.5,8709.5 L 6600.5,8860.5 L 6399.5,8860.5 L 6399.5,8709.5 L 6600.5,8709.5 z M 8290.5,9190.5 L 8139.5,9190.5 L 8139.5,8989.5 L 8290.5,8989.5 L 8290.5,9190.5 z M 7960.5,8989.5 L 7960.5,9190.5 L 7809.5,9190.5 L 7809.5,8989.5 L 7960.5,8989.5 z M 7440.5,8989.5 L 7440.5,9190.5 L 7289.5,9190.5 L 7289.5,8989.5 L 7440.5,8989.5 z M 7110.5,9190.5 L 6959.5,9190.5 L 6959.5,8989.5 L 7110.5,8989.5 L 7110.5,9190.5 z M 5590.5,8989.5 L 5590.5,9190.5 L 5439.5,9190.5 L 5439.5,8989.5 L 5590.5,8989.5 z M 6600.5,9039.5 L 6600.5,9190.5 L 6399.5,9190.5 L 6399.5,9039.5 L 6600.5,9039.5 z M 6150.5,9039.5 L 6150.5,9190.5 L 5949.5,9190.5 L 5949.5,9039.5 L 6150.5,9039.5 z M 8900.5,9039.5 L 8900.5,9190.5 L 8699.5,9190.5 L 8699.5,9039.5 L 8900.5,9039.5 z M 9300.5,-7940.5 L 9300.5,-7789.5 L 9099.5,-7789.5 L 9099.5,-7940.5 L 9300.5,-7940.5 z M 9300.5,-7610.5 L 9300.5,-7459.5 L 9099.5,-7459.5 L 9099.5,-7610.5 L 9300.5,-7610.5 z M 9300.5,-7039.5 L 9099.5,-7039.5 L 9099.5,-7190.5 L 9300.5,-7190.5 L 9300.5,-7039.5 z M 9300.5,-6860.5 L 9300.5,-6709.5 L 9099.5,-6709.5 L 9099.5,-6860.5 L 9300.5,-6860.5 z M 9300.5,-6340.5 L 9300.5,-6189.5 L 9099.5,-6189.5 L 9099.5,-6340.5 L 9300.5,-6340.5 z M 9300.5,-6010.5 L 9300.5,-5859.5 L 9099.5,-5859.5 L 9099.5,-6010.5 L 9300.5,-6010.5 z M 8900.5,-5550.5 L 8900.5,-5349.5 L 8749.5,-5349.5 L 8749.5,-5550.5 L 8900.5,-5550.5 z M 9230.5,-5550.5 L 9230.5,-5349.5 L 9079.5,-5349.5 L 9079.5,-5550.5 L 9230.5,-5550.5 z M 8900.5,-5050.5 L 8900.5,-4849.5 L 8749.5,-4849.5 L 8749.5,-5050.5 L 8900.5,-5050.5 z M 9230.5,-4849.5 L 9079.5,-4849.5 L 9079.5,-5050.5 L 9230.5,-5050.5 L 9230.5,-4849.5 z M 9300.5,-4540.5 L 9300.5,-4389.5 L 9099.5,-4389.5 L 9099.5,-4540.5 L 9300.5,-4540.5 z M 9300.5,-4210.5 L 9300.5,-4059.5 L 9099.5,-4059.5 L 9099.5,-4210.5 L 9300.5,-4210.5 z M 9300.5,-3740.5 L 9300.5,-3589.5 L 9099.5,-3589.5 L 9099.5,-3740.5 L 9300.5,-3740.5 z M 9300.5,-3410.5 L 9300.5,-3259.5 L 9099.5,-3259.5 L 9099.5,-3410.5 L 9300.5,-3410.5 z M 9300.5,-2990.5 L 9300.5,-2839.5 L 9099.5,-2839.5 L 9099.5,-2990.5 L 9300.5,-2990.5 z M 9300.5,-2660.5 L 9300.5,-2509.5 L 9099.5,-2509.5 L 9099.5,-2660.5 L 9300.5,-2660.5 z M 9230.5,-1999.5 L 9079.5,-1999.5 L 9079.5,-2200.5 L 9230.5,-2200.5 L 9230.5,-1999.5 z M 8900.5,-2200.5 L 8900.5,-1999.5 L 8749.5,-1999.5 L 8749.5,-2200.5 L 8900.5,-2200.5 z M 9230.5,-1650.5 L 9230.5,-1449.5 L 9079.5,-1449.5 L 9079.5,-1650.5 L 9230.5,-1650.5 z M 8900.5,-1650.5 L 8900.5,-1449.5 L 8749.5,-1449.5 L 8749.5,-1650.5 L 8900.5,-1650.5 z M 9300.5,-900.5 L 9300.5,100.5 L 9099.5,100.5 L 9099.5,-900.5 L 9300.5,-900.5 z M 9300.5,2349.5 L 9300.5,3350.5 L 9099.5,3350.5 L 9099.5,2349.5 L 9300.5,2349.5 z M 9300.5,3859.5 L 9300.5,4010.5 L 9099.5,4010.5 L 9099.5,3859.5 L 9300.5,3859.5 z M 9300.5,4340.5 L 9099.5,4340.5 L 9099.5,4189.5 L 9300.5,4189.5 L 9300.5,4340.5 z M 8900.5,4559.5 L 8900.5,4710.5 L 8699.5,4710.5 L 8699.5,4559.5 L 8900.5,4559.5 z M 9300.5,4559.5 L 9300.5,4710.5 L 9099.5,4710.5 L 9099.5,4559.5 L 9300.5,4559.5 z M 8900.5,4889.5 L 8900.5,5040.5 L 8699.5,5040.5 L 8699.5,4889.5 L 8900.5,4889.5 z M 9300.5,4889.5 L 9300.5,5040.5 L 9099.5,5040.5 L 9099.5,4889.5 L 9300.5,4889.5 z M 8900.5,5309.5 L 8900.5,5460.5 L 8699.5,5460.5 L 8699.5,5309.5 L 8900.5,5309.5 z M 9300.5,5309.5 L 9300.5,5460.5 L 9099.5,5460.5 L 9099.5,5309.5 L 9300.5,5309.5 z M 8900.5,5790.5 L 8699.5,5790.5 L 8699.5,5639.5 L 8900.5,5639.5 L 8900.5,5790.5 z M 9300.5,5639.5 L 9300.5,5790.5 L 9099.5,5790.5 L 9099.5,5639.5 L 9300.5,5639.5 z M 9230.5,6049.5 L 9230.5,6250.5 L 9079.5,6250.5 L 9079.5,6049.5 L 9230.5,6049.5 z M 8900.5,6049.5 L 8900.5,6250.5 L 8749.5,6250.5 L 8749.5,6049.5 L 8900.5,6049.5 z M 9230.5,6549.5 L 9230.5,6750.5 L 9079.5,6750.5 L 9079.5,6549.5 L 9230.5,6549.5 z M 8900.5,6549.5 L 8900.5,6750.5 L 8749.5,6750.5 L 8749.5,6549.5 L 8900.5,6549.5 z M 8900.5,7059.5 L 8900.5,7210.5 L 8699.5,7210.5 L 8699.5,7059.5 L 8900.5,7059.5 z M 9300.5,7210.5 L 9099.5,7210.5 L 9099.5,7059.5 L 9300.5,7059.5 L 9300.5,7210.5 z M 9300.5,7389.5 L 9300.5,7540.5 L 9099.5,7540.5 L 9099.5,7389.5 L 9300.5,7389.5 z M 8900.5,7389.5 L 8900.5,7540.5 L 8699.5,7540.5 L 8699.5,7389.5 L 8900.5,7389.5 z M 9300.5,7859.5 L 9300.5,8010.5 L 9099.5,8010.5 L 9099.5,7859.5 L 9300.5,7859.5 z M 9300.5,8189.5 L 9300.5,8340.5 L 9099.5,8340.5 L 9099.5,8189.5 L 9300.5,8189.5 z M 9300.5,8709.5 L 9300.5,8860.5 L 9099.5,8860.5 L 9099.5,8709.5 L 9300.5,8709.5 z M 9300.5,9039.5 L 9300.5,9190.5 L 9099.5,9190.5 L 9099.5,9039.5 L 9300.5,9039.5 z\" /></g></svg>"
      ],
      "text/plain": [
       "<shapely.geometry.polygon.Polygon at 0x1f683e6b3c8>"
      ]
     },
     "execution_count": 56,
     "metadata": {},
     "output_type": "execute_result"
    }
   ],
   "source": [
    "masks.diff_mask"
   ]
  },
  {
   "cell_type": "code",
   "execution_count": 57,
   "metadata": {},
   "outputs": [
    {
     "data": {
      "image/svg+xml": [
       "<svg xmlns=\"http://www.w3.org/2000/svg\" xmlns:xlink=\"http://www.w3.org/1999/xlink\" width=\"300\" height=\"300\" viewBox=\"-10408.54 -8698.54 20467.08 18767.08\" preserveAspectRatio=\"xMinYMin meet\"><g transform=\"matrix(1,0,0,-1,0,1370.0)\"><g><path fill-rule=\"evenodd\" fill=\"#66cc99\" stroke=\"#555555\" stroke-width=\"136.4472\" opacity=\"0.6\" d=\"M -9449.5,-7940.5 L -9650.5,-7940.5 L -9650.5,-7789.5 L -9449.5,-7789.5 L -9449.5,-7940.5 z\" /><path fill-rule=\"evenodd\" fill=\"#66cc99\" stroke=\"#555555\" stroke-width=\"136.4472\" opacity=\"0.6\" d=\"M -9200.5,-7940.5 L -9200.5,-7789.5 L -8999.5,-7789.5 L -8999.5,-7940.5 L -9200.5,-7940.5 z\" /><path fill-rule=\"evenodd\" fill=\"#66cc99\" stroke=\"#555555\" stroke-width=\"136.4472\" opacity=\"0.6\" d=\"M -9200.5,-7610.5 L -9200.5,-7459.5 L -8999.5,-7459.5 L -8999.5,-7610.5 L -9200.5,-7610.5 z\" /><path fill-rule=\"evenodd\" fill=\"#66cc99\" stroke=\"#555555\" stroke-width=\"136.4472\" opacity=\"0.6\" d=\"M -9449.5,-7610.5 L -9650.5,-7610.5 L -9650.5,-7459.5 L -9449.5,-7459.5 L -9449.5,-7610.5 z\" /><path fill-rule=\"evenodd\" fill=\"#66cc99\" stroke=\"#555555\" stroke-width=\"136.4472\" opacity=\"0.6\" d=\"M -9650.5,-7190.5 L -9650.5,-7039.5 L -9449.5,-7039.5 L -9449.5,-7190.5 L -9650.5,-7190.5 z\" /><path fill-rule=\"evenodd\" fill=\"#66cc99\" stroke=\"#555555\" stroke-width=\"136.4472\" opacity=\"0.6\" d=\"M -9200.5,-7190.5 L -9200.5,-7039.5 L -8999.5,-7039.5 L -8999.5,-7190.5 L -9200.5,-7190.5 z\" /><path fill-rule=\"evenodd\" fill=\"#66cc99\" stroke=\"#555555\" stroke-width=\"136.4472\" opacity=\"0.6\" d=\"M -9449.5,-6860.5 L -9650.5,-6860.5 L -9650.5,-6709.5 L -9449.5,-6709.5 L -9449.5,-6860.5 z\" /><path fill-rule=\"evenodd\" fill=\"#66cc99\" stroke=\"#555555\" stroke-width=\"136.4472\" opacity=\"0.6\" d=\"M -9650.5,-6340.5 L -9650.5,-6189.5 L -9449.5,-6189.5 L -9449.5,-6340.5 L -9650.5,-6340.5 z\" /><path fill-rule=\"evenodd\" fill=\"#66cc99\" stroke=\"#555555\" stroke-width=\"136.4472\" opacity=\"0.6\" d=\"M -9650.5,-6010.5 L -9650.5,-5859.5 L -9449.5,-5859.5 L -9449.5,-6010.5 L -9650.5,-6010.5 z\" /><path fill-rule=\"evenodd\" fill=\"#66cc99\" stroke=\"#555555\" stroke-width=\"136.4472\" opacity=\"0.6\" d=\"M -9540.5,-5550.5 L -9540.5,-5349.5 L -9389.5,-5349.5 L -9389.5,-5550.5 L -9540.5,-5550.5 z\" /><path fill-rule=\"evenodd\" fill=\"#66cc99\" stroke=\"#555555\" stroke-width=\"136.4472\" opacity=\"0.6\" d=\"M -9210.5,-5550.5 L -9210.5,-5349.5 L -9059.5,-5349.5 L -9059.5,-5550.5 L -9210.5,-5550.5 z\" /><path fill-rule=\"evenodd\" fill=\"#66cc99\" stroke=\"#555555\" stroke-width=\"136.4472\" opacity=\"0.6\" d=\"M -9210.5,-5050.5 L -9210.5,-4849.5 L -9059.5,-4849.5 L -9059.5,-5050.5 L -9210.5,-5050.5 z\" /><path fill-rule=\"evenodd\" fill=\"#66cc99\" stroke=\"#555555\" stroke-width=\"136.4472\" opacity=\"0.6\" d=\"M -9540.5,-5050.5 L -9540.5,-4849.5 L -9389.5,-4849.5 L -9389.5,-5050.5 L -9540.5,-5050.5 z\" /><path fill-rule=\"evenodd\" fill=\"#66cc99\" stroke=\"#555555\" stroke-width=\"136.4472\" opacity=\"0.6\" d=\"M -9449.5,-4540.5 L -9650.5,-4540.5 L -9650.5,-4389.5 L -9449.5,-4389.5 L -9449.5,-4540.5 z\" /><path fill-rule=\"evenodd\" fill=\"#66cc99\" stroke=\"#555555\" stroke-width=\"136.4472\" opacity=\"0.6\" d=\"M -9650.5,-4210.5 L -9650.5,-4059.5 L -9449.5,-4059.5 L -9449.5,-4210.5 L -9650.5,-4210.5 z\" /><path fill-rule=\"evenodd\" fill=\"#66cc99\" stroke=\"#555555\" stroke-width=\"136.4472\" opacity=\"0.6\" d=\"M -9650.5,-3740.5 L -9650.5,-3589.5 L -9449.5,-3589.5 L -9449.5,-3740.5 L -9650.5,-3740.5 z\" /><path fill-rule=\"evenodd\" fill=\"#66cc99\" stroke=\"#555555\" stroke-width=\"136.4472\" opacity=\"0.6\" d=\"M -9650.5,-3410.5 L -9650.5,-3259.5 L -9449.5,-3259.5 L -9449.5,-3410.5 L -9650.5,-3410.5 z\" /><path fill-rule=\"evenodd\" fill=\"#66cc99\" stroke=\"#555555\" stroke-width=\"136.4472\" opacity=\"0.6\" d=\"M -9200.5,-3410.5 L -9200.5,-3259.5 L -8999.5,-3259.5 L -8999.5,-3410.5 L -9200.5,-3410.5 z\" /><path fill-rule=\"evenodd\" fill=\"#66cc99\" stroke=\"#555555\" stroke-width=\"136.4472\" opacity=\"0.6\" d=\"M -9650.5,-2990.5 L -9650.5,-2839.5 L -9449.5,-2839.5 L -9449.5,-2990.5 L -9650.5,-2990.5 z\" /><path fill-rule=\"evenodd\" fill=\"#66cc99\" stroke=\"#555555\" stroke-width=\"136.4472\" opacity=\"0.6\" d=\"M -9200.5,-2990.5 L -9200.5,-2839.5 L -8999.5,-2839.5 L -8999.5,-2990.5 L -9200.5,-2990.5 z\" /><path fill-rule=\"evenodd\" fill=\"#66cc99\" stroke=\"#555555\" stroke-width=\"136.4472\" opacity=\"0.6\" d=\"M -8999.5,-2660.5 L -9200.5,-2660.5 L -9200.5,-2509.5 L -8999.5,-2509.5 L -8999.5,-2660.5 z\" /><path fill-rule=\"evenodd\" fill=\"#66cc99\" stroke=\"#555555\" stroke-width=\"136.4472\" opacity=\"0.6\" d=\"M -9650.5,-2660.5 L -9650.5,-2509.5 L -9449.5,-2509.5 L -9449.5,-2660.5 L -9650.5,-2660.5 z\" /><path fill-rule=\"evenodd\" fill=\"#66cc99\" stroke=\"#555555\" stroke-width=\"136.4472\" opacity=\"0.6\" d=\"M -9540.5,-2200.5 L -9540.5,-1999.5 L -9389.5,-1999.5 L -9389.5,-2200.5 L -9540.5,-2200.5 z\" /><path fill-rule=\"evenodd\" fill=\"#66cc99\" stroke=\"#555555\" stroke-width=\"136.4472\" opacity=\"0.6\" d=\"M -9210.5,-2200.5 L -9210.5,-1999.5 L -9059.5,-1999.5 L -9059.5,-2200.5 L -9210.5,-2200.5 z\" /><path fill-rule=\"evenodd\" fill=\"#66cc99\" stroke=\"#555555\" stroke-width=\"136.4472\" opacity=\"0.6\" d=\"M -9540.5,-1650.5 L -9540.5,-1449.5 L -9389.5,-1449.5 L -9389.5,-1650.5 L -9540.5,-1650.5 z\" /><path fill-rule=\"evenodd\" fill=\"#66cc99\" stroke=\"#555555\" stroke-width=\"136.4472\" opacity=\"0.6\" d=\"M -9210.5,-1650.5 L -9210.5,-1449.5 L -9059.5,-1449.5 L -9059.5,-1650.5 L -9210.5,-1650.5 z\" /><path fill-rule=\"evenodd\" fill=\"#66cc99\" stroke=\"#555555\" stroke-width=\"136.4472\" opacity=\"0.6\" d=\"M -9600.5,-900.5 L -9600.5,100.5 L -9399.5,100.5 L -9399.5,-900.5 L -9600.5,-900.5 z\" /><path fill-rule=\"evenodd\" fill=\"#66cc99\" stroke=\"#555555\" stroke-width=\"136.4472\" opacity=\"0.6\" d=\"M -9399.5,2349.5 L -9600.5,2349.5 L -9600.5,3350.5 L -9399.5,3350.5 L -9399.5,2349.5 z\" /><path fill-rule=\"evenodd\" fill=\"#66cc99\" stroke=\"#555555\" stroke-width=\"136.4472\" opacity=\"0.6\" d=\"M -9650.5,3859.5 L -9650.5,4010.5 L -9449.5,4010.5 L -9449.5,3859.5 L -9650.5,3859.5 z\" /><path fill-rule=\"evenodd\" fill=\"#66cc99\" stroke=\"#555555\" stroke-width=\"136.4472\" opacity=\"0.6\" d=\"M -9650.5,4189.5 L -9650.5,4340.5 L -9449.5,4340.5 L -9449.5,4189.5 L -9650.5,4189.5 z\" /><path fill-rule=\"evenodd\" fill=\"#66cc99\" stroke=\"#555555\" stroke-width=\"136.4472\" opacity=\"0.6\" d=\"M -9650.5,4559.5 L -9650.5,4710.5 L -9449.5,4710.5 L -9449.5,4559.5 L -9650.5,4559.5 z\" /><path fill-rule=\"evenodd\" fill=\"#66cc99\" stroke=\"#555555\" stroke-width=\"136.4472\" opacity=\"0.6\" d=\"M -9650.5,4889.5 L -9650.5,5040.5 L -9449.5,5040.5 L -9449.5,4889.5 L -9650.5,4889.5 z\" /><path fill-rule=\"evenodd\" fill=\"#66cc99\" stroke=\"#555555\" stroke-width=\"136.4472\" opacity=\"0.6\" d=\"M -9650.5,5309.5 L -9650.5,5460.5 L -9449.5,5460.5 L -9449.5,5309.5 L -9650.5,5309.5 z\" /><path fill-rule=\"evenodd\" fill=\"#66cc99\" stroke=\"#555555\" stroke-width=\"136.4472\" opacity=\"0.6\" d=\"M -9650.5,5639.5 L -9650.5,5790.5 L -9449.5,5790.5 L -9449.5,5639.5 L -9650.5,5639.5 z\" /><path fill-rule=\"evenodd\" fill=\"#66cc99\" stroke=\"#555555\" stroke-width=\"136.4472\" opacity=\"0.6\" d=\"M -9389.5,6049.5 L -9540.5,6049.5 L -9540.5,6250.5 L -9389.5,6250.5 L -9389.5,6049.5 z\" /><path fill-rule=\"evenodd\" fill=\"#66cc99\" stroke=\"#555555\" stroke-width=\"136.4472\" opacity=\"0.6\" d=\"M -9210.5,6049.5 L -9210.5,6250.5 L -9059.5,6250.5 L -9059.5,6049.5 L -9210.5,6049.5 z\" /><path fill-rule=\"evenodd\" fill=\"#66cc99\" stroke=\"#555555\" stroke-width=\"136.4472\" opacity=\"0.6\" d=\"M -9540.5,6549.5 L -9540.5,6750.5 L -9389.5,6750.5 L -9389.5,6549.5 L -9540.5,6549.5 z\" /><path fill-rule=\"evenodd\" fill=\"#66cc99\" stroke=\"#555555\" stroke-width=\"136.4472\" opacity=\"0.6\" d=\"M -9210.5,6549.5 L -9210.5,6750.5 L -9059.5,6750.5 L -9059.5,6549.5 L -9210.5,6549.5 z\" /><path fill-rule=\"evenodd\" fill=\"#66cc99\" stroke=\"#555555\" stroke-width=\"136.4472\" opacity=\"0.6\" d=\"M -9650.5,7059.5 L -9650.5,7210.5 L -9449.5,7210.5 L -9449.5,7059.5 L -9650.5,7059.5 z\" /><path fill-rule=\"evenodd\" fill=\"#66cc99\" stroke=\"#555555\" stroke-width=\"136.4472\" opacity=\"0.6\" d=\"M -9650.5,7389.5 L -9650.5,7540.5 L -9449.5,7540.5 L -9449.5,7389.5 L -9650.5,7389.5 z\" /><path fill-rule=\"evenodd\" fill=\"#66cc99\" stroke=\"#555555\" stroke-width=\"136.4472\" opacity=\"0.6\" d=\"M -9650.5,7859.5 L -9650.5,8010.5 L -9449.5,8010.5 L -9449.5,7859.5 L -9650.5,7859.5 z\" /><path fill-rule=\"evenodd\" fill=\"#66cc99\" stroke=\"#555555\" stroke-width=\"136.4472\" opacity=\"0.6\" d=\"M -9449.5,8189.5 L -9650.5,8189.5 L -9650.5,8340.5 L -9449.5,8340.5 L -9449.5,8189.5 z\" /><path fill-rule=\"evenodd\" fill=\"#66cc99\" stroke=\"#555555\" stroke-width=\"136.4472\" opacity=\"0.6\" d=\"M -9650.5,8709.5 L -9650.5,8860.5 L -9449.5,8860.5 L -9449.5,8709.5 L -9650.5,8709.5 z\" /><path fill-rule=\"evenodd\" fill=\"#66cc99\" stroke=\"#555555\" stroke-width=\"136.4472\" opacity=\"0.6\" d=\"M -9650.5,9039.5 L -9650.5,9190.5 L -9449.5,9190.5 L -9449.5,9039.5 L -9650.5,9039.5 z\" /><path fill-rule=\"evenodd\" fill=\"#66cc99\" stroke=\"#555555\" stroke-width=\"136.4472\" opacity=\"0.6\" d=\"M -9200.5,-6860.5 L -9200.5,-6709.5 L -8999.5,-6709.5 L -8999.5,-6860.5 L -9200.5,-6860.5 z\" /><path fill-rule=\"evenodd\" fill=\"#66cc99\" stroke=\"#555555\" stroke-width=\"136.4472\" opacity=\"0.6\" d=\"M -9200.5,-6340.5 L -9200.5,-6189.5 L -8999.5,-6189.5 L -8999.5,-6340.5 L -9200.5,-6340.5 z\" /><path fill-rule=\"evenodd\" fill=\"#66cc99\" stroke=\"#555555\" stroke-width=\"136.4472\" opacity=\"0.6\" d=\"M -9200.5,-6010.5 L -9200.5,-5859.5 L -8999.5,-5859.5 L -8999.5,-6010.5 L -9200.5,-6010.5 z\" /><path fill-rule=\"evenodd\" fill=\"#66cc99\" stroke=\"#555555\" stroke-width=\"136.4472\" opacity=\"0.6\" d=\"M -9200.5,-4540.5 L -9200.5,-4389.5 L -8999.5,-4389.5 L -8999.5,-4540.5 L -9200.5,-4540.5 z\" /><path fill-rule=\"evenodd\" fill=\"#66cc99\" stroke=\"#555555\" stroke-width=\"136.4472\" opacity=\"0.6\" d=\"M -8999.5,-4210.5 L -9200.5,-4210.5 L -9200.5,-4059.5 L -8999.5,-4059.5 L -8999.5,-4210.5 z\" /><path fill-rule=\"evenodd\" fill=\"#66cc99\" stroke=\"#555555\" stroke-width=\"136.4472\" opacity=\"0.6\" d=\"M -9200.5,-3740.5 L -9200.5,-3589.5 L -8999.5,-3589.5 L -8999.5,-3740.5 L -9200.5,-3740.5 z\" /><path fill-rule=\"evenodd\" fill=\"#66cc99\" stroke=\"#555555\" stroke-width=\"136.4472\" opacity=\"0.6\" d=\"M -9200.5,-900.5 L -9200.5,100.5 L -8999.5,100.5 L -8999.5,-900.5 L -9200.5,-900.5 z\" /><path fill-rule=\"evenodd\" fill=\"#66cc99\" stroke=\"#555555\" stroke-width=\"136.4472\" opacity=\"0.6\" d=\"M -9200.5,2349.5 L -9200.5,3350.5 L -8999.5,3350.5 L -8999.5,2349.5 L -9200.5,2349.5 z\" /><path fill-rule=\"evenodd\" fill=\"#66cc99\" stroke=\"#555555\" stroke-width=\"136.4472\" opacity=\"0.6\" d=\"M -9200.5,3859.5 L -9200.5,4010.5 L -8999.5,4010.5 L -8999.5,3859.5 L -9200.5,3859.5 z\" /><path fill-rule=\"evenodd\" fill=\"#66cc99\" stroke=\"#555555\" stroke-width=\"136.4472\" opacity=\"0.6\" d=\"M -9200.5,4189.5 L -9200.5,4340.5 L -8999.5,4340.5 L -8999.5,4189.5 L -9200.5,4189.5 z\" /><path fill-rule=\"evenodd\" fill=\"#66cc99\" stroke=\"#555555\" stroke-width=\"136.4472\" opacity=\"0.6\" d=\"M -9200.5,4559.5 L -9200.5,4710.5 L -8999.5,4710.5 L -8999.5,4559.5 L -9200.5,4559.5 z\" /><path fill-rule=\"evenodd\" fill=\"#66cc99\" stroke=\"#555555\" stroke-width=\"136.4472\" opacity=\"0.6\" d=\"M -8999.5,4889.5 L -9200.5,4889.5 L -9200.5,5040.5 L -8999.5,5040.5 L -8999.5,4889.5 z\" /><path fill-rule=\"evenodd\" fill=\"#66cc99\" stroke=\"#555555\" stroke-width=\"136.4472\" opacity=\"0.6\" d=\"M -9200.5,5309.5 L -9200.5,5460.5 L -8999.5,5460.5 L -8999.5,5309.5 L -9200.5,5309.5 z\" /><path fill-rule=\"evenodd\" fill=\"#66cc99\" stroke=\"#555555\" stroke-width=\"136.4472\" opacity=\"0.6\" d=\"M -9200.5,5639.5 L -9200.5,5790.5 L -8999.5,5790.5 L -8999.5,5639.5 L -9200.5,5639.5 z\" /><path fill-rule=\"evenodd\" fill=\"#66cc99\" stroke=\"#555555\" stroke-width=\"136.4472\" opacity=\"0.6\" d=\"M -8999.5,7059.5 L -9200.5,7059.5 L -9200.5,7210.5 L -8999.5,7210.5 L -8999.5,7059.5 z\" /><path fill-rule=\"evenodd\" fill=\"#66cc99\" stroke=\"#555555\" stroke-width=\"136.4472\" opacity=\"0.6\" d=\"M -9200.5,7389.5 L -9200.5,7540.5 L -8999.5,7540.5 L -8999.5,7389.5 L -9200.5,7389.5 z\" /><path fill-rule=\"evenodd\" fill=\"#66cc99\" stroke=\"#555555\" stroke-width=\"136.4472\" opacity=\"0.6\" d=\"M -9200.5,7859.5 L -9200.5,8010.5 L -8999.5,8010.5 L -8999.5,7859.5 L -9200.5,7859.5 z\" /><path fill-rule=\"evenodd\" fill=\"#66cc99\" stroke=\"#555555\" stroke-width=\"136.4472\" opacity=\"0.6\" d=\"M -6199.5,7999.5 L -6400.5,7999.5 L -6400.5,8150.5 L -6199.5,8150.5 L -6199.5,7999.5 z\" /><path fill-rule=\"evenodd\" fill=\"#66cc99\" stroke=\"#555555\" stroke-width=\"136.4472\" opacity=\"0.6\" d=\"M -6950.5,7999.5 L -6950.5,8150.5 L -6749.5,8150.5 L -6749.5,7999.5 L -6950.5,7999.5 z\" /><path fill-rule=\"evenodd\" fill=\"#66cc99\" stroke=\"#555555\" stroke-width=\"136.4472\" opacity=\"0.6\" d=\"M -7890.5,7999.5 L -7890.5,8200.5 L -7739.5,8200.5 L -7739.5,7999.5 L -7890.5,7999.5 z\" /><path fill-rule=\"evenodd\" fill=\"#66cc99\" stroke=\"#555555\" stroke-width=\"136.4472\" opacity=\"0.6\" d=\"M -7560.5,7999.5 L -7560.5,8200.5 L -7409.5,8200.5 L -7409.5,7999.5 L -7560.5,7999.5 z\" /><path fill-rule=\"evenodd\" fill=\"#66cc99\" stroke=\"#555555\" stroke-width=\"136.4472\" opacity=\"0.6\" d=\"M -5940.5,7999.5 L -5940.5,8200.5 L -5789.5,8200.5 L -5789.5,7999.5 L -5940.5,7999.5 z\" /><path fill-rule=\"evenodd\" fill=\"#66cc99\" stroke=\"#555555\" stroke-width=\"136.4472\" opacity=\"0.6\" d=\"M -8690.5,7999.5 L -8690.5,8200.5 L -8539.5,8200.5 L -8539.5,7999.5 L -8690.5,7999.5 z\" /><path fill-rule=\"evenodd\" fill=\"#66cc99\" stroke=\"#555555\" stroke-width=\"136.4472\" opacity=\"0.6\" d=\"M -8360.5,7999.5 L -8360.5,8200.5 L -8209.5,8200.5 L -8209.5,7999.5 L -8360.5,7999.5 z\" /><path fill-rule=\"evenodd\" fill=\"#66cc99\" stroke=\"#555555\" stroke-width=\"136.4472\" opacity=\"0.6\" d=\"M -8999.5,8189.5 L -9200.5,8189.5 L -9200.5,8340.5 L -8999.5,8340.5 L -8999.5,8189.5 z\" /><path fill-rule=\"evenodd\" fill=\"#66cc99\" stroke=\"#555555\" stroke-width=\"136.4472\" opacity=\"0.6\" d=\"M -6950.5,8329.5 L -6950.5,8480.5 L -6749.5,8480.5 L -6749.5,8329.5 L -6950.5,8329.5 z\" /><path fill-rule=\"evenodd\" fill=\"#66cc99\" stroke=\"#555555\" stroke-width=\"136.4472\" opacity=\"0.6\" d=\"M -6400.5,8329.5 L -6400.5,8480.5 L -6199.5,8480.5 L -6199.5,8329.5 L -6400.5,8329.5 z\" /><path fill-rule=\"evenodd\" fill=\"#66cc99\" stroke=\"#555555\" stroke-width=\"136.4472\" opacity=\"0.6\" d=\"M -7890.5,8499.5 L -7890.5,8700.5 L -7739.5,8700.5 L -7739.5,8499.5 L -7890.5,8499.5 z\" /><path fill-rule=\"evenodd\" fill=\"#66cc99\" stroke=\"#555555\" stroke-width=\"136.4472\" opacity=\"0.6\" d=\"M -7560.5,8499.5 L -7560.5,8700.5 L -7409.5,8700.5 L -7409.5,8499.5 L -7560.5,8499.5 z\" /><path fill-rule=\"evenodd\" fill=\"#66cc99\" stroke=\"#555555\" stroke-width=\"136.4472\" opacity=\"0.6\" d=\"M -8690.5,8499.5 L -8690.5,8700.5 L -8539.5,8700.5 L -8539.5,8499.5 L -8690.5,8499.5 z\" /><path fill-rule=\"evenodd\" fill=\"#66cc99\" stroke=\"#555555\" stroke-width=\"136.4472\" opacity=\"0.6\" d=\"M -5940.5,8499.5 L -5940.5,8700.5 L -5789.5,8700.5 L -5789.5,8499.5 L -5940.5,8499.5 z\" /><path fill-rule=\"evenodd\" fill=\"#66cc99\" stroke=\"#555555\" stroke-width=\"136.4472\" opacity=\"0.6\" d=\"M -8209.5,8499.5 L -8360.5,8499.5 L -8360.5,8700.5 L -8209.5,8700.5 L -8209.5,8499.5 z\" /><path fill-rule=\"evenodd\" fill=\"#66cc99\" stroke=\"#555555\" stroke-width=\"136.4472\" opacity=\"0.6\" d=\"M -9200.5,8709.5 L -9200.5,8860.5 L -8999.5,8860.5 L -8999.5,8709.5 L -9200.5,8709.5 z\" /><path fill-rule=\"evenodd\" fill=\"#66cc99\" stroke=\"#555555\" stroke-width=\"136.4472\" opacity=\"0.6\" d=\"M -6950.5,8709.5 L -6950.5,8860.5 L -6749.5,8860.5 L -6749.5,8709.5 L -6950.5,8709.5 z\" /><path fill-rule=\"evenodd\" fill=\"#66cc99\" stroke=\"#555555\" stroke-width=\"136.4472\" opacity=\"0.6\" d=\"M -6400.5,8709.5 L -6400.5,8860.5 L -6199.5,8860.5 L -6199.5,8709.5 L -6400.5,8709.5 z\" /><path fill-rule=\"evenodd\" fill=\"#66cc99\" stroke=\"#555555\" stroke-width=\"136.4472\" opacity=\"0.6\" d=\"M -7890.5,8989.5 L -7890.5,9190.5 L -7739.5,9190.5 L -7739.5,8989.5 L -7890.5,8989.5 z\" /><path fill-rule=\"evenodd\" fill=\"#66cc99\" stroke=\"#555555\" stroke-width=\"136.4472\" opacity=\"0.6\" d=\"M -8360.5,8989.5 L -8360.5,9190.5 L -8209.5,9190.5 L -8209.5,8989.5 L -8360.5,8989.5 z\" /><path fill-rule=\"evenodd\" fill=\"#66cc99\" stroke=\"#555555\" stroke-width=\"136.4472\" opacity=\"0.6\" d=\"M -7560.5,8989.5 L -7560.5,9190.5 L -7409.5,9190.5 L -7409.5,8989.5 L -7560.5,8989.5 z\" /><path fill-rule=\"evenodd\" fill=\"#66cc99\" stroke=\"#555555\" stroke-width=\"136.4472\" opacity=\"0.6\" d=\"M -8539.5,8989.5 L -8690.5,8989.5 L -8690.5,9190.5 L -8539.5,9190.5 L -8539.5,8989.5 z\" /><path fill-rule=\"evenodd\" fill=\"#66cc99\" stroke=\"#555555\" stroke-width=\"136.4472\" opacity=\"0.6\" d=\"M -5610.5,8989.5 L -5610.5,9190.5 L -5459.5,9190.5 L -5459.5,8989.5 L -5610.5,8989.5 z\" /><path fill-rule=\"evenodd\" fill=\"#66cc99\" stroke=\"#555555\" stroke-width=\"136.4472\" opacity=\"0.6\" d=\"M -5940.5,8989.5 L -5940.5,9190.5 L -5789.5,9190.5 L -5789.5,8989.5 L -5940.5,8989.5 z\" /><path fill-rule=\"evenodd\" fill=\"#66cc99\" stroke=\"#555555\" stroke-width=\"136.4472\" opacity=\"0.6\" d=\"M -9200.5,9039.5 L -9200.5,9190.5 L -8999.5,9190.5 L -8999.5,9039.5 L -9200.5,9039.5 z\" /><path fill-rule=\"evenodd\" fill=\"#66cc99\" stroke=\"#555555\" stroke-width=\"136.4472\" opacity=\"0.6\" d=\"M -6950.5,9039.5 L -6950.5,9190.5 L -6749.5,9190.5 L -6749.5,9039.5 L -6950.5,9039.5 z\" /><path fill-rule=\"evenodd\" fill=\"#66cc99\" stroke=\"#555555\" stroke-width=\"136.4472\" opacity=\"0.6\" d=\"M -6400.5,9039.5 L -6400.5,9190.5 L -6199.5,9190.5 L -6199.5,9039.5 L -6400.5,9039.5 z\" /><path fill-rule=\"evenodd\" fill=\"#66cc99\" stroke=\"#555555\" stroke-width=\"136.4472\" opacity=\"0.6\" d=\"M -500.5,7799.5 L -500.5,8000.5 L 500.5,8000.5 L 500.5,7799.5 L -500.5,7799.5 z\" /><path fill-rule=\"evenodd\" fill=\"#66cc99\" stroke=\"#555555\" stroke-width=\"136.4472\" opacity=\"0.6\" d=\"M -3299.5,7999.5 L -3500.5,7999.5 L -3500.5,8150.5 L -3299.5,8150.5 L -3299.5,7999.5 z\" /><path fill-rule=\"evenodd\" fill=\"#66cc99\" stroke=\"#555555\" stroke-width=\"136.4472\" opacity=\"0.6\" d=\"M 3799.5,7999.5 L 3799.5,8150.5 L 4000.5,8150.5 L 4000.5,7999.5 L 3799.5,7999.5 z\" /><path fill-rule=\"evenodd\" fill=\"#66cc99\" stroke=\"#555555\" stroke-width=\"136.4472\" opacity=\"0.6\" d=\"M -4150.5,7999.5 L -4150.5,8150.5 L -3949.5,8150.5 L -3949.5,7999.5 L -4150.5,7999.5 z\" /><path fill-rule=\"evenodd\" fill=\"#66cc99\" stroke=\"#555555\" stroke-width=\"136.4472\" opacity=\"0.6\" d=\"M 3299.5,7999.5 L 3299.5,8150.5 L 3500.5,8150.5 L 3500.5,7999.5 L 3299.5,7999.5 z\" /><path fill-rule=\"evenodd\" fill=\"#66cc99\" stroke=\"#555555\" stroke-width=\"136.4472\" opacity=\"0.6\" d=\"M -4760.5,7999.5 L -4760.5,8200.5 L -4609.5,8200.5 L -4609.5,7999.5 L -4760.5,7999.5 z\" /><path fill-rule=\"evenodd\" fill=\"#66cc99\" stroke=\"#555555\" stroke-width=\"136.4472\" opacity=\"0.6\" d=\"M -5610.5,7999.5 L -5610.5,8200.5 L -5459.5,8200.5 L -5459.5,7999.5 L -5610.5,7999.5 z\" /><path fill-rule=\"evenodd\" fill=\"#66cc99\" stroke=\"#555555\" stroke-width=\"136.4472\" opacity=\"0.6\" d=\"M -5090.5,7999.5 L -5090.5,8200.5 L -4939.5,8200.5 L -4939.5,7999.5 L -5090.5,7999.5 z\" /><path fill-rule=\"evenodd\" fill=\"#66cc99\" stroke=\"#555555\" stroke-width=\"136.4472\" opacity=\"0.6\" d=\"M 4790.5,7999.5 L 4639.5,7999.5 L 4639.5,8200.5 L 4790.5,8200.5 L 4790.5,7999.5 z\" /><path fill-rule=\"evenodd\" fill=\"#66cc99\" stroke=\"#555555\" stroke-width=\"136.4472\" opacity=\"0.6\" d=\"M 4309.5,7999.5 L 4309.5,8200.5 L 4460.5,8200.5 L 4460.5,7999.5 L 4309.5,7999.5 z\" /><path fill-rule=\"evenodd\" fill=\"#66cc99\" stroke=\"#555555\" stroke-width=\"136.4472\" opacity=\"0.6\" d=\"M 5109.5,7999.5 L 5109.5,8200.5 L 5260.5,8200.5 L 5260.5,7999.5 L 5109.5,7999.5 z\" /><path fill-rule=\"evenodd\" fill=\"#66cc99\" stroke=\"#555555\" stroke-width=\"136.4472\" opacity=\"0.6\" d=\"M -500.5,8199.5 L -500.5,8400.5 L 500.5,8400.5 L 500.5,8199.5 L -500.5,8199.5 z\" /><path fill-rule=\"evenodd\" fill=\"#66cc99\" stroke=\"#555555\" stroke-width=\"136.4472\" opacity=\"0.6\" d=\"M -4150.5,8329.5 L -4150.5,8480.5 L -3949.5,8480.5 L -3949.5,8329.5 L -4150.5,8329.5 z\" /><path fill-rule=\"evenodd\" fill=\"#66cc99\" stroke=\"#555555\" stroke-width=\"136.4472\" opacity=\"0.6\" d=\"M 3799.5,8329.5 L 3799.5,8480.5 L 4000.5,8480.5 L 4000.5,8329.5 L 3799.5,8329.5 z\" /><path fill-rule=\"evenodd\" fill=\"#66cc99\" stroke=\"#555555\" stroke-width=\"136.4472\" opacity=\"0.6\" d=\"M 3299.5,8329.5 L 3299.5,8480.5 L 3500.5,8480.5 L 3500.5,8329.5 L 3299.5,8329.5 z\" /><path fill-rule=\"evenodd\" fill=\"#66cc99\" stroke=\"#555555\" stroke-width=\"136.4472\" opacity=\"0.6\" d=\"M -3299.5,8329.5 L -3500.5,8329.5 L -3500.5,8480.5 L -3299.5,8480.5 L -3299.5,8329.5 z\" /><path fill-rule=\"evenodd\" fill=\"#66cc99\" stroke=\"#555555\" stroke-width=\"136.4472\" opacity=\"0.6\" d=\"M -5610.5,8499.5 L -5610.5,8700.5 L -5459.5,8700.5 L -5459.5,8499.5 L -5610.5,8499.5 z\" /><path fill-rule=\"evenodd\" fill=\"#66cc99\" stroke=\"#555555\" stroke-width=\"136.4472\" opacity=\"0.6\" d=\"M -4760.5,8499.5 L -4760.5,8700.5 L -4609.5,8700.5 L -4609.5,8499.5 L -4760.5,8499.5 z\" /><path fill-rule=\"evenodd\" fill=\"#66cc99\" stroke=\"#555555\" stroke-width=\"136.4472\" opacity=\"0.6\" d=\"M -2850.5,8099.5 L -2850.5,9100.5 L -2649.5,9100.5 L -2649.5,8099.5 L -2850.5,8099.5 z\" /><path fill-rule=\"evenodd\" fill=\"#66cc99\" stroke=\"#555555\" stroke-width=\"136.4472\" opacity=\"0.6\" d=\"M -2450.5,8099.5 L -2450.5,9100.5 L -2249.5,9100.5 L -2249.5,8099.5 L -2450.5,8099.5 z\" /><path fill-rule=\"evenodd\" fill=\"#66cc99\" stroke=\"#555555\" stroke-width=\"136.4472\" opacity=\"0.6\" d=\"M -1850.5,8099.5 L -1850.5,9100.5 L -1649.5,9100.5 L -1649.5,8099.5 L -1850.5,8099.5 z\" /><path fill-rule=\"evenodd\" fill=\"#66cc99\" stroke=\"#555555\" stroke-width=\"136.4472\" opacity=\"0.6\" d=\"M -1450.5,8099.5 L -1450.5,9100.5 L -1249.5,9100.5 L -1249.5,8099.5 L -1450.5,8099.5 z\" /><path fill-rule=\"evenodd\" fill=\"#66cc99\" stroke=\"#555555\" stroke-width=\"136.4472\" opacity=\"0.6\" d=\"M 2850.5,8099.5 L 2649.5,8099.5 L 2649.5,9100.5 L 2850.5,9100.5 L 2850.5,8099.5 z\" /><path fill-rule=\"evenodd\" fill=\"#66cc99\" stroke=\"#555555\" stroke-width=\"136.4472\" opacity=\"0.6\" d=\"M 1199.5,8099.5 L 1199.5,9100.5 L 1400.5,9100.5 L 1400.5,8099.5 L 1199.5,8099.5 z\" /><path fill-rule=\"evenodd\" fill=\"#66cc99\" stroke=\"#555555\" stroke-width=\"136.4472\" opacity=\"0.6\" d=\"M 1599.5,8099.5 L 1599.5,9100.5 L 1800.5,9100.5 L 1800.5,8099.5 L 1599.5,8099.5 z\" /><path fill-rule=\"evenodd\" fill=\"#66cc99\" stroke=\"#555555\" stroke-width=\"136.4472\" opacity=\"0.6\" d=\"M 2450.5,8099.5 L 2249.5,8099.5 L 2249.5,9100.5 L 2450.5,9100.5 L 2450.5,8099.5 z\" /><path fill-rule=\"evenodd\" fill=\"#66cc99\" stroke=\"#555555\" stroke-width=\"136.4472\" opacity=\"0.6\" d=\"M 4309.5,8499.5 L 4309.5,8700.5 L 4460.5,8700.5 L 4460.5,8499.5 L 4309.5,8499.5 z\" /><path fill-rule=\"evenodd\" fill=\"#66cc99\" stroke=\"#555555\" stroke-width=\"136.4472\" opacity=\"0.6\" d=\"M 4639.5,8499.5 L 4639.5,8700.5 L 4790.5,8700.5 L 4790.5,8499.5 L 4639.5,8499.5 z\" /><path fill-rule=\"evenodd\" fill=\"#66cc99\" stroke=\"#555555\" stroke-width=\"136.4472\" opacity=\"0.6\" d=\"M -4939.5,8499.5 L -5090.5,8499.5 L -5090.5,8700.5 L -4939.5,8700.5 L -4939.5,8499.5 z\" /><path fill-rule=\"evenodd\" fill=\"#66cc99\" stroke=\"#555555\" stroke-width=\"136.4472\" opacity=\"0.6\" d=\"M -3500.5,8709.5 L -3500.5,8860.5 L -3299.5,8860.5 L -3299.5,8709.5 L -3500.5,8709.5 z\" /><path fill-rule=\"evenodd\" fill=\"#66cc99\" stroke=\"#555555\" stroke-width=\"136.4472\" opacity=\"0.6\" d=\"M 3299.5,8709.5 L 3299.5,8860.5 L 3500.5,8860.5 L 3500.5,8709.5 L 3299.5,8709.5 z\" /><path fill-rule=\"evenodd\" fill=\"#66cc99\" stroke=\"#555555\" stroke-width=\"136.4472\" opacity=\"0.6\" d=\"M -4150.5,8709.5 L -4150.5,8860.5 L -3949.5,8860.5 L -3949.5,8709.5 L -4150.5,8709.5 z\" /><path fill-rule=\"evenodd\" fill=\"#66cc99\" stroke=\"#555555\" stroke-width=\"136.4472\" opacity=\"0.6\" d=\"M 3799.5,8709.5 L 3799.5,8860.5 L 4000.5,8860.5 L 4000.5,8709.5 L 3799.5,8709.5 z\" /><path fill-rule=\"evenodd\" fill=\"#66cc99\" stroke=\"#555555\" stroke-width=\"136.4472\" opacity=\"0.6\" d=\"M -500.5,8709.5 L -500.5,8910.5 L 500.5,8910.5 L 500.5,8709.5 L -500.5,8709.5 z\" /><path fill-rule=\"evenodd\" fill=\"#66cc99\" stroke=\"#555555\" stroke-width=\"136.4472\" opacity=\"0.6\" d=\"M -4760.5,8989.5 L -4760.5,9190.5 L -4609.5,9190.5 L -4609.5,8989.5 L -4760.5,8989.5 z\" /><path fill-rule=\"evenodd\" fill=\"#66cc99\" stroke=\"#555555\" stroke-width=\"136.4472\" opacity=\"0.6\" d=\"M 4460.5,8989.5 L 4309.5,8989.5 L 4309.5,9190.5 L 4460.5,9190.5 L 4460.5,8989.5 z\" /><path fill-rule=\"evenodd\" fill=\"#66cc99\" stroke=\"#555555\" stroke-width=\"136.4472\" opacity=\"0.6\" d=\"M 5109.5,8989.5 L 5109.5,9190.5 L 5260.5,9190.5 L 5260.5,8989.5 L 5109.5,8989.5 z\" /><path fill-rule=\"evenodd\" fill=\"#66cc99\" stroke=\"#555555\" stroke-width=\"136.4472\" opacity=\"0.6\" d=\"M 4639.5,8989.5 L 4639.5,9190.5 L 4790.5,9190.5 L 4790.5,8989.5 L 4639.5,8989.5 z\" /><path fill-rule=\"evenodd\" fill=\"#66cc99\" stroke=\"#555555\" stroke-width=\"136.4472\" opacity=\"0.6\" d=\"M -5090.5,8989.5 L -5090.5,9190.5 L -4939.5,9190.5 L -4939.5,8989.5 L -5090.5,8989.5 z\" /><path fill-rule=\"evenodd\" fill=\"#66cc99\" stroke=\"#555555\" stroke-width=\"136.4472\" opacity=\"0.6\" d=\"M 3299.5,9039.5 L 3299.5,9190.5 L 3500.5,9190.5 L 3500.5,9039.5 L 3299.5,9039.5 z\" /><path fill-rule=\"evenodd\" fill=\"#66cc99\" stroke=\"#555555\" stroke-width=\"136.4472\" opacity=\"0.6\" d=\"M -4150.5,9039.5 L -4150.5,9190.5 L -3949.5,9190.5 L -3949.5,9039.5 L -4150.5,9039.5 z\" /><path fill-rule=\"evenodd\" fill=\"#66cc99\" stroke=\"#555555\" stroke-width=\"136.4472\" opacity=\"0.6\" d=\"M -3500.5,9039.5 L -3500.5,9190.5 L -3299.5,9190.5 L -3299.5,9039.5 L -3500.5,9039.5 z\" /><path fill-rule=\"evenodd\" fill=\"#66cc99\" stroke=\"#555555\" stroke-width=\"136.4472\" opacity=\"0.6\" d=\"M 4000.5,9039.5 L 3799.5,9039.5 L 3799.5,9190.5 L 4000.5,9190.5 L 4000.5,9039.5 z\" /><path fill-rule=\"evenodd\" fill=\"#66cc99\" stroke=\"#555555\" stroke-width=\"136.4472\" opacity=\"0.6\" d=\"M -500.5,9109.5 L -500.5,9310.5 L 500.5,9310.5 L 500.5,9109.5 L -500.5,9109.5 z\" /><path fill-rule=\"evenodd\" fill=\"#66cc99\" stroke=\"#555555\" stroke-width=\"136.4472\" opacity=\"0.6\" d=\"M 8699.5,-7940.5 L 8699.5,-7789.5 L 8900.5,-7789.5 L 8900.5,-7940.5 L 8699.5,-7940.5 z\" /><path fill-rule=\"evenodd\" fill=\"#66cc99\" stroke=\"#555555\" stroke-width=\"136.4472\" opacity=\"0.6\" d=\"M 8699.5,-7610.5 L 8699.5,-7459.5 L 8900.5,-7459.5 L 8900.5,-7610.5 L 8699.5,-7610.5 z\" /><path fill-rule=\"evenodd\" fill=\"#66cc99\" stroke=\"#555555\" stroke-width=\"136.4472\" opacity=\"0.6\" d=\"M 8699.5,-7190.5 L 8699.5,-7039.5 L 8900.5,-7039.5 L 8900.5,-7190.5 L 8699.5,-7190.5 z\" /><path fill-rule=\"evenodd\" fill=\"#66cc99\" stroke=\"#555555\" stroke-width=\"136.4472\" opacity=\"0.6\" d=\"M 8699.5,-6860.5 L 8699.5,-6709.5 L 8900.5,-6709.5 L 8900.5,-6860.5 L 8699.5,-6860.5 z\" /><path fill-rule=\"evenodd\" fill=\"#66cc99\" stroke=\"#555555\" stroke-width=\"136.4472\" opacity=\"0.6\" d=\"M 8699.5,-6340.5 L 8699.5,-6189.5 L 8900.5,-6189.5 L 8900.5,-6340.5 L 8699.5,-6340.5 z\" /><path fill-rule=\"evenodd\" fill=\"#66cc99\" stroke=\"#555555\" stroke-width=\"136.4472\" opacity=\"0.6\" d=\"M 8900.5,-6010.5 L 8699.5,-6010.5 L 8699.5,-5859.5 L 8900.5,-5859.5 L 8900.5,-6010.5 z\" /><path fill-rule=\"evenodd\" fill=\"#66cc99\" stroke=\"#555555\" stroke-width=\"136.4472\" opacity=\"0.6\" d=\"M 8699.5,-4540.5 L 8699.5,-4389.5 L 8900.5,-4389.5 L 8900.5,-4540.5 L 8699.5,-4540.5 z\" /><path fill-rule=\"evenodd\" fill=\"#66cc99\" stroke=\"#555555\" stroke-width=\"136.4472\" opacity=\"0.6\" d=\"M 8699.5,-4210.5 L 8699.5,-4059.5 L 8900.5,-4059.5 L 8900.5,-4210.5 L 8699.5,-4210.5 z\" /><path fill-rule=\"evenodd\" fill=\"#66cc99\" stroke=\"#555555\" stroke-width=\"136.4472\" opacity=\"0.6\" d=\"M 8699.5,-3740.5 L 8699.5,-3589.5 L 8900.5,-3589.5 L 8900.5,-3740.5 L 8699.5,-3740.5 z\" /><path fill-rule=\"evenodd\" fill=\"#66cc99\" stroke=\"#555555\" stroke-width=\"136.4472\" opacity=\"0.6\" d=\"M 8699.5,-3410.5 L 8699.5,-3259.5 L 8900.5,-3259.5 L 8900.5,-3410.5 L 8699.5,-3410.5 z\" /><path fill-rule=\"evenodd\" fill=\"#66cc99\" stroke=\"#555555\" stroke-width=\"136.4472\" opacity=\"0.6\" d=\"M 8699.5,-2990.5 L 8699.5,-2839.5 L 8900.5,-2839.5 L 8900.5,-2990.5 L 8699.5,-2990.5 z\" /><path fill-rule=\"evenodd\" fill=\"#66cc99\" stroke=\"#555555\" stroke-width=\"136.4472\" opacity=\"0.6\" d=\"M 8699.5,-2660.5 L 8699.5,-2509.5 L 8900.5,-2509.5 L 8900.5,-2660.5 L 8699.5,-2660.5 z\" /><path fill-rule=\"evenodd\" fill=\"#66cc99\" stroke=\"#555555\" stroke-width=\"136.4472\" opacity=\"0.6\" d=\"M 8900.5,-900.5 L 8699.5,-900.5 L 8699.5,100.5 L 8900.5,100.5 L 8900.5,-900.5 z\" /><path fill-rule=\"evenodd\" fill=\"#66cc99\" stroke=\"#555555\" stroke-width=\"136.4472\" opacity=\"0.6\" d=\"M 8699.5,2349.5 L 8699.5,3350.5 L 8900.5,3350.5 L 8900.5,2349.5 L 8699.5,2349.5 z\" /><path fill-rule=\"evenodd\" fill=\"#66cc99\" stroke=\"#555555\" stroke-width=\"136.4472\" opacity=\"0.6\" d=\"M 8699.5,3859.5 L 8699.5,4010.5 L 8900.5,4010.5 L 8900.5,3859.5 L 8699.5,3859.5 z\" /><path fill-rule=\"evenodd\" fill=\"#66cc99\" stroke=\"#555555\" stroke-width=\"136.4472\" opacity=\"0.6\" d=\"M 8699.5,4189.5 L 8699.5,4340.5 L 8900.5,4340.5 L 8900.5,4189.5 L 8699.5,4189.5 z\" /><path fill-rule=\"evenodd\" fill=\"#66cc99\" stroke=\"#555555\" stroke-width=\"136.4472\" opacity=\"0.6\" d=\"M 8699.5,7859.5 L 8699.5,8010.5 L 8900.5,8010.5 L 8900.5,7859.5 L 8699.5,7859.5 z\" /><path fill-rule=\"evenodd\" fill=\"#66cc99\" stroke=\"#555555\" stroke-width=\"136.4472\" opacity=\"0.6\" d=\"M 6399.5,7999.5 L 6399.5,8150.5 L 6600.5,8150.5 L 6600.5,7999.5 L 6399.5,7999.5 z\" /><path fill-rule=\"evenodd\" fill=\"#66cc99\" stroke=\"#555555\" stroke-width=\"136.4472\" opacity=\"0.6\" d=\"M 5949.5,7999.5 L 5949.5,8150.5 L 6150.5,8150.5 L 6150.5,7999.5 L 5949.5,7999.5 z\" /><path fill-rule=\"evenodd\" fill=\"#66cc99\" stroke=\"#555555\" stroke-width=\"136.4472\" opacity=\"0.6\" d=\"M 5590.5,7999.5 L 5439.5,7999.5 L 5439.5,8200.5 L 5590.5,8200.5 L 5590.5,7999.5 z\" /><path fill-rule=\"evenodd\" fill=\"#66cc99\" stroke=\"#555555\" stroke-width=\"136.4472\" opacity=\"0.6\" d=\"M 6959.5,7999.5 L 6959.5,8200.5 L 7110.5,8200.5 L 7110.5,7999.5 L 6959.5,7999.5 z\" /><path fill-rule=\"evenodd\" fill=\"#66cc99\" stroke=\"#555555\" stroke-width=\"136.4472\" opacity=\"0.6\" d=\"M 7809.5,7999.5 L 7809.5,8200.5 L 7960.5,8200.5 L 7960.5,7999.5 L 7809.5,7999.5 z\" /><path fill-rule=\"evenodd\" fill=\"#66cc99\" stroke=\"#555555\" stroke-width=\"136.4472\" opacity=\"0.6\" d=\"M 7289.5,7999.5 L 7289.5,8200.5 L 7440.5,8200.5 L 7440.5,7999.5 L 7289.5,7999.5 z\" /><path fill-rule=\"evenodd\" fill=\"#66cc99\" stroke=\"#555555\" stroke-width=\"136.4472\" opacity=\"0.6\" d=\"M 8139.5,7999.5 L 8139.5,8200.5 L 8290.5,8200.5 L 8290.5,7999.5 L 8139.5,7999.5 z\" /><path fill-rule=\"evenodd\" fill=\"#66cc99\" stroke=\"#555555\" stroke-width=\"136.4472\" opacity=\"0.6\" d=\"M 8699.5,8189.5 L 8699.5,8340.5 L 8900.5,8340.5 L 8900.5,8189.5 L 8699.5,8189.5 z\" /><path fill-rule=\"evenodd\" fill=\"#66cc99\" stroke=\"#555555\" stroke-width=\"136.4472\" opacity=\"0.6\" d=\"M 6399.5,8329.5 L 6399.5,8480.5 L 6600.5,8480.5 L 6600.5,8329.5 L 6399.5,8329.5 z\" /><path fill-rule=\"evenodd\" fill=\"#66cc99\" stroke=\"#555555\" stroke-width=\"136.4472\" opacity=\"0.6\" d=\"M 6150.5,8329.5 L 5949.5,8329.5 L 5949.5,8480.5 L 6150.5,8480.5 L 6150.5,8329.5 z\" /><path fill-rule=\"evenodd\" fill=\"#66cc99\" stroke=\"#555555\" stroke-width=\"136.4472\" opacity=\"0.6\" d=\"M 7809.5,8499.5 L 7809.5,8700.5 L 7960.5,8700.5 L 7960.5,8499.5 L 7809.5,8499.5 z\" /><path fill-rule=\"evenodd\" fill=\"#66cc99\" stroke=\"#555555\" stroke-width=\"136.4472\" opacity=\"0.6\" d=\"M 8139.5,8499.5 L 8139.5,8700.5 L 8290.5,8700.5 L 8290.5,8499.5 L 8139.5,8499.5 z\" /><path fill-rule=\"evenodd\" fill=\"#66cc99\" stroke=\"#555555\" stroke-width=\"136.4472\" opacity=\"0.6\" d=\"M 7289.5,8499.5 L 7289.5,8700.5 L 7440.5,8700.5 L 7440.5,8499.5 L 7289.5,8499.5 z\" /><path fill-rule=\"evenodd\" fill=\"#66cc99\" stroke=\"#555555\" stroke-width=\"136.4472\" opacity=\"0.6\" d=\"M 6959.5,8499.5 L 6959.5,8700.5 L 7110.5,8700.5 L 7110.5,8499.5 L 6959.5,8499.5 z\" /><path fill-rule=\"evenodd\" fill=\"#66cc99\" stroke=\"#555555\" stroke-width=\"136.4472\" opacity=\"0.6\" d=\"M 5109.5,8499.5 L 5109.5,8700.5 L 5260.5,8700.5 L 5260.5,8499.5 L 5109.5,8499.5 z\" /><path fill-rule=\"evenodd\" fill=\"#66cc99\" stroke=\"#555555\" stroke-width=\"136.4472\" opacity=\"0.6\" d=\"M 5439.5,8499.5 L 5439.5,8700.5 L 5590.5,8700.5 L 5590.5,8499.5 L 5439.5,8499.5 z\" /><path fill-rule=\"evenodd\" fill=\"#66cc99\" stroke=\"#555555\" stroke-width=\"136.4472\" opacity=\"0.6\" d=\"M 8900.5,8709.5 L 8699.5,8709.5 L 8699.5,8860.5 L 8900.5,8860.5 L 8900.5,8709.5 z\" /><path fill-rule=\"evenodd\" fill=\"#66cc99\" stroke=\"#555555\" stroke-width=\"136.4472\" opacity=\"0.6\" d=\"M 5949.5,8709.5 L 5949.5,8860.5 L 6150.5,8860.5 L 6150.5,8709.5 L 5949.5,8709.5 z\" /><path fill-rule=\"evenodd\" fill=\"#66cc99\" stroke=\"#555555\" stroke-width=\"136.4472\" opacity=\"0.6\" d=\"M 6399.5,8709.5 L 6399.5,8860.5 L 6600.5,8860.5 L 6600.5,8709.5 L 6399.5,8709.5 z\" /><path fill-rule=\"evenodd\" fill=\"#66cc99\" stroke=\"#555555\" stroke-width=\"136.4472\" opacity=\"0.6\" d=\"M 8290.5,8989.5 L 8139.5,8989.5 L 8139.5,9190.5 L 8290.5,9190.5 L 8290.5,8989.5 z\" /><path fill-rule=\"evenodd\" fill=\"#66cc99\" stroke=\"#555555\" stroke-width=\"136.4472\" opacity=\"0.6\" d=\"M 7809.5,8989.5 L 7809.5,9190.5 L 7960.5,9190.5 L 7960.5,8989.5 L 7809.5,8989.5 z\" /><path fill-rule=\"evenodd\" fill=\"#66cc99\" stroke=\"#555555\" stroke-width=\"136.4472\" opacity=\"0.6\" d=\"M 7289.5,8989.5 L 7289.5,9190.5 L 7440.5,9190.5 L 7440.5,8989.5 L 7289.5,8989.5 z\" /><path fill-rule=\"evenodd\" fill=\"#66cc99\" stroke=\"#555555\" stroke-width=\"136.4472\" opacity=\"0.6\" d=\"M 7110.5,8989.5 L 6959.5,8989.5 L 6959.5,9190.5 L 7110.5,9190.5 L 7110.5,8989.5 z\" /><path fill-rule=\"evenodd\" fill=\"#66cc99\" stroke=\"#555555\" stroke-width=\"136.4472\" opacity=\"0.6\" d=\"M 5439.5,8989.5 L 5439.5,9190.5 L 5590.5,9190.5 L 5590.5,8989.5 L 5439.5,8989.5 z\" /><path fill-rule=\"evenodd\" fill=\"#66cc99\" stroke=\"#555555\" stroke-width=\"136.4472\" opacity=\"0.6\" d=\"M 6399.5,9039.5 L 6399.5,9190.5 L 6600.5,9190.5 L 6600.5,9039.5 L 6399.5,9039.5 z\" /><path fill-rule=\"evenodd\" fill=\"#66cc99\" stroke=\"#555555\" stroke-width=\"136.4472\" opacity=\"0.6\" d=\"M 5949.5,9039.5 L 5949.5,9190.5 L 6150.5,9190.5 L 6150.5,9039.5 L 5949.5,9039.5 z\" /><path fill-rule=\"evenodd\" fill=\"#66cc99\" stroke=\"#555555\" stroke-width=\"136.4472\" opacity=\"0.6\" d=\"M 8699.5,9039.5 L 8699.5,9190.5 L 8900.5,9190.5 L 8900.5,9039.5 L 8699.5,9039.5 z\" /><path fill-rule=\"evenodd\" fill=\"#66cc99\" stroke=\"#555555\" stroke-width=\"136.4472\" opacity=\"0.6\" d=\"M 9099.5,-7940.5 L 9099.5,-7789.5 L 9300.5,-7789.5 L 9300.5,-7940.5 L 9099.5,-7940.5 z\" /><path fill-rule=\"evenodd\" fill=\"#66cc99\" stroke=\"#555555\" stroke-width=\"136.4472\" opacity=\"0.6\" d=\"M 9099.5,-7610.5 L 9099.5,-7459.5 L 9300.5,-7459.5 L 9300.5,-7610.5 L 9099.5,-7610.5 z\" /><path fill-rule=\"evenodd\" fill=\"#66cc99\" stroke=\"#555555\" stroke-width=\"136.4472\" opacity=\"0.6\" d=\"M 9300.5,-7190.5 L 9099.5,-7190.5 L 9099.5,-7039.5 L 9300.5,-7039.5 L 9300.5,-7190.5 z\" /><path fill-rule=\"evenodd\" fill=\"#66cc99\" stroke=\"#555555\" stroke-width=\"136.4472\" opacity=\"0.6\" d=\"M 9099.5,-6860.5 L 9099.5,-6709.5 L 9300.5,-6709.5 L 9300.5,-6860.5 L 9099.5,-6860.5 z\" /><path fill-rule=\"evenodd\" fill=\"#66cc99\" stroke=\"#555555\" stroke-width=\"136.4472\" opacity=\"0.6\" d=\"M 9099.5,-6340.5 L 9099.5,-6189.5 L 9300.5,-6189.5 L 9300.5,-6340.5 L 9099.5,-6340.5 z\" /><path fill-rule=\"evenodd\" fill=\"#66cc99\" stroke=\"#555555\" stroke-width=\"136.4472\" opacity=\"0.6\" d=\"M 9099.5,-6010.5 L 9099.5,-5859.5 L 9300.5,-5859.5 L 9300.5,-6010.5 L 9099.5,-6010.5 z\" /><path fill-rule=\"evenodd\" fill=\"#66cc99\" stroke=\"#555555\" stroke-width=\"136.4472\" opacity=\"0.6\" d=\"M 8749.5,-5550.5 L 8749.5,-5349.5 L 8900.5,-5349.5 L 8900.5,-5550.5 L 8749.5,-5550.5 z\" /><path fill-rule=\"evenodd\" fill=\"#66cc99\" stroke=\"#555555\" stroke-width=\"136.4472\" opacity=\"0.6\" d=\"M 9079.5,-5550.5 L 9079.5,-5349.5 L 9230.5,-5349.5 L 9230.5,-5550.5 L 9079.5,-5550.5 z\" /><path fill-rule=\"evenodd\" fill=\"#66cc99\" stroke=\"#555555\" stroke-width=\"136.4472\" opacity=\"0.6\" d=\"M 8749.5,-5050.5 L 8749.5,-4849.5 L 8900.5,-4849.5 L 8900.5,-5050.5 L 8749.5,-5050.5 z\" /><path fill-rule=\"evenodd\" fill=\"#66cc99\" stroke=\"#555555\" stroke-width=\"136.4472\" opacity=\"0.6\" d=\"M 9230.5,-5050.5 L 9079.5,-5050.5 L 9079.5,-4849.5 L 9230.5,-4849.5 L 9230.5,-5050.5 z\" /><path fill-rule=\"evenodd\" fill=\"#66cc99\" stroke=\"#555555\" stroke-width=\"136.4472\" opacity=\"0.6\" d=\"M 9099.5,-4540.5 L 9099.5,-4389.5 L 9300.5,-4389.5 L 9300.5,-4540.5 L 9099.5,-4540.5 z\" /><path fill-rule=\"evenodd\" fill=\"#66cc99\" stroke=\"#555555\" stroke-width=\"136.4472\" opacity=\"0.6\" d=\"M 9099.5,-4210.5 L 9099.5,-4059.5 L 9300.5,-4059.5 L 9300.5,-4210.5 L 9099.5,-4210.5 z\" /><path fill-rule=\"evenodd\" fill=\"#66cc99\" stroke=\"#555555\" stroke-width=\"136.4472\" opacity=\"0.6\" d=\"M 9099.5,-3740.5 L 9099.5,-3589.5 L 9300.5,-3589.5 L 9300.5,-3740.5 L 9099.5,-3740.5 z\" /><path fill-rule=\"evenodd\" fill=\"#66cc99\" stroke=\"#555555\" stroke-width=\"136.4472\" opacity=\"0.6\" d=\"M 9099.5,-3410.5 L 9099.5,-3259.5 L 9300.5,-3259.5 L 9300.5,-3410.5 L 9099.5,-3410.5 z\" /><path fill-rule=\"evenodd\" fill=\"#66cc99\" stroke=\"#555555\" stroke-width=\"136.4472\" opacity=\"0.6\" d=\"M 9099.5,-2990.5 L 9099.5,-2839.5 L 9300.5,-2839.5 L 9300.5,-2990.5 L 9099.5,-2990.5 z\" /><path fill-rule=\"evenodd\" fill=\"#66cc99\" stroke=\"#555555\" stroke-width=\"136.4472\" opacity=\"0.6\" d=\"M 9099.5,-2660.5 L 9099.5,-2509.5 L 9300.5,-2509.5 L 9300.5,-2660.5 L 9099.5,-2660.5 z\" /><path fill-rule=\"evenodd\" fill=\"#66cc99\" stroke=\"#555555\" stroke-width=\"136.4472\" opacity=\"0.6\" d=\"M 9230.5,-2200.5 L 9079.5,-2200.5 L 9079.5,-1999.5 L 9230.5,-1999.5 L 9230.5,-2200.5 z\" /><path fill-rule=\"evenodd\" fill=\"#66cc99\" stroke=\"#555555\" stroke-width=\"136.4472\" opacity=\"0.6\" d=\"M 8749.5,-2200.5 L 8749.5,-1999.5 L 8900.5,-1999.5 L 8900.5,-2200.5 L 8749.5,-2200.5 z\" /><path fill-rule=\"evenodd\" fill=\"#66cc99\" stroke=\"#555555\" stroke-width=\"136.4472\" opacity=\"0.6\" d=\"M 9079.5,-1650.5 L 9079.5,-1449.5 L 9230.5,-1449.5 L 9230.5,-1650.5 L 9079.5,-1650.5 z\" /><path fill-rule=\"evenodd\" fill=\"#66cc99\" stroke=\"#555555\" stroke-width=\"136.4472\" opacity=\"0.6\" d=\"M 8749.5,-1650.5 L 8749.5,-1449.5 L 8900.5,-1449.5 L 8900.5,-1650.5 L 8749.5,-1650.5 z\" /><path fill-rule=\"evenodd\" fill=\"#66cc99\" stroke=\"#555555\" stroke-width=\"136.4472\" opacity=\"0.6\" d=\"M 9099.5,-900.5 L 9099.5,100.5 L 9300.5,100.5 L 9300.5,-900.5 L 9099.5,-900.5 z\" /><path fill-rule=\"evenodd\" fill=\"#66cc99\" stroke=\"#555555\" stroke-width=\"136.4472\" opacity=\"0.6\" d=\"M 9099.5,2349.5 L 9099.5,3350.5 L 9300.5,3350.5 L 9300.5,2349.5 L 9099.5,2349.5 z\" /><path fill-rule=\"evenodd\" fill=\"#66cc99\" stroke=\"#555555\" stroke-width=\"136.4472\" opacity=\"0.6\" d=\"M 9099.5,3859.5 L 9099.5,4010.5 L 9300.5,4010.5 L 9300.5,3859.5 L 9099.5,3859.5 z\" /><path fill-rule=\"evenodd\" fill=\"#66cc99\" stroke=\"#555555\" stroke-width=\"136.4472\" opacity=\"0.6\" d=\"M 9300.5,4189.5 L 9099.5,4189.5 L 9099.5,4340.5 L 9300.5,4340.5 L 9300.5,4189.5 z\" /><path fill-rule=\"evenodd\" fill=\"#66cc99\" stroke=\"#555555\" stroke-width=\"136.4472\" opacity=\"0.6\" d=\"M 8699.5,4559.5 L 8699.5,4710.5 L 8900.5,4710.5 L 8900.5,4559.5 L 8699.5,4559.5 z\" /><path fill-rule=\"evenodd\" fill=\"#66cc99\" stroke=\"#555555\" stroke-width=\"136.4472\" opacity=\"0.6\" d=\"M 9099.5,4559.5 L 9099.5,4710.5 L 9300.5,4710.5 L 9300.5,4559.5 L 9099.5,4559.5 z\" /><path fill-rule=\"evenodd\" fill=\"#66cc99\" stroke=\"#555555\" stroke-width=\"136.4472\" opacity=\"0.6\" d=\"M 8699.5,4889.5 L 8699.5,5040.5 L 8900.5,5040.5 L 8900.5,4889.5 L 8699.5,4889.5 z\" /><path fill-rule=\"evenodd\" fill=\"#66cc99\" stroke=\"#555555\" stroke-width=\"136.4472\" opacity=\"0.6\" d=\"M 9099.5,4889.5 L 9099.5,5040.5 L 9300.5,5040.5 L 9300.5,4889.5 L 9099.5,4889.5 z\" /><path fill-rule=\"evenodd\" fill=\"#66cc99\" stroke=\"#555555\" stroke-width=\"136.4472\" opacity=\"0.6\" d=\"M 8699.5,5309.5 L 8699.5,5460.5 L 8900.5,5460.5 L 8900.5,5309.5 L 8699.5,5309.5 z\" /><path fill-rule=\"evenodd\" fill=\"#66cc99\" stroke=\"#555555\" stroke-width=\"136.4472\" opacity=\"0.6\" d=\"M 9099.5,5309.5 L 9099.5,5460.5 L 9300.5,5460.5 L 9300.5,5309.5 L 9099.5,5309.5 z\" /><path fill-rule=\"evenodd\" fill=\"#66cc99\" stroke=\"#555555\" stroke-width=\"136.4472\" opacity=\"0.6\" d=\"M 8900.5,5639.5 L 8699.5,5639.5 L 8699.5,5790.5 L 8900.5,5790.5 L 8900.5,5639.5 z\" /><path fill-rule=\"evenodd\" fill=\"#66cc99\" stroke=\"#555555\" stroke-width=\"136.4472\" opacity=\"0.6\" d=\"M 9099.5,5639.5 L 9099.5,5790.5 L 9300.5,5790.5 L 9300.5,5639.5 L 9099.5,5639.5 z\" /><path fill-rule=\"evenodd\" fill=\"#66cc99\" stroke=\"#555555\" stroke-width=\"136.4472\" opacity=\"0.6\" d=\"M 9079.5,6049.5 L 9079.5,6250.5 L 9230.5,6250.5 L 9230.5,6049.5 L 9079.5,6049.5 z\" /><path fill-rule=\"evenodd\" fill=\"#66cc99\" stroke=\"#555555\" stroke-width=\"136.4472\" opacity=\"0.6\" d=\"M 8749.5,6049.5 L 8749.5,6250.5 L 8900.5,6250.5 L 8900.5,6049.5 L 8749.5,6049.5 z\" /><path fill-rule=\"evenodd\" fill=\"#66cc99\" stroke=\"#555555\" stroke-width=\"136.4472\" opacity=\"0.6\" d=\"M 9079.5,6549.5 L 9079.5,6750.5 L 9230.5,6750.5 L 9230.5,6549.5 L 9079.5,6549.5 z\" /><path fill-rule=\"evenodd\" fill=\"#66cc99\" stroke=\"#555555\" stroke-width=\"136.4472\" opacity=\"0.6\" d=\"M 8749.5,6549.5 L 8749.5,6750.5 L 8900.5,6750.5 L 8900.5,6549.5 L 8749.5,6549.5 z\" /><path fill-rule=\"evenodd\" fill=\"#66cc99\" stroke=\"#555555\" stroke-width=\"136.4472\" opacity=\"0.6\" d=\"M 8699.5,7059.5 L 8699.5,7210.5 L 8900.5,7210.5 L 8900.5,7059.5 L 8699.5,7059.5 z\" /><path fill-rule=\"evenodd\" fill=\"#66cc99\" stroke=\"#555555\" stroke-width=\"136.4472\" opacity=\"0.6\" d=\"M 9300.5,7059.5 L 9099.5,7059.5 L 9099.5,7210.5 L 9300.5,7210.5 L 9300.5,7059.5 z\" /><path fill-rule=\"evenodd\" fill=\"#66cc99\" stroke=\"#555555\" stroke-width=\"136.4472\" opacity=\"0.6\" d=\"M 9099.5,7389.5 L 9099.5,7540.5 L 9300.5,7540.5 L 9300.5,7389.5 L 9099.5,7389.5 z\" /><path fill-rule=\"evenodd\" fill=\"#66cc99\" stroke=\"#555555\" stroke-width=\"136.4472\" opacity=\"0.6\" d=\"M 8699.5,7389.5 L 8699.5,7540.5 L 8900.5,7540.5 L 8900.5,7389.5 L 8699.5,7389.5 z\" /><path fill-rule=\"evenodd\" fill=\"#66cc99\" stroke=\"#555555\" stroke-width=\"136.4472\" opacity=\"0.6\" d=\"M 9099.5,7859.5 L 9099.5,8010.5 L 9300.5,8010.5 L 9300.5,7859.5 L 9099.5,7859.5 z\" /><path fill-rule=\"evenodd\" fill=\"#66cc99\" stroke=\"#555555\" stroke-width=\"136.4472\" opacity=\"0.6\" d=\"M 9099.5,8189.5 L 9099.5,8340.5 L 9300.5,8340.5 L 9300.5,8189.5 L 9099.5,8189.5 z\" /><path fill-rule=\"evenodd\" fill=\"#66cc99\" stroke=\"#555555\" stroke-width=\"136.4472\" opacity=\"0.6\" d=\"M 9099.5,8709.5 L 9099.5,8860.5 L 9300.5,8860.5 L 9300.5,8709.5 L 9099.5,8709.5 z\" /><path fill-rule=\"evenodd\" fill=\"#66cc99\" stroke=\"#555555\" stroke-width=\"136.4472\" opacity=\"0.6\" d=\"M 9099.5,9039.5 L 9099.5,9190.5 L 9300.5,9190.5 L 9300.5,9039.5 L 9099.5,9039.5 z\" /></g></g></svg>"
      ],
      "text/plain": [
       "<shapely.geometry.multipolygon.MultiPolygon at 0x1f683e6bfd0>"
      ]
     },
     "execution_count": 57,
     "metadata": {},
     "output_type": "execute_result"
    }
   ],
   "source": [
    "masks.cmp_mask"
   ]
  },
  {
   "cell_type": "code",
   "execution_count": 71,
   "metadata": {},
   "outputs": [
    {
     "name": "stdout",
     "output_type": "stream",
     "text": [
      "Running mask script\n",
      "created component mask with: Expand = 375 and 375x outline.\n",
      "Completed\n"
     ]
    },
    {
     "data": {
      "image/png": "[encoded data removed]",
      "text/plain": [
       "<Figure size 1440x720 with 1 Axes>"
      ]
     },
     "metadata": {
      "needs_background": "light"
     },
     "output_type": "display_data"
    }
   ],
   "source": [
    "cmp_koz = 375 # Scaler\n",
    "group_koz = 375 # OutlineAdder\n",
    "masks = generatemasks(rawdxf.pg_cmp,cmp_koz,group_koz)\n",
    "masks.process()\n",
    "plots = plotfun(rawdxf.pg_cmp,masks.diff_mask) \n",
    "plots.plot_results() # We input raw positions & generated masks into a plot together"
   ]
  },
  {
   "cell_type": "code",
   "execution_count": 3,
   "metadata": {},
   "outputs": [
    {
     "name": "stdout",
     "output_type": "stream",
     "text": [
      "Package Outline: \n",
      "92 objects have been found on BSR layer.\n",
      "did it save?\n",
      "Completed mapping to dataframes df\n",
      "Completed loading all the data\n"
     ]
    }
   ],
   "source": [
    "#%%\n",
    "# Created 7/5/2023 by Michael Tan & Josh Green\n",
    "# Utilized for importing DXF shapes (curated file), generating a mask, than outputting a dxf\n",
    "# Parsing DXF\n",
    "import ezdxf as ez\n",
    "# Maths\n",
    "import numpy as np\n",
    "import pandas as pd\n",
    "# Shapes\n",
    "import shapely.geometry as spg\n",
    "from shapely.ops import unary_union, polygonize\n",
    "from descartes import PolygonPatch\n",
    "from shapely import affinity\n",
    "# Plotting\n",
    "import pylab as pl\n",
    "# Misc\n",
    "import os\n",
    "import JigStreet as mf\n",
    "import matplotlib.pyplot as plt\n",
    "\n",
    "# %%\n",
    "root = r\"E:\\Scripting\\MACD\\MACD\\TCB\"\n",
    "dwgs = os.listdir(os.path.join(root,\"Examples\"))\n",
    "# %%\n",
    "#fn = r\"E:\\Scripting\\MACD\\MACD\\TCB\\Examples\\M25268-001_BSR_LLT_r02-Scaled.dxf\"\n",
    "fn = r\"E:\\Scripting\\MACD\\MACD\\TCB\\Examples\\M54481-001_BSR_r01-Scaled.dxf\"\n",
    "# fn = r\"E:\\Scripting\\dxf\\input_example.dxf\"\n",
    "derp = mf.loaddxf(fn)\n",
    "derp.process()"
   ]
  },
  {
   "cell_type": "code",
   "execution_count": 4,
   "metadata": {},
   "outputs": [
    {
     "data": {
      "text/html": [
       "<div>\n",
       "<style scoped>\n",
       "    .dataframe tbody tr th:only-of-type {\n",
       "        vertical-align: middle;\n",
       "    }\n",
       "\n",
       "    .dataframe tbody tr th {\n",
       "        vertical-align: top;\n",
       "    }\n",
       "\n",
       "    .dataframe thead th {\n",
       "        text-align: right;\n",
       "    }\n",
       "</style>\n",
       "<table border=\"1\" class=\"dataframe\">\n",
       "  <thead>\n",
       "    <tr style=\"text-align: right;\">\n",
       "      <th></th>\n",
       "      <th>CNAME</th>\n",
       "      <th>X</th>\n",
       "      <th>Y</th>\n",
       "      <th>P1X</th>\n",
       "      <th>P1Y</th>\n",
       "      <th>P2X</th>\n",
       "      <th>P2Y</th>\n",
       "      <th>P3X</th>\n",
       "      <th>P3Y</th>\n",
       "      <th>P4X</th>\n",
       "      <th>P4Y</th>\n",
       "    </tr>\n",
       "  </thead>\n",
       "  <tbody>\n",
       "    <tr>\n",
       "      <th>0</th>\n",
       "      <td>D7</td>\n",
       "      <td>-12489.380</td>\n",
       "      <td>-24968.800</td>\n",
       "      <td>-12489.54</td>\n",
       "      <td>-24968.98</td>\n",
       "      <td>-12489.22</td>\n",
       "      <td>-24968.98</td>\n",
       "      <td>-12489.22</td>\n",
       "      <td>-24968.62</td>\n",
       "      <td>-12489.54</td>\n",
       "      <td>-24968.62</td>\n",
       "    </tr>\n",
       "    <tr>\n",
       "      <th>1</th>\n",
       "      <td>D8</td>\n",
       "      <td>-12489.900</td>\n",
       "      <td>-24968.800</td>\n",
       "      <td>-12490.06</td>\n",
       "      <td>-24968.98</td>\n",
       "      <td>-12489.74</td>\n",
       "      <td>-24968.98</td>\n",
       "      <td>-12489.74</td>\n",
       "      <td>-24968.62</td>\n",
       "      <td>-12490.06</td>\n",
       "      <td>-24968.62</td>\n",
       "    </tr>\n",
       "    <tr>\n",
       "      <th>2</th>\n",
       "      <td>D9</td>\n",
       "      <td>-12485.110</td>\n",
       "      <td>-24969.670</td>\n",
       "      <td>-12485.29</td>\n",
       "      <td>-24969.83</td>\n",
       "      <td>-12484.93</td>\n",
       "      <td>-24969.83</td>\n",
       "      <td>-12484.93</td>\n",
       "      <td>-24969.51</td>\n",
       "      <td>-12485.29</td>\n",
       "      <td>-24969.51</td>\n",
       "    </tr>\n",
       "    <tr>\n",
       "      <th>3</th>\n",
       "      <td>DA</td>\n",
       "      <td>-12485.110</td>\n",
       "      <td>-24970.190</td>\n",
       "      <td>-12485.29</td>\n",
       "      <td>-24970.35</td>\n",
       "      <td>-12484.93</td>\n",
       "      <td>-24970.35</td>\n",
       "      <td>-12484.93</td>\n",
       "      <td>-24970.03</td>\n",
       "      <td>-12485.29</td>\n",
       "      <td>-24970.03</td>\n",
       "    </tr>\n",
       "    <tr>\n",
       "      <th>4</th>\n",
       "      <td>DB</td>\n",
       "      <td>-12484.570</td>\n",
       "      <td>-24982.350</td>\n",
       "      <td>-12484.73</td>\n",
       "      <td>-24982.53</td>\n",
       "      <td>-12484.41</td>\n",
       "      <td>-24982.53</td>\n",
       "      <td>-12484.41</td>\n",
       "      <td>-24982.17</td>\n",
       "      <td>-12484.73</td>\n",
       "      <td>-24982.17</td>\n",
       "    </tr>\n",
       "    <tr>\n",
       "      <th>...</th>\n",
       "      <td>...</td>\n",
       "      <td>...</td>\n",
       "      <td>...</td>\n",
       "      <td>...</td>\n",
       "      <td>...</td>\n",
       "      <td>...</td>\n",
       "      <td>...</td>\n",
       "      <td>...</td>\n",
       "      <td>...</td>\n",
       "      <td>...</td>\n",
       "      <td>...</td>\n",
       "    </tr>\n",
       "    <tr>\n",
       "      <th>87</th>\n",
       "      <td>1136</td>\n",
       "      <td>-12488.665</td>\n",
       "      <td>-24976.330</td>\n",
       "      <td>-12488.83</td>\n",
       "      <td>-24976.51</td>\n",
       "      <td>-12488.50</td>\n",
       "      <td>-24976.51</td>\n",
       "      <td>-12488.50</td>\n",
       "      <td>-24976.15</td>\n",
       "      <td>-12488.83</td>\n",
       "      <td>-24976.15</td>\n",
       "    </tr>\n",
       "    <tr>\n",
       "      <th>88</th>\n",
       "      <td>1137</td>\n",
       "      <td>-12488.460</td>\n",
       "      <td>-24977.795</td>\n",
       "      <td>-12488.71</td>\n",
       "      <td>-24977.98</td>\n",
       "      <td>-12488.21</td>\n",
       "      <td>-24977.98</td>\n",
       "      <td>-12488.21</td>\n",
       "      <td>-24977.61</td>\n",
       "      <td>-12488.71</td>\n",
       "      <td>-24977.61</td>\n",
       "    </tr>\n",
       "    <tr>\n",
       "      <th>89</th>\n",
       "      <td>1138</td>\n",
       "      <td>-12488.460</td>\n",
       "      <td>-24978.620</td>\n",
       "      <td>-12488.71</td>\n",
       "      <td>-24978.81</td>\n",
       "      <td>-12488.21</td>\n",
       "      <td>-24978.81</td>\n",
       "      <td>-12488.21</td>\n",
       "      <td>-24978.43</td>\n",
       "      <td>-12488.71</td>\n",
       "      <td>-24978.43</td>\n",
       "    </tr>\n",
       "    <tr>\n",
       "      <th>90</th>\n",
       "      <td>1139</td>\n",
       "      <td>-12487.690</td>\n",
       "      <td>-24977.795</td>\n",
       "      <td>-12487.94</td>\n",
       "      <td>-24977.98</td>\n",
       "      <td>-12487.44</td>\n",
       "      <td>-24977.98</td>\n",
       "      <td>-12487.44</td>\n",
       "      <td>-24977.61</td>\n",
       "      <td>-12487.94</td>\n",
       "      <td>-24977.61</td>\n",
       "    </tr>\n",
       "    <tr>\n",
       "      <th>91</th>\n",
       "      <td>113A</td>\n",
       "      <td>-12487.690</td>\n",
       "      <td>-24978.620</td>\n",
       "      <td>-12487.94</td>\n",
       "      <td>-24978.81</td>\n",
       "      <td>-12487.44</td>\n",
       "      <td>-24978.81</td>\n",
       "      <td>-12487.44</td>\n",
       "      <td>-24978.43</td>\n",
       "      <td>-12487.94</td>\n",
       "      <td>-24978.43</td>\n",
       "    </tr>\n",
       "  </tbody>\n",
       "</table>\n",
       "<p>92 rows × 11 columns</p>\n",
       "</div>"
      ],
      "text/plain": [
       "   CNAME          X          Y       P1X       P1Y       P2X       P2Y  \\\n",
       "0     D7 -12489.380 -24968.800 -12489.54 -24968.98 -12489.22 -24968.98   \n",
       "1     D8 -12489.900 -24968.800 -12490.06 -24968.98 -12489.74 -24968.98   \n",
       "2     D9 -12485.110 -24969.670 -12485.29 -24969.83 -12484.93 -24969.83   \n",
       "3     DA -12485.110 -24970.190 -12485.29 -24970.35 -12484.93 -24970.35   \n",
       "4     DB -12484.570 -24982.350 -12484.73 -24982.53 -12484.41 -24982.53   \n",
       "..   ...        ...        ...       ...       ...       ...       ...   \n",
       "87  1136 -12488.665 -24976.330 -12488.83 -24976.51 -12488.50 -24976.51   \n",
       "88  1137 -12488.460 -24977.795 -12488.71 -24977.98 -12488.21 -24977.98   \n",
       "89  1138 -12488.460 -24978.620 -12488.71 -24978.81 -12488.21 -24978.81   \n",
       "90  1139 -12487.690 -24977.795 -12487.94 -24977.98 -12487.44 -24977.98   \n",
       "91  113A -12487.690 -24978.620 -12487.94 -24978.81 -12487.44 -24978.81   \n",
       "\n",
       "         P3X       P3Y       P4X       P4Y  \n",
       "0  -12489.22 -24968.62 -12489.54 -24968.62  \n",
       "1  -12489.74 -24968.62 -12490.06 -24968.62  \n",
       "2  -12484.93 -24969.51 -12485.29 -24969.51  \n",
       "3  -12484.93 -24970.03 -12485.29 -24970.03  \n",
       "4  -12484.41 -24982.17 -12484.73 -24982.17  \n",
       "..       ...       ...       ...       ...  \n",
       "87 -12488.50 -24976.15 -12488.83 -24976.15  \n",
       "88 -12488.21 -24977.61 -12488.71 -24977.61  \n",
       "89 -12488.21 -24978.43 -12488.71 -24978.43  \n",
       "90 -12487.44 -24977.61 -12487.94 -24977.61  \n",
       "91 -12487.44 -24978.43 -12487.94 -24978.43  \n",
       "\n",
       "[92 rows x 11 columns]"
      ]
     },
     "execution_count": 4,
     "metadata": {},
     "output_type": "execute_result"
    }
   ],
   "source": [
    "derp.df_full"
   ]
  },
  {
   "cell_type": "code",
   "execution_count": 5,
   "metadata": {},
   "outputs": [
    {
     "name": "stderr",
     "output_type": "stream",
     "text": [
      "C:\\Users\\mtan\\AppData\\Roaming\\Python\\Python36\\site-packages\\IPython\\core\\interactiveshell.py:3343: FutureWarning: This dataframe has a column name that matches the 'value_name' column name of the resultiing Dataframe. In the future this will raise an error, please set the 'value_name' parameter of DataFrame.melt to a unique name.\n",
      "  exec(code_obj, self.user_global_ns, self.user_ns)\n"
     ]
    }
   ],
   "source": [
    "df_m1 = pd.melt(derp.df_full, id_vars=['CNAME'], value_vars=['P1X', 'P2X', \"P3X\", \"P4X\"], value_name = \"X\")\n",
    "df_m2 = pd.melt(derp.df_full, id_vars=['CNAME'], value_vars=['P1Y', 'P2Y', \"P3Y\", \"P4Y\"], value_name = \"Y\")\n",
    "df_melt = pd.concat([df_m1,df_m2],axis=1)\n",
    "df_points = df_melt[['X','Y']].values.tolist()"
   ]
  },
  {
   "cell_type": "code",
   "execution_count": 6,
   "metadata": {},
   "outputs": [
    {
     "data": {
      "text/plain": [
       "<matplotlib.collections.PathCollection at 0x285836f6ef0>"
      ]
     },
     "execution_count": 6,
     "metadata": {},
     "output_type": "execute_result"
    },
    {
     "data": {
      "image/png": "[encoded data removed]",
      "text/plain": [
       "<Figure size 432x288 with 1 Axes>"
      ]
     },
     "metadata": {
      "needs_background": "light"
     },
     "output_type": "display_data"
    }
   ],
   "source": [
    "fig, ax = plt.subplots()\n",
    "ax.scatter(x=df_melt.X,y=df_melt.Y)"
   ]
  },
  {
   "cell_type": "code",
   "execution_count": 7,
   "metadata": {},
   "outputs": [],
   "source": [
    "import alphashape\n"
   ]
  },
  {
   "cell_type": "code",
   "execution_count": 8,
   "metadata": {},
   "outputs": [
    {
     "name": "stderr",
     "output_type": "stream",
     "text": [
      "c:\\Users\\mtan\\AppData\\Local\\Programs\\Python\\Python36\\lib\\site-packages\\descartes\\patch.py:65: ShapelyDeprecationWarning: The array interface is deprecated and will no longer work in Shapely 2.0. Convert the '.coords' to a numpy array instead.\n",
      "  for t in polygon])\n"
     ]
    },
    {
     "data": {
      "image/png": "[encoded data removed]",
      "text/plain": [
       "<Figure size 432x288 with 1 Axes>"
      ]
     },
     "metadata": {
      "needs_background": "light"
     },
     "output_type": "display_data"
    }
   ],
   "source": [
    "alpha_shape = alphashape.alphashape(df_points, 1.).buffer(1).buffer(-1)\n",
    "alpha_shape\n",
    "fig, ax = plt.subplots()\n",
    "ax.scatter(*zip(*df_points))\n",
    "ax.add_patch(PolygonPatch(alpha_shape.buffer(.75), alpha=0.2))\n",
    "plt.show()\n"
   ]
  },
  {
   "cell_type": "code",
   "execution_count": 115,
   "metadata": {},
   "outputs": [],
   "source": [
    "def chaikins_corner_cutting(coords, refinements=5):\n",
    "    coords = np.array(coords)\n",
    "\n",
    "    for _ in range(refinements):\n",
    "        L = coords.repeat(2, axis=0)\n",
    "        R = np.empty_like(L)\n",
    "        R[0] = L[0]\n",
    "        R[2::2] = L[1:-1:2]\n",
    "        R[1:-1:2] = L[2::2]\n",
    "        R[-1] = L[-1]\n",
    "        coords = L * 0.75 + R * 0.25\n",
    "\n",
    "    return coords"
   ]
  },
  {
   "cell_type": "code",
   "execution_count": 117,
   "metadata": {},
   "outputs": [],
   "source": [
    "ccp = chaikins_corner_cutting(df_points)"
   ]
  },
  {
   "cell_type": "code",
   "execution_count": 2,
   "metadata": {},
   "outputs": [
    {
     "ename": "NameError",
     "evalue": "name 'alphashape' is not defined",
     "output_type": "error",
     "traceback": [
      "\u001b[1;31m---------------------------------------------------------------------------\u001b[0m",
      "\u001b[1;31mNameError\u001b[0m                                 Traceback (most recent call last)",
      "\u001b[1;32m<ipython-input-2-cf77da705786>\u001b[0m in \u001b[0;36m<module>\u001b[1;34m\u001b[0m\n\u001b[1;32m----> 1\u001b[1;33m \u001b[0malpha_shape\u001b[0m \u001b[1;33m=\u001b[0m \u001b[0malphashape\u001b[0m\u001b[1;33m.\u001b[0m\u001b[0malphashape\u001b[0m\u001b[1;33m(\u001b[0m\u001b[0mccp\u001b[0m\u001b[1;33m,\u001b[0m \u001b[1;36m1.\u001b[0m\u001b[1;33m)\u001b[0m\u001b[1;33m.\u001b[0m\u001b[0mbuffer\u001b[0m\u001b[1;33m(\u001b[0m\u001b[1;36m2\u001b[0m\u001b[1;33m)\u001b[0m\u001b[1;33m.\u001b[0m\u001b[0mbuffer\u001b[0m\u001b[1;33m(\u001b[0m\u001b[1;33m-\u001b[0m\u001b[1;36m2\u001b[0m\u001b[1;33m)\u001b[0m\u001b[1;33m\u001b[0m\u001b[1;33m\u001b[0m\u001b[0m\n\u001b[0m\u001b[0;32m      2\u001b[0m \u001b[0malpha_shape\u001b[0m\u001b[1;33m\u001b[0m\u001b[1;33m\u001b[0m\u001b[0m\n\u001b[0;32m      3\u001b[0m \u001b[0mfig\u001b[0m\u001b[1;33m,\u001b[0m \u001b[0max\u001b[0m \u001b[1;33m=\u001b[0m \u001b[0mplt\u001b[0m\u001b[1;33m.\u001b[0m\u001b[0msubplots\u001b[0m\u001b[1;33m(\u001b[0m\u001b[1;33m)\u001b[0m\u001b[1;33m\u001b[0m\u001b[1;33m\u001b[0m\u001b[0m\n\u001b[0;32m      4\u001b[0m \u001b[0max\u001b[0m\u001b[1;33m.\u001b[0m\u001b[0mscatter\u001b[0m\u001b[1;33m(\u001b[0m\u001b[1;33m*\u001b[0m\u001b[0mzip\u001b[0m\u001b[1;33m(\u001b[0m\u001b[1;33m*\u001b[0m\u001b[0mdf_points\u001b[0m\u001b[1;33m)\u001b[0m\u001b[1;33m)\u001b[0m\u001b[1;33m\u001b[0m\u001b[1;33m\u001b[0m\u001b[0m\n\u001b[0;32m      5\u001b[0m \u001b[0max\u001b[0m\u001b[1;33m.\u001b[0m\u001b[0madd_patch\u001b[0m\u001b[1;33m(\u001b[0m\u001b[0mPolygonPatch\u001b[0m\u001b[1;33m(\u001b[0m\u001b[0malpha_shape\u001b[0m\u001b[1;33m.\u001b[0m\u001b[0mbuffer\u001b[0m\u001b[1;33m(\u001b[0m\u001b[1;36m.5\u001b[0m\u001b[1;33m)\u001b[0m\u001b[1;33m,\u001b[0m \u001b[0malpha\u001b[0m\u001b[1;33m=\u001b[0m\u001b[1;36m0.2\u001b[0m\u001b[1;33m)\u001b[0m\u001b[1;33m)\u001b[0m\u001b[1;33m\u001b[0m\u001b[1;33m\u001b[0m\u001b[0m\n",
      "\u001b[1;31mNameError\u001b[0m: name 'alphashape' is not defined"
     ]
    }
   ],
   "source": [
    "alpha_shape = alphashape.alphashape(ccp, 1.).buffer(2).buffer(-2)\n",
    "alpha_shape\n",
    "fig, ax = plt.subplots()\n",
    "ax.scatter(*zip(*df_points))\n",
    "ax.add_patch(PolygonPatch(alpha_shape.buffer(.5), alpha=0.2))\n",
    "plt.show()"
   ]
  },
  {
   "cell_type": "code",
   "execution_count": null,
   "metadata": {},
   "outputs": [],
   "source": []
  }
 ],
 "metadata": {
  "kernelspec": {
   "display_name": "Python 3",
   "language": "python",
   "name": "python3"
  },
  "language_info": {
   "codemirror_mode": {
    "name": "ipython",
    "version": 3
   },
   "file_extension": ".py",
   "mimetype": "text/x-python",
   "name": "python",
   "nbconvert_exporter": "python",
   "pygments_lexer": "ipython3",
   "version": "3.6.8"
  },
  "orig_nbformat": 4
 },
 "nbformat": 4,
 "nbformat_minor": 2
}
