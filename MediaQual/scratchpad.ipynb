{
 "cells": [
  {
   "cell_type": "code",
   "execution_count": 9,
   "metadata": {},
   "outputs": [],
   "source": [
    "import os\n",
    "import sys\n",
    "import pandas as pd\n",
    "import xlrd"
   ]
  },
  {
   "cell_type": "code",
   "execution_count": 78,
   "metadata": {},
   "outputs": [
    {
     "name": "stderr",
     "output_type": "stream",
     "text": [
      "c:\\Users\\mtan\\AppData\\Local\\Programs\\Python\\Python36\\lib\\site-packages\\openpyxl\\reader\\workbook.py:118: UserWarning: Print area cannot be set to Defined name: Warpage!$1:$1048576.\n",
      "  warn(f\"Print area cannot be set to Defined name: {defn.value}.\")\n"
     ]
    }
   ],
   "source": [
    "dfmeas = pd.read_excel(r\"E:\\Scripting\\MACD\\MACD\\MediaQual\\samplekpi.xlsx\", sheet_name=\"Critical Dim\", \n",
    "                   engine='openpyxl', skiprows=5,nrows=30, usecols=list(range(0, 28)))\n",
    "dfspec= pd.read_excel(r\"E:\\Scripting\\MACD\\MACD\\MediaQual\\samplekpi.xlsx\", sheet_name=\"Critical Dim\", \n",
    "                   engine='openpyxl', header=2,nrows=3, usecols=list(range(0, 28)))\n",
    "dfmeas.columns = dfspec.columns"
   ]
  },
  {
   "cell_type": "code",
   "execution_count": 1,
   "metadata": {},
   "outputs": [
    {
     "name": "stdout",
     "output_type": "stream",
     "text": [
      "test commit\n"
     ]
    }
   ],
   "source": [
    "print(\"test commit\")"
   ]
  },
  {
   "cell_type": "markdown",
   "metadata": {},
   "source": [
    "df.columns = dfheader.columns"
   ]
  },
  {
   "cell_type": "code",
   "execution_count": null,
   "metadata": {},
   "outputs": [],
   "source": []
  }
 ],
 "metadata": {
  "kernelspec": {
   "display_name": "Python 3",
   "language": "python",
   "name": "python3"
  },
  "language_info": {
   "codemirror_mode": {
    "name": "ipython",
    "version": 3
   },
   "file_extension": ".py",
   "mimetype": "text/x-python",
   "name": "python",
   "nbconvert_exporter": "python",
   "pygments_lexer": "ipython3",
   "version": "3.6.8"
  },
  "orig_nbformat": 4
 },
 "nbformat": 4,
 "nbformat_minor": 2
}
