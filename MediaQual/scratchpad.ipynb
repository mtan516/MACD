{
 "cells": [
  {
   "cell_type": "code",
   "execution_count": 68,
   "metadata": {},
   "outputs": [],
   "source": [
    "import os\n",
    "import sys\n",
    "import pandas as pd\n",
    "import xlrd\n",
    "import win32com.client\n",
    "import csv\n",
    "\n"
   ]
  },
  {
   "cell_type": "code",
   "execution_count": 69,
   "metadata": {},
   "outputs": [
    {
     "name": "stderr",
     "output_type": "stream",
     "text": [
      "c:\\Users\\mtan\\AppData\\Local\\Programs\\Python\\Python36\\lib\\site-packages\\openpyxl\\reader\\workbook.py:118: UserWarning: Print area cannot be set to Defined name: Warpage!$1:$1048576.\n",
      "  warn(f\"Print area cannot be set to Defined name: {defn.value}.\")\n"
     ]
    }
   ],
   "source": [
    "# Parse Daewon Report\n",
    "dfmeas = pd.read_excel(\"samplekpi.xlsx\", sheet_name=\"Critical Dim\", \n",
    "                   engine='openpyxl', skiprows=5,nrows=30, usecols=list(range(0, 28)))\n",
    "dfspec= pd.read_excel(\"samplekpi.xlsx\", sheet_name=\"Critical Dim\", \n",
    "                   engine='openpyxl', header=2,nrows=3, usecols=list(range(0, 28)))\n",
    "dfmeas.columns = dfspec.columns"
   ]
  },
  {
   "cell_type": "code",
   "execution_count": 70,
   "metadata": {},
   "outputs": [],
   "source": [
    "# Parse Where Used\n",
    "# First fix wonky excel file\n",
    "inputwhereused = r\"E:\\Projects\\MACD-1\\MediaQual\\whereused.xlsx\"\n",
    "modwhereused = r\"E:\\Projects\\MACD-1\\MediaQual\\whereused_comsave.xlsx\"\n",
    "import win32com.client\n",
    "xl = win32com.client.DispatchEx(\"Excel.Application\")\n",
    "wb = xl.workbooks.open(inputwhereused)\n",
    "xl.DisplayAlerts = False\n",
    "wb.SaveAs(modwhereused, 51)\n",
    "xl.DisplayAlerts = True\n",
    "wb.Close()\n",
    "xl.Quit()\n",
    "# Load to pandas\n",
    "dfwhere = pd.read_excel(modwhereused, engine='openpyxl', sheet_name='Report', skiprows=5)#, skiprows=5,nrows=30, usecols=list(range(0, 28)))\n",
    "dfwhere = dfwhere.dropna(axis=0, how='any')\n",
    "dfwherebom = dfwhere[dfwhere['Item Type'].str.contains('UPI_')]\n",
    "bomlist = []\n",
    "bomlist = dfwherebom['Description'].str.slice(0, 8).unique()\n"
   ]
  },
  {
   "cell_type": "markdown",
   "metadata": {},
   "source": [
    "df.columns = dfheader.columns"
   ]
  },
  {
   "cell_type": "code",
   "execution_count": 73,
   "metadata": {},
   "outputs": [],
   "source": [
    "# save bom csv for pathfinder to digest\n",
    "with open('boms.csv', 'w', newline='') as csvfile:\n",
    "  writer = csv.writer(csvfile)\n",
    "  writer.writerow(\"BOM\")\n",
    "  for item in bomlist:\n",
    "    writer.writerow([item])"
   ]
  },
  {
   "cell_type": "code",
   "execution_count": null,
   "metadata": {},
   "outputs": [],
   "source": []
  }
 ],
 "metadata": {
  "kernelspec": {
   "display_name": "Python 3",
   "language": "python",
   "name": "python3"
  },
  "language_info": {
   "codemirror_mode": {
    "name": "ipython",
    "version": 3
   },
   "file_extension": ".py",
   "mimetype": "text/x-python",
   "name": "python",
   "nbconvert_exporter": "python",
   "pygments_lexer": "ipython3",
   "version": "3.6.8"
  },
  "orig_nbformat": 4
 },
 "nbformat": 4,
 "nbformat_minor": 2
}
